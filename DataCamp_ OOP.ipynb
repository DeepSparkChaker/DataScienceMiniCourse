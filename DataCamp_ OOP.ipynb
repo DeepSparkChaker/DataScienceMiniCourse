{
 "cells": [
  {
   "cell_type": "markdown",
   "metadata": {},
   "source": [
    "# OOP\n",
    "1. What is OOP?\n",
    "\n",
    "Hi! I'm Alex, and I'll be teaching you to think object-oriented!\n",
    "2. Procedural vs OOP\n",
    "\n",
    "Until now, you have probably been coding in so-called procedural style: your code was a sequence of steps to be carried out. This is common when doing data analysis: you download the data, process, and visualize it.\n",
    "3. Thinking in sequences\n",
    "\n",
    "Procedural thinking is natural. You get up, have breakfast, go to work. This sequential viewpoint works great if you are trying to plan your day. But if you are a city planner, you have to think about thousands of people with their own routines. Trying to map out a sequence of actions for each individual would quickly get unsustainable. Instead, you are likely to start thinking about patterns of behaviors. Same thing with code. The more data it uses, the more functionality it has, the harder it is to think about as just a sequence of steps.\n",
    "4. Procedural vs OOP\n",
    "\n",
    "Instead, we view it it as a collection of objects, and patterns of their interactions - like users interacting with elements of an interface. This point of view becomes invaluable when designing frameworks, like application program interfaces or graphical user interfaces, or building tools like pandas DataFrames! It will help you organize your code better, making it more reusable and maintainable.\n",
    "5. Objects as data structures\n",
    "\n",
    "The fundamental concepts of OOP are objects and classes. An object is a data structure incorporating information about state and behavior. For example, an object representing a customer can have a certain phone number and email associated with them, and behaviors like placeOrder or cancelOrder. An object representing a button on a website can have a label, and can triggerEvent when pressed. The distinctive feature of OOP is that state and behavior are bundled together: instead of thinking of customer data separately from customer actions, we think of them as one unit representing a customer. This is called encapsulation, and it's one of the core tenets of object-oriented programming.\n",
    "6. Classes as blueprints\n",
    "\n",
    "The real strength of OOP comes from utilizing classes. Classes are like blueprints for objects. They describe the possible states and behaviors that every object of a certain type could have. For example, if you say \"every customer will have a phone number and an email, and will be able to place and cancel orders\", you just defined a class! This way, you can talk about customers in a unified way.\n",
    "7. Classes as blueprints\n",
    "\n",
    "Then a specific Customer object is just a realization of this class with particular state values.\n",
    "8. Objects in Python\n",
    "\n",
    "In Python, everything is an object. Numbers, strings, DataFrames, even functions are objects. In particular, everything you deal with in Python has a class, a blueprint associated with it under the hood. The existence of these unified interfaces, is why you can use, for example, any DataFrame in the same way. You can call type() on any Python object to find out its class. For example, the class of a numpy array is actually called ndarray (for n-dimensional array).\n",
    "9. Attributes and methods\n",
    "\n",
    "Classes incorporate information about state and behavior. State information in Python is contained in attributes, and behavior information -- in methods. Take a numpy array: you've already been using some of its methods and attributes! For example, every numpy array has an attribute \"shape\" that you can access by specifying the name of the array, then dot, and shape. It also has methods, like max and reshape, which are also accessible via dot.\n",
    "10. Object = attributes + methods\n",
    "\n",
    "Attributes (or states) in Python objects are represented by variables -- like numbers, or strings, or tuples, in the case of the numpy array shape. Methods, or behaviors, are represented by functions. Both are accessible from an object using the dot syntax. You can list all the attributes and methods that an object has by calling dir() on it. For example here, we see that a numpy array has methods like trace and transpose. \n",
    "==> Classes and objects both have attributes and methods, but the difference is that a class is an abstract template, while an object is a concrete representation of a class.\n",
    "# Class anatomy: attributes and methods\n",
    "\n",
    "1. Class anatomy: attributes and methods\n",
    "\n",
    "Great job so far! Now that you know how to work with existing objects and classes, you'll learn how to create your own!\n",
    "2. A basic class\n",
    "\n",
    "To start a new class definition, all you need is a class statement, followed by the name of the class, followed by a colon. Everything in the indented block after will be considered a part of the class. You can create an \"empty\" class -- like a blank template -- by including the pass statement after the class declaration. Even though this class is empty, we can already create objects of the class by specifying the name of the class, followed by parentheses. Here, c1 and c2 are two different objects of the empty class Customer. We want to create objects that actually store data and operate on it -- in other words have attributes and methods.\n",
    "3. Add methods to a class\n",
    "\n",
    "Defining a method is is simple. Methods are functions, so the definition of a method looks just like a regular Python function, with one exception: the special self argument that every method will have as the first argument, possibly followed by other arguments. We'll get back to self in a minute, first let's see how this works. Here we defined a method \"identify\" for the Customer class that takes self and a name as a parameter and prints \"I am Customer\" plus name when called. We create a new customer object, call the method by using object-dot-method syntax and pass the desired name, and get the output. Note that name was the second parameter in the method definition, but it is the first parameter when the method is called. The mysterious self is not needed the method call.\n",
    "4. What is self?\n",
    "\n",
    "So what was that self? Classes are templates. Objects of a class don't yet exist when a class is being defined, but we often need a way to refer to the data of a particular object within class definition. That is the purpose of self - it's a stand-in for the future object. That's why every method should have the self argument -- so we could use it to access attributes and call other methods from within the class definition even when no objects were created yet. Python will handle self when the method is called from an object using the dot syntax. In fact, using object-dot-method is equivalent to passing that object as an argument. That's why we don't specify it explicitly when calling the method from an existing object.\n",
    "5. We need attributes\n",
    "\n",
    "By the principles of OOP, the data describing the state of the object should be bundled into the object. For example, customer name should be an attribute of a customer object, instead of a parameter passed to a method. In Python attributes -- like variables -- are created by assignment, meaning an attribute manifests into existence only when a value is assigned to it.\n",
    "6. Add an attribute to class\n",
    "\n",
    "Here is a method set_name with arguments self (every method should have a self argument) and new_name. To create an attribute of the Customer class called \"name\", all we need to do is to assign something to self-dot-name. Remember, self is a stand-in for object, so self-dot-attribute should remind you of the object-dot-attribute syntax. Here, we set the name attribute to the new_name parameter of the function. When we create a customer, it does not yet have a name attribute. But after the set_name method was called, the name attribute is created, and we can access it through dot-name.\n",
    "7. Using attributes in class definition\n",
    "\n",
    "Equipped with the name attribute, now we can improve our identification method! Instead of passing name as a parameter, we will use the data already stored in the name attribute of the customer class. We remove the name parameter from the identify method, and replace it with self-dot-name in the printout, which, via self, will pull the name attribute from the object that called the method. Now the identify function will only use the data that is encapsulated in the object, instead of using whatever we passed to it. \n"
   ]
  },
  {
   "cell_type": "code",
   "execution_count": 2,
   "metadata": {},
   "outputs": [
    {
     "name": "stdout",
     "output_type": "stream",
     "text": [
      "Korel Rossi\n",
      "0\n"
     ]
    }
   ],
   "source": [
    "class Employee:\n",
    "    # Create __init__() method\n",
    "    def __init__(self, name, salary):\n",
    "        # Create the name and salary attributes\n",
    "        self.name= name\n",
    "        self.salary=0\n",
    "    \n",
    "    # From the previous lesson\n",
    "    def give_raise(self, amount):\n",
    "        self.salary += amount\n",
    "\n",
    "    def monthly_salary(self):\n",
    "        return self.salary/12\n",
    "        \n",
    "emp = Employee(\"Korel Rossi\",0)\n",
    "print(emp.name)\n",
    "print(emp.salary)     "
   ]
  },
  {
   "cell_type": "code",
   "execution_count": 3,
   "metadata": {},
   "outputs": [
    {
     "name": "stdout",
     "output_type": "stream",
     "text": [
      "300\n"
     ]
    }
   ],
   "source": [
    "emp.give_raise(300)\n",
    "print(emp.salary)  "
   ]
  },
  {
   "cell_type": "code",
   "execution_count": 4,
   "metadata": {},
   "outputs": [
    {
     "name": "stdout",
     "output_type": "stream",
     "text": [
      "Invalid salary!\n",
      "Korel Rossi\n",
      "0\n"
     ]
    }
   ],
   "source": [
    "class Employee:\n",
    "  \n",
    "    def __init__(self, name, salary=0):\n",
    "        self.name = name\n",
    "        # Modify code below to check if salary is positive\n",
    "        if salary>0:\n",
    "            self.salary = salary \n",
    "        else :\n",
    "            self.salary = 0 \n",
    "            print(\"Invalid salary!\")\n",
    "   # ...Other methods omitted for brevity ...\n",
    "      \n",
    "emp = Employee(\"Korel Rossi\", -1000)\n",
    "print(emp.name)\n",
    "print(emp.salary)"
   ]
  },
  {
   "cell_type": "code",
   "execution_count": 5,
   "metadata": {},
   "outputs": [
    {
     "name": "stdout",
     "output_type": "stream",
     "text": [
      "Invalid salary!\n",
      "Korel Rossi\n",
      "0\n",
      "2021-01-07 11:51:01.354590\n"
     ]
    }
   ],
   "source": [
    "# Import datetime from datetime\n",
    "from datetime import datetime\n",
    "\n",
    "class Employee:\n",
    "    \n",
    "    def __init__(self, name, salary=0,hire_date='21/2/2020'):\n",
    "        self.name = name\n",
    "        if salary > 0:\n",
    "            self.salary = salary\n",
    "        else:\n",
    "            self.salary = 0\n",
    "            print(\"Invalid salary!\")\n",
    "          \n",
    "        # Add the hire_date attribute and set it to today's date\n",
    "        self.hire_date=datetime.today()\n",
    "   # ...Other methods omitted for brevity ...\n",
    "      \n",
    "emp = Employee(\"Korel Rossi\", -1000)\n",
    "print(emp.name)\n",
    "print(emp.salary)\n",
    "print(emp.hire_date)"
   ]
  },
  {
   "cell_type": "markdown",
   "metadata": {},
   "source": [
    "# Function Decorator\n",
    "\n",
    "A decorator is a function that takes a function as its only parameter and returns a function. This is helpful to “wrap” functionality with the same code over and over again. For example, above code can be re-written as following.\n",
    "\n",
    "We use @func_name to specify a decorator to be applied on another function."
   ]
  },
  {
   "cell_type": "code",
   "execution_count": 6,
   "metadata": {},
   "outputs": [
    {
     "name": "stdout",
     "output_type": "stream",
     "text": [
      "Something is happening before the function is called.\n",
      "Whee!\n",
      "Something is happening after the function is called.\n"
     ]
    }
   ],
   "source": [
    "def my_decorator(func):\n",
    "    def wrapper():\n",
    "        print(\"Something is happening before the function is called.\")\n",
    "        func()\n",
    "        print(\"Something is happening after the function is called.\")\n",
    "    return wrapper\n",
    "\n",
    "@my_decorator\n",
    "def say_whee():\n",
    "    print(\"Whee!\")\n",
    "say_whee1 = say_whee()\n",
    "say_whee1"
   ]
  },
  {
   "cell_type": "code",
   "execution_count": 7,
   "metadata": {},
   "outputs": [
    {
     "name": "stdout",
     "output_type": "stream",
     "text": [
      "3628800\n",
      "Total time taken in :  factorial 2.002396821975708\n"
     ]
    }
   ],
   "source": [
    "# importing libraries \n",
    "import time \n",
    "import math \n",
    "\n",
    "# decorator to calculate duration \n",
    "# taken by any function. \n",
    "def calculate_time(func): \n",
    "\t\n",
    "\t# added arguments inside the inner1, \n",
    "\t# if function takes any arguments, \n",
    "\t# can be added like this. \n",
    "\tdef inner1(*args, **kwargs): \n",
    "\n",
    "\t\t# storing time before function execution \n",
    "\t\tbegin = time.time() \n",
    "\t\t\n",
    "\t\tfunc(*args, **kwargs) \n",
    "\n",
    "\t\t# storing time after function execution \n",
    "\t\tend = time.time() \n",
    "\t\tprint(\"Total time taken in : \", func.__name__, end - begin) \n",
    "\n",
    "\treturn inner1 \n",
    "\n",
    "# this can be added to any function present, \n",
    "# in this case to calculate a factorial \n",
    "@calculate_time\n",
    "def factorial(num): \n",
    "\n",
    "\t# sleep 2 seconds because it takes very less time \n",
    "\t# so that you can see the actual difference \n",
    "\ttime.sleep(2) \n",
    "\tprint(math.factorial(num)) \n",
    "\n",
    "# calling the function. \n",
    "factorial(10) \n"
   ]
  },
  {
   "cell_type": "code",
   "execution_count": 8,
   "metadata": {},
   "outputs": [
    {
     "name": "stdout",
     "output_type": "stream",
     "text": [
      "<p>John Doe</p>\n"
     ]
    }
   ],
   "source": [
    "class Person(object):\n",
    "    def __init__(self):\n",
    "        self.name = \"John\"\n",
    "        self.family = \"Doe\"\n",
    "    def p_decorate(func):\n",
    "        def func_wrapper(self):\n",
    "            return \"<p>{0}</p>\".format(func(self))\n",
    "        return func_wrapper\n",
    "    @p_decorate\n",
    "    def get_fullname(self):\n",
    "        return self.name+\" \"+self.family\n",
    "\n",
    "my_person = Person()\n",
    "print(my_person.get_fullname())"
   ]
  },
  {
   "cell_type": "code",
   "execution_count": 9,
   "metadata": {},
   "outputs": [
    {
     "name": "stdout",
     "output_type": "stream",
     "text": [
      "Welcome to GeeksforGeeks\n"
     ]
    }
   ],
   "source": [
    "# Adds a welcome message to the string \n",
    "# returned by fun(). Takes fun() as \n",
    "# parameter and returns welcome(). \n",
    "def decorate_message(fun): \n",
    "  \n",
    "    # Nested function \n",
    "    def addWelcome(site_name): \n",
    "        return \"Welcome to \" + fun(site_name) \n",
    "  \n",
    "    # Decorator returns a function \n",
    "    return addWelcome \n",
    "  \n",
    "@decorate_message\n",
    "def site(site_name): \n",
    "    return site_name; \n",
    "  \n",
    "# Driver code \n",
    "  \n",
    "# This call is equivalent to call to \n",
    "# decorate_message() with function \n",
    "# site(\"GeeksforGeeks\") as parameter \n",
    "print (site(\"GeeksforGeeks\") )"
   ]
  },
  {
   "cell_type": "markdown",
   "metadata": {},
   "source": [
    "1. Instance and class data\n",
    "\n",
    "Congratulations! Now you know the basics of creating classes. You might be asking: classes are neat, but how exactly do they help me make my code better? In this chapter, you'll learn about\n",
    "2. Core principles of OOP\n",
    "\n",
    "namely, Inheritance and Polymorphism, that, together with encapsulation, form the core principles of OOP. But before we get into it,\n",
    "3. Instance-level data\n",
    "\n",
    "you need to learn how to distinguish between instance-level data and class level data. Remember the employee class you defined in the previous chapter. It had attributes like name and salary, and we were able to assign specific values to them for each new instance of the class. These were instance attributes. We used self to bind them to a particular instance.\n",
    "4. Class-level data\n",
    "\n",
    "But what if you needed to store some data that is shared among all the instances of a class? For example, if you wanted to introduce a minimal salary across the entire organization. That data should not differ among object instances. Then, you can define an attribute directly in the class body. This will create a class attribute, that will serve as a \"global variable\" within a class. For example,\n",
    "5. Class-level data\n",
    "\n",
    "we can define min_salary, and set it to 30000. We can use this attribute inside the class like we would use any global variable, only prepended by the class name: for example, here we check if the value of salary attribute is greater than MIN_SALARY in the init method. Note that we do not use self to define the attribute, and we use the class name instead of self when referring to the attribute.\n",
    "6. Class-level data\n",
    "\n",
    "This min_salary variable will be shared among all the instances of the employee class. We can access it like any other attribute from an object instance, and the value will be the same across instances. Here we print the MIN_SALARY class attribute from two employee objects.\n",
    "7. Why use class attributes?\n",
    "\n",
    "So, the main use case for class attributes is global constants that are related to class, for example min/max values for attributes -- like the min_salary example -- or commonly used values: for example,if you were defining a Circle class, you could store pi as a class attribute.\n",
    "8. Class methods\n",
    "\n",
    "What about methods? Regular methods are already shared between instances: the same code gets executed for every instance. The only difference is the data that is fed into it. It is possible to define methods bound to class rather than an instance, but they have a narrow application scope, because these methods will not be able to use any instance-level data. To define a class method, you start with a classmethod decorator, followed by a method definition. The only difference is that now the first argument is not self, but cls, referring to the class, just like the self argument was a reference to a particular instance. Then you write it as any other function, keeping in mind that you can't refer to any instance attributes in that method. To call a class method, we use class-dot-method syntax, rather than object-dot-method syntax.\n",
    "9. Alternative constructors\n",
    "\n",
    "So why would we ever need class methods at all? The main use case is alternative constructors. A class can only have one init method, but there might be multiple ways to initialize an object. For example, we might want to create an Employee object from data stored in a file. We can't use a method, because it would require an instance, and there isn't one yet! Here we introduce a class method from_file that accepts a file name, reads the first line from the file that presumably contains the name of the employee, and returns an object instance. In the return statement, we use the cls variable -- remember that now cls refers to the class, so this will call the init constructor, just like using Employee with parentheses would when used outside the class definition.\n",
    "10. Alternative constructors\n",
    "\n",
    "Then we can call the method from_file by using class-dot-method syntax, which will create an employee object without explicitly calling the constructor.\n",
    "11. Let's practice!\n",
    "\n",
    "That was a lot! Now head over to the exercises to practice. \n",
    "# Class-level attributes\n",
    "\n",
    "Class attributes store data that is shared among all the class instances. They are assigned values in the class body, and are referred to using the ClassName. syntax rather than self. syntax when used in methods.\n",
    "\n",
    "In this exercise, you will be a game developer working on a game that will have several players moving on a grid and interacting with each other. As the first step, you want to define a Player class that will just move along a straight line. Player will have a position attribute and a move() method. The grid is limited, so the position of Player will have a maximal value."
   ]
  },
  {
   "cell_type": "code",
   "execution_count": 10,
   "metadata": {},
   "outputs": [
    {
     "name": "stdout",
     "output_type": "stream",
     "text": [
      "10\n",
      "3628800\n",
      "Total time taken in :  factorial 2.002289295196533\n",
      "10\n"
     ]
    }
   ],
   "source": [
    "# Create a Player class\n",
    "class Player:\n",
    "    MAX_POSITION = 10\n",
    "    \n",
    "    def __init__(self):\n",
    "        self.position = 0\n",
    "\n",
    "# Print Player.MAX_POSITION  \n",
    "print(Player.MAX_POSITION)   \n",
    "\n",
    "# Create a player p and print its MAX_POSITITON\n",
    "p = Player()# importing libraries \n",
    "import time \n",
    "import math \n",
    "\n",
    "# decorator to calculate duration \n",
    "# taken by any function. \n",
    "def calculate_time(func): \n",
    "\t\n",
    "\t# added arguments inside the inner1, \n",
    "\t# if function takes any arguments, \n",
    "\t# can be added like this. \n",
    "\tdef inner1(*args, **kwargs): \n",
    "\n",
    "\t\t# storing time before function execution \n",
    "\t\tbegin = time.time() \n",
    "\t\t\n",
    "\t\tfunc(*args, **kwargs) \n",
    "\n",
    "\t\t# storing time after function execution \n",
    "\t\tend = time.time() \n",
    "\t\tprint(\"Total time taken in : \", func.__name__, end - begin) \n",
    "\n",
    "\treturn inner1 \n",
    "\n",
    "\n",
    "\n",
    "# this can be added to any function present, \n",
    "# in this case to calculate a factorial \n",
    "@calculate_time\n",
    "def factorial(num): \n",
    "\n",
    "\t# sleep 2 seconds because it takes very less time \n",
    "\t# so that you can see the actual difference \n",
    "\ttime.sleep(2) \n",
    "\tprint(math.factorial(num)) \n",
    "\n",
    "# calling the function. \n",
    "factorial(10) \n",
    "\n",
    "print(p.MAX_POSITION)"
   ]
  },
  {
   "cell_type": "code",
   "execution_count": 11,
   "metadata": {},
   "outputs": [
    {
     "name": "stdout",
     "output_type": "stream",
     "text": [
      "|----------\n",
      "----|------\n",
      "---------|-\n",
      "----------|\n"
     ]
    }
   ],
   "source": [
    "class Player:\n",
    "    MAX_POSITION = 10\n",
    "    MAX_SPEED= 3\n",
    "    def __init__(self):\n",
    "        self.position = 0\n",
    "\n",
    "    # Add a move() method with steps parameter     \n",
    "    def move(self, steps):\n",
    "        if self.position + steps < Player.MAX_POSITION:\n",
    "           self.position = self.position + steps \n",
    "        else:\n",
    "           self.position = Player.MAX_POSITION\n",
    "    \n",
    "    # This method provides a rudimentary visualization in the console    \n",
    "    def draw(self):\n",
    "        drawing = \"-\" * self.position + \"|\" +\"-\"*(Player.MAX_POSITION - self.position)\n",
    "        print(drawing)\n",
    "\n",
    "p = Player(); p.draw()\n",
    "p.move(4); p.draw()\n",
    "p.move(5); p.draw()\n",
    "p.move(3); p.draw()"
   ]
  },
  {
   "cell_type": "code",
   "execution_count": null,
   "metadata": {},
   "outputs": [],
   "source": []
  },
  {
   "cell_type": "code",
   "execution_count": 36,
   "metadata": {},
   "outputs": [
    {
     "name": "stdout",
     "output_type": "stream",
     "text": [
      "MAX_SPEED of p1 and p2 before assignment:\n",
      "3\n",
      "3\n",
      "MAX_SPEED of p1 and p2 after assignment:\n",
      "7\n",
      "3\n",
      "MAX_SPEED of Player:\n",
      "3\n"
     ]
    }
   ],
   "source": [
    "# Create Players p1 and p2\n",
    "p1= Player()\n",
    "p2= Player()\n",
    "\n",
    "print(\"MAX_SPEED of p1 and p2 before assignment:\")\n",
    "# Print p1.MAX_SPEED and p2.MAX_SPEED\n",
    "print(p1.MAX_SPEED)\n",
    "print(p2.MAX_SPEED)\n",
    "\n",
    "# Assign 7 to p1.MAX_SPEED\n",
    "p1.MAX_SPEED= 7\n",
    "print(\"MAX_SPEED of p1 and p2 after assignment:\")\n",
    "# Print p1.MAX_SPEED and p2.MAX_SPEED\n",
    "print(p1.MAX_SPEED)\n",
    "print(p2.MAX_SPEED)\n",
    "print(\"MAX_SPEED of Player:\")\n",
    "# Print Player.MAX_SPEED\n",
    "print(Player.MAX_SPEED)"
   ]
  },
  {
   "cell_type": "markdown",
   "metadata": {},
   "source": [
    "\n",
    "\n",
    "Even though MAX_SPEED is shared across instances, assigning 7 to p1.MAX_SPEED didn't change the value of MAX_SPEED in p2, or in the Player class.\n",
    "\n",
    "So what happened? In fact, Python created a new instance attribute in p1, also called it MAX_SPEED, and assigned 7 to it, without touching the class attribute.\n",
    "\n",
    "Now let's change the class attribute value for real.\n",
    "\n",
    "    Modify the assignment to assign 7 to Player.MAX_SPEED instead.\n"
   ]
  },
  {
   "cell_type": "code",
   "execution_count": 37,
   "metadata": {},
   "outputs": [
    {
     "name": "stdout",
     "output_type": "stream",
     "text": [
      "MAX_SPEED of p1 and p2 before assignment:\n",
      "3\n",
      "3\n",
      "MAX_SPEED of p1 and p2 after assignment:\n",
      "7\n",
      "7\n",
      "MAX_SPEED of Player:\n",
      "7\n"
     ]
    }
   ],
   "source": [
    "# Create Players p1 and p2\n",
    "p1, p2 = Player(), Player()\n",
    "\n",
    "print(\"MAX_SPEED of p1 and p2 before assignment:\")\n",
    "# Print p1.MAX_SPEED and p2.MAX_SPEED\n",
    "print(p1.MAX_SPEED)\n",
    "print(p2.MAX_SPEED)\n",
    "\n",
    "# ---MODIFY THIS LINE--- \n",
    "Player.MAX_SPEED = 7\n",
    "\n",
    "print(\"MAX_SPEED of p1 and p2 after assignment:\")\n",
    "# Print p1.MAX_SPEED and p2.MAX_SPEED\n",
    "print(p1.MAX_SPEED)\n",
    "print(p2.MAX_SPEED)\n",
    "\n",
    "print(\"MAX_SPEED of Player:\")\n",
    "# Print Player.MAX_SPEED\n",
    "print(Player.MAX_SPEED)"
   ]
  },
  {
   "cell_type": "markdown",
   "metadata": {},
   "source": [
    "Not obvious, right? But it makes sense, when you think about it! You shouldn't be able to change the data in all the instances of the class through a single instance. Imagine if you could change the time on all the computers in the world by changing the time on your own computer! If you want to change the value of the class attribute at runtime, you need to do it by referring to the class name, not through an instance."
   ]
  },
  {
   "cell_type": "markdown",
   "metadata": {},
   "source": [
    "# Alternative constructors\n",
    "\n",
    "Python allows you to define class methods as well, using the @classmethod decorator and a special first argument cls. The main use of class methods is defining methods that return an instance of the class, but aren't using the same code as __init__().\n",
    "\n",
    "For example, you are developing a time series package and want to define your own class for working with dates, BetterDate. The attributes of the class will be year, month, and day. You want to have a constructor that creates BetterDate objects given the values for year, month, and day, but you also want to be able to create BetterDate objects from strings like 2020-04-30.\n",
    "\n",
    "You might find the following functions useful:\n",
    "\n",
    "    .split(\"-\") method will split a string at\"-\" into an array, e.g. \"2020-04-30\".split(\"-\") returns [\"2020\", \"04\", \"30\"],\n",
    "    int() will convert a string into a number, e.g. int(\"2019\") is 2019 .\n",
    "# Class Method\n",
    "\n",
    "The @classmethod decorator, is a builtin function decorator that is an expression that gets evaluated after your function is defined. The result of that evaluation shadows your function definition.\n",
    "A class method receives the class as implicit first argument, just like an instance method receives the instance\n",
    "Syntax:\n",
    "\n",
    "    class C(object):\n",
    "        @classmethod\n",
    "        def fun(cls, arg1, arg2, ...):\n",
    "        \n",
    "       ....\n",
    "fun: function that needs to be converted into a class method\n",
    "returns: a class method for function.\n",
    "\n",
    "A class method is a method which is bound to the class and not the object of the class.\n",
    "\n",
    "They have the access to the state of the class as it takes a class parameter that points to the class and not the object instance.\n",
    "\n",
    "It can modify a class state that would apply across all the instances of the class. For example it can modify a class variable that will be applicable to all the instances.\n",
    "\n",
    "# Static Method\n",
    "\n",
    "A static method does not receive an implicit first argument.\n",
    "\n",
    "Syntax:\n",
    "\n",
    "    class C(object):\n",
    "\n",
    "       @staticmethod\n",
    "    \n",
    "       def fun(arg1, arg2, ...):\n",
    "    \n",
    "        ...\n",
    "returns: a static method for function fun.\n",
    "\n",
    "A static method is also a method which is bound to the class and not the object of the class.\n",
    "\n",
    "A static method can’t access or modify class state.\n",
    "\n",
    "It is present in a class because it makes sense for the method to be present in class.\n",
    "\n",
    "Class method vs Static Method\n",
    "\n",
    "\n",
    "\n",
    "\n",
    "\n",
    "A class method takes cls as first parameter while a static method needs no specific parameters.\n",
    "\n",
    "A class method can access or modify class state while a static method can’t access or modify it.\n",
    "\n",
    "In general, static methods know nothing about class state. They are utility type methods that take some parameters and work upon those parameters. \n",
    "\n",
    "On the other hand class methods must have class as parameter.\n",
    "\n",
    "We use @classmethod decorator in python to create a class method and we use @staticmethod decorator to create a static method in python.\n",
    "\n",
    "When to use what?\n",
    "\n",
    "\n",
    "We generally use class method to create factory methods. Factory methods return class object ( similar to a \n",
    "constructor ) for different use cases.\n",
    "\n",
    "We generally use static methods to create utility functions.\n",
    "\n",
    "\n",
    "*args and *kwargs are special keyword which allows function to take variable length argument.\n",
    "\n",
    "*args passes variable number of non-keyworded arguments list and on which operation of the list can be performed.\n",
    "\n",
    "**kwargs passes variable number of keyword arguments dictionary to function on which operation of a dictionary can be performed.\n",
    "\n",
    "*args and **kwargs make the function flexible."
   ]
  },
  {
   "cell_type": "code",
   "execution_count": 25,
   "metadata": {},
   "outputs": [
    {
     "name": "stdout",
     "output_type": "stream",
     "text": [
      "2020\n",
      "4\n",
      "30\n"
     ]
    }
   ],
   "source": [
    "class BetterDate:    \n",
    "    # Constructor\n",
    "    def __init__(self, year, month, day):\n",
    "      # Recall that Python allows multiple variable assignments in one line\n",
    "      self.year, self.month, self.day = year, month, day\n",
    "    \n",
    "    # Define a class method from_str\n",
    "    @classmethod\n",
    "    def from_str(cls, datestr):\n",
    "        # Split the string at \"-\" and convert each part to integer\n",
    "        parts = datestr.split(\"-\")\n",
    "        year, month, day = int(parts[0]),int(parts[1]), int(parts[2])\n",
    "        # Return the class instance\n",
    "        return cls(year, month, day )\n",
    "        \n",
    "bd = BetterDate.from_str('2020-04-30')   \n",
    "print(bd.year)\n",
    "print(bd.month)\n",
    "print(bd.day)"
   ]
  },
  {
   "cell_type": "code",
   "execution_count": 26,
   "metadata": {},
   "outputs": [
    {
     "name": "stdout",
     "output_type": "stream",
     "text": [
      "2021\n",
      "1\n",
      "6\n"
     ]
    }
   ],
   "source": [
    "# import datetime from datetime\n",
    "from datetime import datetime\n",
    "\n",
    "class BetterDate:\n",
    "    def __init__(self, year, month, day):\n",
    "        self.year, self.month, self.day = year, month, day\n",
    "      \n",
    "    @classmethod\n",
    "    def from_str(cls, datestr):\n",
    "        year, month, day = map(int, datestr.split(\"-\"))\n",
    "        return cls(year, month, day)\n",
    "      \n",
    "    # Define a class method from_datetime accepting a datetime object\n",
    "    @classmethod\n",
    "    def from_datetime(cls, datetime):\n",
    "        year, month, day = datetime.year, datetime.month,datetime.day\n",
    "        return cls(year, month, day)\n",
    "# You should be able to run the code below with no errors: \n",
    "today = datetime.today()     \n",
    "bd = BetterDate.from_datetime(today)   \n",
    "print(bd.year)\n",
    "print(bd.month)\n",
    "print(bd.day)"
   ]
  },
  {
   "cell_type": "markdown",
   "metadata": {},
   "source": [
    "Great work on those class methods! There's another type of methods that are not bound to a class instance - static methods, defined with the decorator @staticmethod. They are mainly used for helper or utility functions that could as well live outside of the class, but make more sense when bundled into the class\n",
    "1. Class inheritance\n",
    "\n",
    "Welcome back! Now that you got the basics of classes and instances down, we'll get to the essence of OOP.\n",
    "2. Code reuse\n",
    "\n",
    "Object-oriented programming is fundamentally about code reuse. There are millions of people out there writing code, so there's a good chance\n",
    "3. Code reuse\n",
    "\n",
    "that someone has already written code that solves a part of your problem! Modules like numpy or pandas are a great tool that allows you to use code written by other programmers. But what if that code doesn't match your needs exactly? For example, you might want to modify the to_csv method of a pandas DataFrame to adjust the output format. You could do that by importing pandas and writing a new function, but it will not be integrated into the DataFrame interface. OOP will allow you to keep interface consistent while customizing functionality.\n",
    "4. Code reuse\n",
    "\n",
    "You will also often find yourself reusing your own code over and over. For example, when building a website with a lot of graphical elements like buttons and check boxes, no matter what the element is, the basic functionality is the same: you need to be able to draw it and click on it. There are a few details that differ based on the type of the element, but a lot of the code will be the repeated. Should you copy-paste the basic code for draw and click for every new element?\n",
    "5. Code reuse\n",
    "\n",
    "Wouldn't it be better to have a general data structure like GUIelement that implements the basic draw and click functionality only once?\n",
    "6. Inheritance\n",
    "\n",
    "We can accomplish this with inheritance. Class inheritance is mechanism by which we can define a new class that gets all the the functionality of another class plus maybe something extra without re-implementing the code.\n",
    "7. Example hierarchy\n",
    "\n",
    "Let's say you have a basic bank account class that has a balance attribute and a withdraw method. In your company, you work with several types of accounts.\n",
    "8. Example hierarchy\n",
    "\n",
    "For example, a SavingsAccount also has an interest rate and a method to compute interest, but it will also still have a balance, and you definitely should be able to withdraw from it. By inheriting methods and attributes of SavingsAccount from BankAccount, you'll be able to reuse the code you already wrote for the BankAccount class.\n",
    "9. Example hierarchy\n",
    "\n",
    "You could have a CheckingAccount class, that also has a balance, and a withdraw method, but maybe that method is slightly different:\n",
    "10. Example hierarchy\n",
    "\n",
    "it modifies the amount to be withdrawn to include a fee. With inheritance, we'll be able to customize the withdraw method to first adjust the amount if necessary, and then use the method from the BankAccount class -- again, without rewriting it.\n",
    "11. Implementing class inheritance\n",
    "\n",
    "How do we implement this? Declaring a class that inherits from another class is very straightforward: you simply add parentheses after the class name, and then specify the class to inherit from. Here, we define a rudimentary BankAccount class and a seemingly empty SavingsAccount class inherited from it.\n",
    "12. Child class has all of the the parent data\n",
    "\n",
    "\"Seemingly\" because SavingsAccount actually has exactly as much in it as the BankAccount class. For example, we can create an object -- even though we did not define a constructor -- and we can access the balance attribute and the withdraw method from the instance of SavingsAccount, even though these features weren't defined in the new class.\n",
    "13. Inheritance: \"is-a\" relationship\n",
    "\n",
    "That's because inheritance represents \"is-a\" relationship: a savings account is a bank account, just with some extra features. This isn't just theoretical -- that's how Python treats it as well. Calling isinstance function on a savingsaccount object shows that Python treats it like an instance of both savingsaccount and BankAccount classes, which is not the case for a generic BankAccount object. Right now, though, this class doesn't have anything that the original account class did not have. \n",
    "# Understanding inheritance\n",
    "\n",
    "Inheritance is a powerful tool of object-oriented languages that allows you to customize functionality of existing classes without having to re-implement methods from scratch.\n",
    "\n",
    "In this exercise you'll check your understanding of the basics of inheritance. In the questions, we'll make use of the following two classes:\n",
    "\n",
    "class Counter:\n",
    "    def __init__(self, count):\n",
    "       self.count = count\n",
    "\n",
    "    def add_counts(self, n):\n",
    "       self.count += n\n",
    "\n",
    "class Indexer(Counter):\n",
    "   pass\n",
    "# Create a subclass\n",
    "\n",
    "The purpose of child classes -- or sub-classes, as they are usually called - is to customize and extend functionality of the parent class.\n",
    "\n",
    "Recall the Employee class from earlier in the course. In most organizations, managers enjoy more privileges and more responsibilities than a regular employee. So it would make sense to introduce a Manager class that has more functionality than Employee.\n",
    "\n",
    "But a Manager is still an employee, so the Manager class should be inherited from the Employee class.\n",
    "\n",
    "    Add an empty Manager class that is inherited from Employee.\n",
    "    Create an object mng of the Manager class with the name Debbie Lashko and salary 86500.\n",
    "    Print the name of mng.\n"
   ]
  },
  {
   "cell_type": "code",
   "execution_count": 39,
   "metadata": {},
   "outputs": [
    {
     "name": "stdout",
     "output_type": "stream",
     "text": [
      "Debbue lashlko\n"
     ]
    }
   ],
   "source": [
    "class Employee:\n",
    "  MIN_SALARY = 30000    \n",
    "\n",
    "  def __init__(self, name, salary=MIN_SALARY):\n",
    "      self.name = name\n",
    "      if salary >= Employee.MIN_SALARY:\n",
    "        self.salary = salary\n",
    "      else:\n",
    "        self.salary = Employee.MIN_SALARY\n",
    "        \n",
    "  def give_raise(self, amount):\n",
    "      self.salary += amount      \n",
    "        \n",
    "# Define a new class Manager inheriting from Employee\n",
    "class Manager(Employee):\n",
    "  pass\n",
    "\n",
    "# Define a Manager object\n",
    "mng = Manager('Debbue lashlko', 86500)\n",
    "\n",
    "# Print mng's name\n",
    "print(mng.name)"
   ]
  },
  {
   "cell_type": "markdown",
   "metadata": {},
   "source": [
    "# Create a subclass\n",
    "\n",
    "The purpose of child classes -- or sub-classes, as they are usually called - is to customize and extend functionality of the parent class.\n",
    "\n",
    "Recall the Employee class from earlier in the course. In most organizations, managers enjoy more privileges and more responsibilities than a regular employee. So it would make sense to introduce a Manager class that has more functionality than Employee.\n",
    "\n",
    "But a Manager is still an employee, so the Manager class should be inherited from the Employee class."
   ]
  },
  {
   "cell_type": "code",
   "execution_count": 42,
   "metadata": {},
   "outputs": [
    {
     "name": "stdout",
     "output_type": "stream",
     "text": [
      "Debbie Lashko\n",
      "Manager  Debbie Lashko\n"
     ]
    }
   ],
   "source": [
    "class Employee:\n",
    "    MIN_SALARY = 30000    \n",
    "\n",
    "    def __init__(self, name, salary=MIN_SALARY):\n",
    "        self.name = name\n",
    "        if salary >= Employee.MIN_SALARY:\n",
    "            self.salary = salary\n",
    "        else:\n",
    "            self.salary = Employee.MIN_SALARY\n",
    "        \n",
    "    def give_raise(self, amount):\n",
    "        self.salary += amount\n",
    "\n",
    "        \n",
    "# MODIFY Manager class and add a display method\n",
    "class Manager(Employee):\n",
    "    def display(self):\n",
    "        print(\"Manager \", self.name)\n",
    "\n",
    "\n",
    "mng = Manager(\"Debbie Lashko\", 86500)\n",
    "print(mng.name)\n",
    "\n",
    "# Call mng.display()\n",
    "mng.display()"
   ]
  },
  {
   "cell_type": "markdown",
   "metadata": {},
   "source": [
    "Excellent! You already started customizing! The Manager class now includes functionality that wasn't present in the original class (the display() function) in addition to all the functionality of the Employee class. Notice that there wasn't anything special about adding this new method.\n",
    "# Customizing functionality via inheritance\n",
    "1. Customizing functionality via inheritance\n",
    "\n",
    "Great job so far! In the previous video, you learned that inheritance allows us to encode is-a relationships between classes.\n",
    "2. Hierarchy\n",
    "\n",
    "For example, a SavingsAccount is a special kind of BankAccount that has all the bankaccount functionality, but also contains additional properties like an interest rate and a method to compute interest.\n",
    "3. What we have so far\n",
    "\n",
    "Here's where we stopped in the last video. We could already create SavingsAccount objects, but they did not have any functionality that bank account did not have. Let's start customization by\n",
    "4. Customizing constructors\n",
    "\n",
    "adding a constructor specifically for SavingsAccount. It will take a balance parameter, just like BankAccount, and an additional interest_rate parameter. In that constructor, we first run the code for creating a generic bankaccount by explicitly calling the init method of the bankAccount class. Notice that we use BankAccount-dot-init to tell Python to call the constructor from the parent class, and we also pass self to that constructor. Self in this case is a SavingsAccount -- that's the class we're in -- but remember that in Python, instances of a subclass are also instances of the parent class. so it is a BankAccount as well, and we can pass it to the init method of BankAccount. Then we can add more functionality, in this case just initializing an attribute. You actually aren't required to call the parent constructor in the subclass, or to call it first -- you can use new code entirely -- but you'll likely to almost always use the parent constructor.\n",
    "5. Create objects with a customized constructor\n",
    "\n",
    "Now when we create an instance of the SavingsAccount class, the new constructor will be called, and in particular, the interest_rate attribute will be initialized.\n",
    "6. Adding functionality\n",
    "\n",
    "In the exercises, you saw you can add methods to a subclass just like to any other class. In those methods you can use data from both the child and the parent class. For example here, we add a compute_interest method that returns the amount of interest in the account.. Don't worry about the exact formula, just notice that we multiply the balance attribute - which was inherited from the BankAccount parent - by an expression involving the interest_rate attribute that exists only in the child SavingsAccount class.\n",
    "7. Customizing functionality\n",
    "\n",
    "Now let's talk about customizing functionality. SavingsAccount inherits the withdraw method from the parent BankAccount class. Calling withdraw on a savings instance will execute exactly the same code as calling it on a generic bank account instance. We want to create a CheckingAccount class, which should have a slightly modified version of the withdraw method: it will have a parameter and adjust the withdrawal amount.\n",
    "8. Customizing functionality\n",
    "\n",
    "Here's an outline of what that could look like. Start by inheriting from the parent class, add a customized constructor that also executes the parent code, a new deposit method, and a withdraw method, but we add a new argument to withdraw - fee, that specifies the additional withdrawal fee. We compare the fee to some fee limit, and then call the parent withdraw method, passing a new amount to it -- with fees subtracted. So this method runs almost the same code as the BankAccount's withdraw method without re-implementing it - just augmenting. Notice that we can change the signature of the method in the subclass by adding a parameter, and we again, just like in the constructor, call the parent version of the method directly by using parent-class-dot syntax and passing self.\n",
    "9. Comparison\n",
    "\n",
    "Now when you call withdraw from an object that is a CheckingAccount instance, the new customized version will be used, but when you call it from regular BankAccount, the basic version will be used. The interface of the call is the same, and the actual method that is called is determined by the instance class. This is an application of polymorphism, and we'll learn more about it later in the course. Another difference is that for a CheckingAccount instance, we could call the method with 2 parameters. But trying this call for a generic BankAccount instance would cause an error, because the method defined in the BankAccount class was not affected by the changes in the subclass. "
   ]
  },
  {
   "cell_type": "code",
   "execution_count": 43,
   "metadata": {},
   "outputs": [],
   "source": [
    "class Employee:\n",
    "    def __init__(self, name, salary=30000):\n",
    "        self.name = name\n",
    "        self.salary = salary\n",
    "\n",
    "    def give_raise(self, amount):\n",
    "        self.salary += amount\n",
    "\n",
    "        \n",
    "class Manager(Employee):\n",
    "  # Add a constructor \n",
    "    def __init__(self, name, salary=50000,project=None):\n",
    "\n",
    "        # Call the parent's constructor   \n",
    "        Employee.__init__(self, name, salary)\n",
    "\n",
    "        # Assign project attribute\n",
    "        self.project= project\n",
    "\n",
    "  \n",
    "    def display(self):\n",
    "        print(\"Manager\", self.name)\n",
    " "
   ]
  },
  {
   "cell_type": "code",
   "execution_count": 44,
   "metadata": {},
   "outputs": [
    {
     "name": "stdout",
     "output_type": "stream",
     "text": [
      "79550.0\n",
      "81610.0\n"
     ]
    }
   ],
   "source": [
    "\"\"\"Add a give_raise() method to Manager that:\n",
    "\n",
    "    accepts the same parameters as Employee.give_raise(), plus a bonus parameter with the default value of 1.05 (bonus of 5%),\n",
    "    multiplies amount by bonus,\n",
    "    uses the Employee's method to raise salary by that product.\n",
    "\"\"\"\n",
    "class Employee:\n",
    "    def __init__(self, name, salary=30000):\n",
    "        self.name = name\n",
    "        self.salary = salary\n",
    "\n",
    "    def give_raise(self, amount):\n",
    "        self.salary += amount\n",
    "\n",
    "        \n",
    "class Manager(Employee):\n",
    "    def display(self):\n",
    "        print(\"Manager \", self.name)\n",
    "\n",
    "    def __init__(self, name, salary=50000, project=None):\n",
    "        Employee.__init__(self, name, salary)\n",
    "        self.project = project\n",
    "\n",
    "    # Add a give_raise method\n",
    "    def give_raise(self, amount, bonus=1.05):\n",
    "        new_amount = amount * bonus\n",
    "        Employee.give_raise(self, new_amount)\n",
    "    \n",
    "    \n",
    "mngr = Manager(\"Ashta Dunbar\", 78500)\n",
    "mngr.give_raise(1000)\n",
    "print(mngr.salary)\n",
    "mngr.give_raise(2000, bonus=1.03)\n",
    "print(mngr.salary)"
   ]
  },
  {
   "cell_type": "markdown",
   "metadata": {},
   "source": [
    "# Inheritance of class attributes\n",
    "\n",
    "In the beginning of this chapter, you learned about class attributes and methods that are shared among all the instances of a class. How do they work with inheritance?\n",
    "\n",
    "In this exercise, you'll create subclasses of the Player class from the first lesson of the chapter, and explore the inheritance of class attributes and methods.\n",
    "\n",
    "The Player class has been defined for you. Recall that the Player class had two class-level attributes: MAX_POSITION and MAX_SPEED, with default values 10 and 3."
   ]
  },
  {
   "cell_type": "code",
   "execution_count": 12,
   "metadata": {},
   "outputs": [
    {
     "name": "stdout",
     "output_type": "stream",
     "text": [
      "p.MAX_SPEED =  3\n",
      "r.MAX_SPEED =  5\n",
      "p.MAX_POSITION =  10\n",
      "r.MAX_POSITION =  10\n"
     ]
    }
   ],
   "source": [
    "# Create a Racer class and set MAX_SPEED to 5\n",
    "class Racer(Player):\n",
    "    MAX_SPEED=5\n",
    "    def __init__(self):\n",
    "        Player.__init__(self)\n",
    "# Create a Player and a Racer objects\n",
    "p = Player()\n",
    "r = Racer()\n",
    "\n",
    "print(\"p.MAX_SPEED = \", p.MAX_SPEED)\n",
    "print(\"r.MAX_SPEED = \", r.MAX_SPEED)\n",
    "\n",
    "print(\"p.MAX_POSITION = \", p.MAX_POSITION)\n",
    "print(\"r.MAX_POSITION = \", r.MAX_POSITION)"
   ]
  },
  {
   "cell_type": "markdown",
   "metadata": {},
   "source": [
    "Class attributes CAN be inherited, and the value of class attributes CAN be overwritten in the child class\n",
    "# Customizing a DataFrame\n",
    "\n",
    "In your company, any data has to come with a timestamp recording when the dataset was created, to make sure that outdated information is not being used. You would like to use pandas DataFrames for processing data, but you would need to customize the class to allow for the use of timestamps.\n",
    "\n",
    "In this exercise, you will implement a small LoggedDF class that inherits from a regular pandas DataFrame but has a created_at attribute storing the timestamp. You will then augment the standard to_csv() method to always include a column storing the creation date.\n",
    "\n",
    "Tip: all DataFrame methods have many parameters, and it is not sustainable to copy all of them for each method you're customizing. The trick is to use variable-length arguments *args and **kwargsto catch all of them.\n"
   ]
  },
  {
   "cell_type": "code",
   "execution_count": 14,
   "metadata": {
    "scrolled": true
   },
   "outputs": [
    {
     "name": "stdout",
     "output_type": "stream",
     "text": [
      "[[1 3]\n",
      " [2 4]]\n",
      "2021-01-07 12:06:21.152295\n"
     ]
    }
   ],
   "source": [
    "# Import pandas as pd\n",
    "import pandas as pd\n",
    "from datetime import datetime\n",
    "# Define LoggedDF inherited from pd.DataFrame and add the constructor\n",
    "class LoggedDF(pd.DataFrame):\n",
    "  \n",
    "  def __init__(self, *args, **kwargs):\n",
    "    pd.DataFrame.__init__(self, *args, **kwargs)\n",
    "    self.created_at = datetime.today()\n",
    "    \n",
    "    \n",
    "ldf = LoggedDF({\"col1\": [1,2], \"col2\": [3,4]})\n",
    "print(ldf.values)\n",
    "print(ldf.created_at)"
   ]
  },
  {
   "cell_type": "code",
   "execution_count": 16,
   "metadata": {},
   "outputs": [
    {
     "data": {
      "text/html": [
       "<div>\n",
       "<style scoped>\n",
       "    .dataframe tbody tr th:only-of-type {\n",
       "        vertical-align: middle;\n",
       "    }\n",
       "\n",
       "    .dataframe tbody tr th {\n",
       "        vertical-align: top;\n",
       "    }\n",
       "\n",
       "    .dataframe thead th {\n",
       "        text-align: right;\n",
       "    }\n",
       "</style>\n",
       "<table border=\"1\" class=\"dataframe\">\n",
       "  <thead>\n",
       "    <tr style=\"text-align: right;\">\n",
       "      <th></th>\n",
       "      <th>col1</th>\n",
       "      <th>col2</th>\n",
       "      <th>created at</th>\n",
       "    </tr>\n",
       "  </thead>\n",
       "  <tbody>\n",
       "    <tr>\n",
       "      <th>0</th>\n",
       "      <td>1</td>\n",
       "      <td>3</td>\n",
       "      <td>2021-01-07 12:06:21.152295</td>\n",
       "    </tr>\n",
       "    <tr>\n",
       "      <th>1</th>\n",
       "      <td>2</td>\n",
       "      <td>4</td>\n",
       "      <td>2021-01-07 12:06:21.152295</td>\n",
       "    </tr>\n",
       "  </tbody>\n",
       "</table>\n",
       "</div>"
      ],
      "text/plain": [
       "   col1  col2                 created at\n",
       "0     1     3 2021-01-07 12:06:21.152295\n",
       "1     2     4 2021-01-07 12:06:21.152295"
      ]
     },
     "execution_count": 16,
     "metadata": {},
     "output_type": "execute_result"
    }
   ],
   "source": [
    "ldf['created at']= ldf.created_at\n",
    "ldf.head()"
   ]
  },
  {
   "cell_type": "code",
   "execution_count": 19,
   "metadata": {},
   "outputs": [],
   "source": [
    "# Import pandas as pd\n",
    "import pandas as pd\n",
    "\n",
    "# Define LoggedDF inherited from pd.DataFrame and add the constructor\n",
    "class LoggedDF(pd.DataFrame):\n",
    "  \n",
    "    def __init__(self, *args, **kwargs):\n",
    "        pd.DataFrame.__init__(self, *args, **kwargs)\n",
    "        self.created_at = datetime.today()\n",
    "\n",
    "    def to_csv(self, *args, **kwargs):\n",
    "        # Copy self to a temporary DataFrame\n",
    "        temp = self.copy()\n",
    "\n",
    "        # Create a new column filled with self.created at\n",
    "        temp[\"created_at\"] = self.created_at\n",
    "\n",
    "        # Call pd.DataFrame.to_csv on temp with *args and **kwargs\n",
    "        pd.DataFrame.to_csv(temp, *args, **kwargs)"
   ]
  },
  {
   "cell_type": "markdown",
   "metadata": {},
   "source": [
    "\n",
    "Incredible work! Using *args and **kwargs allows you to not worry about keeping the signature of your customized method compatible. Notice how in the very last line, you called the parent method and passed an object to it that isn't self. When you call parent methods in the class, they should accept some object as the first argument, and that object is usually self, but it doesn't have to be!\n",
    "# Operator overloading: comparison\n",
    "\n",
    "1. Operator overloading: comparison\n",
    "Fantastic work on inheritance! By now, you've learned enough about classes and objects to start effectively using them in your applications. In this chapter, you'll learn how to make your objects seamlessly integrate with standard Python operations.\n",
    "\n",
    "2. Object equality\n",
    "Have you tried to compare two custom objects? Here are two objects of the Customer class that have the same data. If we ask Python if these objects are equal, the answer is \"no\". In this situation, it might make sense: we can have two customers with the same name and account balance.\n",
    "\n",
    "3. Object equality\n",
    "But what if each customer has a unique ID number? Then two customers with the same ID should be treated as equal.. but they aren't The reason why Python doesn't consider two objects with the same data equal by default has to do with how the objects and variables representing them are stored.\n",
    "\n",
    "4. Variables are references\n",
    "If we try to just print the value of a customer object, we'll see \"Customer at\" and a string (which is actually a number in hexadecimal). Behind the scenes, when an object is created, Python allocates a chunk of memory to that object, and the variable that the object is assigned to actually contains just the reference to the memory chunk. In this code, we tell Python: allocate a chunk of memory for a customer object, and label it customer1. Then, allocate another chunk, and label it customer2. When we compare variables customer1 and customer2, we are actually comparing references, not the data. Because customer1 and customer2 point to different chunks in memory, they are not considered equal.\n",
    "\n",
    "5. Custom comparison\n",
    "But it doesn't have to be that way! You might have noticed that, for example, numpy arrays are compared using their data. Here, we initialize two numpy arrays with the same data, and Python considers them equal. Same with pandas DataFrames, and many other objects. So how can we enforce this for our custom classes?\n",
    "\n",
    "6. Overloading __eq__()\n",
    "We can define a special method for this. Remember the __init__ constructor that is implicitly called when an object is created? The underscore-underscore-eq-underscore-underscore method is implicitly called whenever two objects of the the same class are compared to each other. We can re-define this method to execute custom comparison code. The method should accept two arguments, referring to the objects to be compared. They are usually called self and other by convention. It should always return a Boolean value -- True or False. Here, we have a basic Customer class with id and name attributes, and we redefine the eq method to return True if the values of all the attributes are equal. We also added a diagnostic printout for illustration.\n",
    "\n",
    "7. Comparison of objects\n",
    "Now, if we create two objects containing the same data and try to compare them using double equality sign, we see from the diagnostic printout that the eq method is called, and the comparison returns \"True\". On the other hand, if we create two objects with different id values, the comparison will return \"False\"\n",
    "\n",
    "8. Other comparison operators\n",
    "Python allows you to implement all the comparison operators in your custom class using special methods like eq. When you use a \"not equal\" operator -- that is, exclamation point followed by the equality sign -- Python will automatically attempt to use the equality method, if it exists, and then negate the result, but if you'd like to have a custom \"not equals\" method, you could implement __ne__. You could also implement, for example, \"ge\" for greater than or equal operator, or \"lt\" for less than. Finally, there is a hash method that allows you to use your objects as dictionary keys and in sets. It is beyond the scope of this course, but briefly, it should assign an integer to an object, such that equal objects have equal hashes, and the object hash does not change through the object's lifetime.\n",
    "# Overloading equality\n",
    "\n",
    "When comparing two objects of a custom class using ==, Python by default compares just the object references, not the data contained in the objects. To override this behavior, the class can implement the special __eq__() method, which accepts two arguments -- the objects to be compared -- and returns True or False. This method will be implicitly called when two objects are compared.\n",
    "\n",
    "The BankAccount class from the previous chapter is available for you in the script pane. It has one attribute, balance, and a withdraw() method. Two bank accounts with the same balance are not necessarily the same account, but a bank account usually has an account number, and two accounts with the same account number should be considered the same."
   ]
  },
  {
   "cell_type": "code",
   "execution_count": 20,
   "metadata": {},
   "outputs": [
    {
     "name": "stdout",
     "output_type": "stream",
     "text": [
      "True\n",
      "False\n"
     ]
    }
   ],
   "source": [
    "\"\"\"\n",
    "\n",
    "Try selecting the code in lines 1-7 and pressing the \"Run code\" button. Then try to create a few BankAccount objects in the console and compare them.\n",
    "\n",
    "    Modify the __init__() method to accept a new parameter - number - and initialize a new number attribute.\n",
    "    Define an __eq__() method that returns True if the number attribute of two objects is equal.\n",
    "    Examine the print statements and the output in the console.\n",
    "\n",
    "\"\"\"\n",
    "class BankAccount:\n",
    "     # MODIFY to initialize a number attribute\n",
    "    def __init__(self, number, balance=0):\n",
    "        self.balance = balance\n",
    "        self.number = number\n",
    "      \n",
    "    def withdraw(self, amount):\n",
    "        self.balance -= amount \n",
    "\n",
    "    # Define __eq__ that returns True if the number attributes are equal \n",
    "    def __eq__(self, other):\n",
    "        return self.number == other.number    \n",
    "    \n",
    "acct1 = BankAccount(123, 1000)\n",
    "acct2 = BankAccount(123, 1000)\n",
    "acct3 = BankAccount(456, 1000)\n",
    "print(acct1 == acct2)\n",
    "print(acct1 == acct3)\n",
    "    "
   ]
  },
  {
   "cell_type": "markdown",
   "metadata": {},
   "source": [
    "Notice that your method compares just the account numbers, but not balances. What would happen if two accounts have the same account number but different balances? The code you wrote will treat these accounts as equal, but it might be better to throw an error - an exception - instead, informing the user that something is wrong. At the end of the chapter, you'll learn how to define your own exception classes to create these kinds of custom errors.\n",
    "\n",
    "# Checking class equality\n",
    "\n",
    "In the previous exercise, you defined a BankAccount class with a number attribute that was used for comparison. But if you were to compare a BankAccount object to an object of another class that also has a number attribute, you could end up with unexpected results.\n",
    "\n",
    "For example, consider two classes\n",
    "\n",
    "\n",
    "    class Phone:\n",
    "      def __init__(self, number):\n",
    "         self.number = number\n",
    "\n",
    "      def __eq__(self, other):\n",
    "        return self.number == \\\n",
    "              other.number\n",
    "\n",
    "    pn = Phone(873555333)\n",
    "\n",
    "\t\n",
    "\n",
    "\n",
    "\n",
    "    class BankAccount:\n",
    "      def __init__(self, number):\n",
    "         self.number = number\n",
    "\n",
    "      def __eq__(self, other):\n",
    "        return self.number == \\\n",
    "               other.number\n",
    "\n",
    "    acct = BankAccount(873555333)\n",
    "    \n",
    "\n",
    "Running acct == pn\n",
    "\n",
    "\n",
    "will return True, even though we're comparing a phone number with a bank account number.\n",
    "\n",
    "\n",
    "It is good practice to check the class of objects passed to the __eq__() method to make sure the comparison makes sense."
   ]
  },
  {
   "cell_type": "code",
   "execution_count": 22,
   "metadata": {},
   "outputs": [
    {
     "name": "stdout",
     "output_type": "stream",
     "text": [
      "False\n"
     ]
    }
   ],
   "source": [
    "\"\"\"\n",
    "\n",
    "Both the Phone and the BankAccount classes have been defined. Try running the code as-is using the \"Run code\" button and examine the output.\n",
    "\n",
    "    Modify the definition of BankAccount to only return True if the number attribute is the same and the type() of both objects passed to it is the same.\n",
    "\n",
    "Run the code and examine the output again\"\"\"\n",
    "class Phone:\n",
    "  def __init__(self, number):\n",
    "     self.number = number\n",
    "\n",
    "  def __eq__(self, other):\n",
    "    return self.number == \\\n",
    "          other.number\n",
    "class BankAccount:\n",
    "    def __init__(self, number, balance=0):\n",
    "        self.number, self.balance = number, balance\n",
    "      \n",
    "    def withdraw(self, amount):\n",
    "        self.balance -= amount \n",
    "\n",
    "    # MODIFY to add a check for the type()\n",
    "    def __eq__(self, other):\n",
    "        return (self.number == other.number) and (type(self) == type(other))    \n",
    "\n",
    "acct = BankAccount(873555333)      \n",
    "pn = Phone(873555333)\n",
    "print(acct == pn)"
   ]
  },
  {
   "cell_type": "markdown",
   "metadata": {},
   "source": [
    "Now only comparing objects of the same class BankAccount could return True. Another way to ensure that an object has the same type as you expect is to use the isinstance(obj, Class) function. This can helpful when handling inheritance, as Python considers an object to be an instance of both the parent and the child class. Try running pn == acct in the console (with reversed order of equality). What does this tell you about the __eq__() method?\n",
    "\n",
    "The Child class inherits from the Parent class, and both implement the __eq__() method that includes a diagnostic printout.\n"
   ]
  },
  {
   "cell_type": "code",
   "execution_count": 23,
   "metadata": {},
   "outputs": [],
   "source": [
    "class Parent:\n",
    "    def __eq__(self, other):\n",
    "        print(\"Parent's __eq__() called\")\n",
    "        return True\n",
    "\n",
    "class Child(Parent):\n",
    "    def __eq__(self, other):\n",
    "        print(\"Child's __eq__() called\")\n",
    "        return True\n"
   ]
  },
  {
   "cell_type": "code",
   "execution_count": 24,
   "metadata": {},
   "outputs": [
    {
     "name": "stdout",
     "output_type": "stream",
     "text": [
      "Child's __eq__() called\n"
     ]
    },
    {
     "data": {
      "text/plain": [
       "True"
      ]
     },
     "execution_count": 24,
     "metadata": {},
     "output_type": "execute_result"
    }
   ],
   "source": [
    "p = Parent()\n",
    "c = Child()\n",
    "\n",
    "p == c \n"
   ]
  },
  {
   "cell_type": "markdown",
   "metadata": {},
   "source": [
    "==>  Python always calls the child's __eq__() method when comparing a child object to a parent object.\n",
    "\n",
    "# Operator overloading: string representation\n",
    "\n",
    "1. Operator overloading: string representation\n",
    "Great job with comparison! Let's continue to improve the integration of our custom classes with Python's built-in operators.\n",
    "\n",
    "2. Printing an object\n",
    "In the last video, we discovered that calling print on an object of a custom class returns the object's address in memory by default. But there are plenty of classes for which the printout is much more informative. For example, if we print a numpy array or a DataFrame, we'll see the actual data contained in the object.\n",
    "\n",
    "3. str vs repr\n",
    "There are two special methods that we can define in a class that will return a printable representation of an object. The double-underscore-str-double-undersrore method is executed when we call print or str on an object, and the repr method is executed when we call repr on the object, or when we print it in the console without calling print explicitly. The difference is that str is supposed to give an informal representation, suitable for an end user, and repr is mainly used by developers. The best practice is to use repr to print a string that can be used to reproduce the object -- for example, with numpy array, this shows the exact method call that was used to create the object. If you only choose to implement one of them, chose repr, because it is also used as a fall-back for print when str is not defined.\n",
    "\n",
    "4. Implementation: str\n",
    "Let's start by implementing the str method. It shouldn't accept any arguments besides self, and it should return a string. Here, the string representation of a customer will consist of the word Customer, then on the next line , name, colon, followed by the customer's name, then balance, colon, and the customer's balance. Just a quick reminder: the triple quotes are used in Python to define multi-line strings, and the format method is used on strings to substitute values inside curly brackets with variables. If we create a customer object now and call print on that object, we will see a user-friendly output.\n",
    "\n",
    "5. Implementation: repr\n",
    "Similarly, we can implement the repr method, which also accepts one argument self and returns a string. Following best practices, we make sure that repr returns the string that can be used to reproduce the object, in this case, the exact initialization call. Then if we try to print the object in the console, we'll see the the output of repr. Moreover, in this class we didn't define the str method, so repr will be used as a fallback for the actual print method as well. Notice the single quotes around the name in the return statement. Without the quotes, the name of the customer would be substituted into the string as-is, but the point of repr is to give the exact call needed to reproduce the the object, where the name should be in quotes. Notice also that we can use single quotes inside double quotes and vice versa.\n",
    "\n",
    "__repr__ goal is to be unambiguous\n",
    "\n",
    "__str__ goal is to be readable\n",
    "\n",
    "# String representation of objects\n",
    "\n",
    "There are two special methods in Python that return a string representation of an object. __str__() is called when you use print() or str() on an object, and __repr__() is called when you use repr() on an object, print the object in the console without calling print(), or instead of __str__() if __str__() is not defined.\n",
    "\n",
    "__str__() is supposed to provide a \"user-friendly\" output describing an object, and __repr__() should return the expression that, when evaluated, will return the same object, ensuring the reproducibility of your code."
   ]
  },
  {
   "cell_type": "code",
   "execution_count": 26,
   "metadata": {},
   "outputs": [
    {
     "name": "stdout",
     "output_type": "stream",
     "text": [
      "Employee name: Amar Howard\n",
      "                Employee salary: 30000\n",
      "        \n",
      "Employee name: Carolyn Ramirez\n",
      "                Employee salary: 35000\n",
      "        \n"
     ]
    }
   ],
   "source": [
    "class Employee:\n",
    "    def __init__(self, name, salary=30000):\n",
    "        self.name, self.salary = name, salary\n",
    "            \n",
    "    # Add the __str__() method\n",
    "    def __str__(self):\n",
    "        emp =\"\"\"Employee name: {0}\n",
    "                Employee salary: {1}\n",
    "        \"\"\".format(self.name, self.salary)\n",
    "        return emp\n",
    "\n",
    "emp1 = Employee(\"Amar Howard\", 30000)\n",
    "print(emp1)\n",
    "emp2 = Employee(\"Carolyn Ramirez\", 35000)\n",
    "print(emp2)"
   ]
  },
  {
   "cell_type": "code",
   "execution_count": 27,
   "metadata": {},
   "outputs": [
    {
     "name": "stdout",
     "output_type": "stream",
     "text": [
      "Employee(\"Amar Howard\", 30000)\n",
      "Employee(\"Carolyn Ramirez\", 35000)\n"
     ]
    }
   ],
   "source": [
    "class Employee:\n",
    "    def __init__(self, name, salary=30000):\n",
    "        self.name, self.salary = name, salary\n",
    "      \n",
    "\n",
    "    def __str__(self):\n",
    "        s = \"Employee name: {name}\\nEmployee salary: {salary}\".format(name=self.name, salary=self.salary)      \n",
    "        return s\n",
    "      \n",
    "    # Add the __repr__method  \n",
    "    def __repr__(self):\n",
    "        s = \"Employee(\\\"{name}\\\", {salary})\".format(name=self.name, salary=self.salary)      \n",
    "        return s      \n",
    "\n",
    "emp1 = Employee(\"Amar Howard\", 30000)\n",
    "print(repr(emp1))\n",
    "emp2 = Employee(\"Carolyn Ramirez\", 35000)\n",
    "print(repr(emp2)) "
   ]
  },
  {
   "cell_type": "markdown",
   "metadata": {},
   "source": [
    "You should always define at least one of the string representation methods for your object to make sure that the person using your class can get important information about the object easily.\n",
    "# Exceptions\n",
    "\n",
    "\n",
    "1. Exceptions\n",
    "\n",
    "Welcome back! Let's talk about exceptions. We'll start with a brief recap, and then learn how to define custom exceptions.\n",
    "2. Errors are exceptions\n",
    "\n",
    "Some statements in Python will cause an error when you try to execute them, for example dividing by zero, combining objects of incompatible types, and many others. These errors are called exceptions. Many exceptions have special names, like ZeroDivisionError or TypeError that you see here. If exceptions not handled correctly, they will stop the execution of your program entirely. This often makes sense -- for example, if I'm trying to use a variable that I never defined, something must have gone very wrong with my script -- but other times it's undesirable. For example, a division by zero error might be caused by missing data, which isn't always a good reason to terminate the program.\n",
    "3. Exception handling\n",
    "\n",
    "Instead, you might want to execute special code to handle this case. To catch an exception and handle it, use the try-except-finally code: wrap the code that you're worried about in a try block, then add an except block, followed by the name of the particular exception you want to handle, and the code that should be executed when the exception is raised. Then if this particular exception does happen, the program will not terminate, but execute the code in the except block instead. You can also have multiple exception blocks. And finally, you can use the optional \"finally\" block that will contain the code that runs no matter what. This block is best used for cleaning up like, for example, closing opened files.\n",
    "4. Raising exceptions\n",
    "\n",
    "Sometimes, you want to raise exceptions yourself, for example when some conditions aren't satisfied. You can use the raise keyword, optionally followed by a specific error message in parentheses. The user of the code can then decide to handle the error using try/except.\n",
    "5. Exceptions are classes\n",
    "\n",
    "In Python, exceptions are actually classes inherited from built-in classes BaseException or Exception. Here's a glimpse into the huge built-in exception class hierarchy. For example, there's a general class of arithmetic errors, of which zero division error is a subclass.\n",
    "\n",
    "    1 https://docs.python.org/3/library/exceptions.html\n",
    "\n",
    "6. Custom exceptions\n",
    "\n",
    "You can define your own exceptions in Python! Custom exception classes are useful because they can be specific to your application and can provide more granular handling of errors. To define a custom exception, just define a class that inherits from the built-in Exception class or one of its subclasses. The class itself can be empty - inheritance alone is enough to ensure that Python will treat this class as an exception class. For example, let's define a BalanceError class that inherits from Exception. Then, in our favorite customer class we raise an exception if a negative balance value is passed to the constructor.\n",
    "7. Exception in constructor\n",
    "\n",
    "If we attempt to create a customer with a negative account balance, the BalanceError exception is raised. In the first chapter, we dealt with this situation by merely printing a message, and then creating an object with zero balance. Handling it with exceptions is better, because in this case, the constructor terminates, and the customer object is not created at all, instead of being implicitly created with account balance set to zero, despite the error. This sends a clear signal to the user of the Customer class that something went wrong. The user, on their side,\n",
    "8. Catching custom exceptions\n",
    "\n",
    "can decide to handle this exception using try-except block if they want, but we, the author of the code, do not make this decision for them. For example here, the BalanceError is caught in the except block and if that occurs, a customer is instead created with zero balance.\n",
    "9. Let's practice!\n",
    "\n",
    "In the exercises, you'll explore creating and handling whole hierarchies of custom exceptions. Have fun! \n",
    "# Catching exceptions\n",
    "\n",
    "Before you start writing your own custom exceptions, let's make sure you have the basics of handling exceptions down.\n",
    "\n",
    "\n",
    "In this exercise, you are given a function invert_at_index(x, ind) that takes two arguments, a list x and an index ind, and inverts the element of the list at that index. For example invert_at_index([5,6,7], 1) returns 1/6, or 0.166666 .\n",
    "\n",
    "\n",
    "Try running the code as-is and examine the output in the console. There are two unsafe operations in this function: first, if the element that we're trying to invert has the value 0, then the code will cause a ZeroDivisionError exception. Second, if the index passed to the function is out of range for the list, the code will cause a IndexError. In both cases, the script will be interrupted, which might not be desirable\n"
   ]
  },
  {
   "cell_type": "code",
   "execution_count": 28,
   "metadata": {},
   "outputs": [
    {
     "name": "stdout",
     "output_type": "stream",
     "text": [
      "0.16666666666666666\n",
      "Cannot divide by zero!\n",
      "None\n",
      "Index out of range!\n",
      "None\n"
     ]
    }
   ],
   "source": [
    "# MODIFY the function to catch exceptions\n",
    "def invert_at_index(x, ind):\n",
    "  try:\n",
    "    return 1/x[ind]\n",
    "  except ZeroDivisionError:\n",
    "    print(\"Cannot divide by zero!\")\n",
    "  except IndexError:\n",
    "    print(\"Index out of range!\")\n",
    " \n",
    "a = [5,6,0,7]\n",
    "\n",
    "# Works okay\n",
    "print(invert_at_index(a, 1))\n",
    "\n",
    "# Potential ZeroDivisionError\n",
    "print(invert_at_index(a, 2))\n",
    "\n",
    "# Potential IndexError\n",
    "print(invert_at_index(a, 5))"
   ]
  },
  {
   "cell_type": "markdown",
   "metadata": {},
   "source": [
    "Of course, this is only a toy example to illustrate the structure: you can do much more in the except block than just print a message. For example, it might make sense for a function to return a special value when an error occurs. It's important to note, though, that this code will only be able to handle the two particular errors specified in the except blocks. Any other error would still terminate the program.\n",
    "# Custom exceptions\n",
    "\n",
    "You don't have to rely solely on built-in exceptions like IndexError: you can define your own exceptions more specific to your application. You can also define exception hierarchies. All you need to define an exception is a class inherited from the built-in Exception class or one of its subclasses.\n"
   ]
  },
  {
   "cell_type": "code",
   "execution_count": 30,
   "metadata": {},
   "outputs": [],
   "source": [
    "# Define SalaryError inherited from ValueError\n",
    "class SalaryError(ValueError): pass\n",
    "\n",
    "# Define BonusError inherited from SalaryError\n",
    "class BonusError(SalaryError): pass\n",
    "\n",
    "\n",
    "\n",
    "class Employee:\n",
    "  MIN_SALARY = 30000\n",
    "  MAX_BONUS = 5000\n",
    "\n",
    "  def __init__(self, name, salary = 30000):\n",
    "    self.name = name    \n",
    "    if salary < Employee.MIN_SALARY:\n",
    "      raise SalaryError(\"Salary is too low!\")      \n",
    "    self.salary = salary\n",
    "    \n",
    "  # Rewrite using exceptions  \n",
    "  def give_bonus(self, amount):\n",
    "    if amount > Employee.MAX_BONUS:\n",
    "      raise BonusError(\"The bonus amount is too high!\")  \n",
    "        \n",
    "    elif self.salary + amount <  Employee.MIN_SALARY:\n",
    "       raise SalaryError(\"The salary after bonus is too low!\")\n",
    "      \n",
    "    else:  \n",
    "      self.salary += amount"
   ]
  },
  {
   "cell_type": "markdown",
   "metadata": {},
   "source": [
    "# Handling exception hierarchies\n",
    "\n",
    "Previously, you defined an Employee class with a method get_bonus() that raises a BonusError and a SalaryError depending on parameters. But the BonusError exception was inherited from the SalaryError exception. How does exception inheritance affect exception handling?\n",
    "\n",
    "The Employee class has been defined for you. It has a minimal salary of 30000 and a maximal bonus amount of 5000."
   ]
  },
  {
   "cell_type": "code",
   "execution_count": 31,
   "metadata": {},
   "outputs": [
    {
     "name": "stdout",
     "output_type": "stream",
     "text": [
      "SalaryError caught!\n",
      "BonusError caught!\n",
      "SalaryError caught again!\n"
     ]
    },
    {
     "ename": "SalaryError",
     "evalue": "The salary after bonus is too low!",
     "output_type": "error",
     "traceback": [
      "\u001b[0;31m---------------------------------------------------------------------------\u001b[0m",
      "\u001b[0;31mSalaryError\u001b[0m                               Traceback (most recent call last)",
      "\u001b[0;32m<ipython-input-31-6c06d88ac727>\u001b[0m in \u001b[0;36m<module>\u001b[0;34m\u001b[0m\n\u001b[1;32m     16\u001b[0m \u001b[0;34m\u001b[0m\u001b[0m\n\u001b[1;32m     17\u001b[0m \u001b[0;32mtry\u001b[0m\u001b[0;34m:\u001b[0m\u001b[0;34m\u001b[0m\u001b[0;34m\u001b[0m\u001b[0m\n\u001b[0;32m---> 18\u001b[0;31m   \u001b[0memp\u001b[0m\u001b[0;34m.\u001b[0m\u001b[0mgive_bonus\u001b[0m\u001b[0;34m(\u001b[0m\u001b[0;34m-\u001b[0m\u001b[0;36m100000\u001b[0m\u001b[0;34m)\u001b[0m\u001b[0;34m\u001b[0m\u001b[0;34m\u001b[0m\u001b[0m\n\u001b[0m\u001b[1;32m     19\u001b[0m \u001b[0;32mexcept\u001b[0m \u001b[0mBonusError\u001b[0m\u001b[0;34m:\u001b[0m\u001b[0;34m\u001b[0m\u001b[0;34m\u001b[0m\u001b[0m\n\u001b[1;32m     20\u001b[0m   \u001b[0mprint\u001b[0m\u001b[0;34m(\u001b[0m\u001b[0;34m\"BonusError caught again!\"\u001b[0m\u001b[0;34m)\u001b[0m\u001b[0;34m\u001b[0m\u001b[0;34m\u001b[0m\u001b[0m\n",
      "\u001b[0;32m<ipython-input-30-f656efb731b3>\u001b[0m in \u001b[0;36mgive_bonus\u001b[0;34m(self, amount)\u001b[0m\n\u001b[1;32m     23\u001b[0m \u001b[0;34m\u001b[0m\u001b[0m\n\u001b[1;32m     24\u001b[0m     \u001b[0;32melif\u001b[0m \u001b[0mself\u001b[0m\u001b[0;34m.\u001b[0m\u001b[0msalary\u001b[0m \u001b[0;34m+\u001b[0m \u001b[0mamount\u001b[0m \u001b[0;34m<\u001b[0m  \u001b[0mEmployee\u001b[0m\u001b[0;34m.\u001b[0m\u001b[0mMIN_SALARY\u001b[0m\u001b[0;34m:\u001b[0m\u001b[0;34m\u001b[0m\u001b[0;34m\u001b[0m\u001b[0m\n\u001b[0;32m---> 25\u001b[0;31m        \u001b[0;32mraise\u001b[0m \u001b[0mSalaryError\u001b[0m\u001b[0;34m(\u001b[0m\u001b[0;34m\"The salary after bonus is too low!\"\u001b[0m\u001b[0;34m)\u001b[0m\u001b[0;34m\u001b[0m\u001b[0;34m\u001b[0m\u001b[0m\n\u001b[0m\u001b[1;32m     26\u001b[0m \u001b[0;34m\u001b[0m\u001b[0m\n\u001b[1;32m     27\u001b[0m     \u001b[0;32melse\u001b[0m\u001b[0;34m:\u001b[0m\u001b[0;34m\u001b[0m\u001b[0;34m\u001b[0m\u001b[0m\n",
      "\u001b[0;31mSalaryError\u001b[0m: The salary after bonus is too low!"
     ]
    }
   ],
   "source": [
    "emp = Employee(\"Katze Rik\", salary=50000)\n",
    "try:\n",
    "  emp.give_bonus(7000)\n",
    "except SalaryError:\n",
    "  print(\"SalaryError caught!\")\n",
    "\n",
    "try:\n",
    "  emp.give_bonus(7000)\n",
    "except BonusError:\n",
    "  print(\"BonusError caught!\")\n",
    "\n",
    "try:\n",
    "  emp.give_bonus(-100000)\n",
    "except SalaryError:\n",
    "  print(\"SalaryError caught again!\")\n",
    "\n",
    "try:\n",
    "  emp.give_bonus(-100000)\n",
    "except BonusError:\n",
    "  print(\"BonusError caught again!\")  "
   ]
  },
  {
   "cell_type": "markdown",
   "metadata": {},
   "source": [
    "except block for a parent exception will catch child exceptions"
   ]
  },
  {
   "cell_type": "code",
   "execution_count": 32,
   "metadata": {},
   "outputs": [
    {
     "name": "stdout",
     "output_type": "stream",
     "text": [
      "SalaryError caught\n"
     ]
    }
   ],
   "source": [
    "emp = Employee(\"Katze Rik\",\\\n",
    "                    50000)\n",
    "try:\n",
    "  emp.give_bonus(7000)\n",
    "except SalaryError:\n",
    "  print(\"SalaryError caught\")\n",
    "except BonusError:\n",
    "  print(\"BonusError caught\")\n",
    "      "
   ]
  },
  {
   "cell_type": "code",
   "execution_count": 33,
   "metadata": {},
   "outputs": [
    {
     "name": "stdout",
     "output_type": "stream",
     "text": [
      "BonusError caught\n"
     ]
    }
   ],
   "source": [
    "emp = Employee(\"Katze Rik\",\\\n",
    "                    50000)\n",
    "try:\n",
    "  emp.give_bonus(7000)\n",
    "except BonusError:\n",
    "  print(\"BonusError caught\")\n",
    "except SalaryError:\n",
    "  print(\"SalaryError caught\")"
   ]
  },
  {
   "cell_type": "markdown",
   "metadata": {},
   "source": [
    "It's better to list the except blocks in the increasing order of specificity, i.e. children before parents, otherwise the child exception will be called in the parent\n",
    "# Designing for inheritance and polymorphism\n",
    ". Designing for inheritance and polymorphism\n",
    "\n",
    "In this final chapter, we'll talk about some good practices of class design. We'll cover two main topics: efficient use of inheritance, and managing the levels of access to the data contained in your objects.\n",
    "2. Polymorphism\n",
    "\n",
    "Polymorphism means using a unified interface to operate on objects of different classes. We've already dealt with it in Chapter 2.\n",
    "3. Account classes\n",
    "\n",
    "We defined a bank account class, and two classes inherited from it: a checking account class and a savings account class. All of them had a withdraw method, but the checking account's method was executing different code.\n",
    "4. All that matters is the interface\n",
    "\n",
    "Let's say we defined a function to withdraw the same amount of money from a whole list of accounts at once. This function doesn't know -- or care -- whether the objects passed to it are checking accounts, savings accounts or a mix -- all that matters is that they have a withdraw method that accepts one argument. That is enough to make the function work. It does not check which withdraw it should call -- the original or the modified. When the withdraw method is actually called, Python will dynamically pull the correct method: modified withdraw for whenever a checking account is being processed,and base withdraw for whenever a savings or generic bank account is processed. So you, as a person writing this batch processing function, don't need to worry about what exactly is being passed to it, only what kind of interface it has. To really make use of this idea, you have to design your classes with inheritance and polymorphism - the uniformity of interface - in mind\n",
    "5. Liskov substitution principle\n",
    "\n",
    "There is a fundamental object-oriented design principle of when and how to use inheritance properly, called \"Liskov substitution principle\" named after the computer scientist Barbara Liskov: A base class should be interchangeable with any of its subclasses without altering any properties of the surrounding program. Using the example of our Account hierarchy, that means that wherever in your application you use a bankaccount object instance, substituting a checking account instead should not affect anything in the surrounding program. For example, the batch withdraw function worked regardless of what kind of account was used.\n",
    "6. Liskov substitution principle\n",
    "\n",
    "This should be true both syntactically and semantically. On the one hand, the method in a subclass should have a signature with parameters and returned values compatible with the method in the parent class. On the other hand, the state of objects also must stay consistent; the subclass method shouldn't rely on stronger input conditions, should not provide weaker output conditions, it should not throw additional exceptions and so on.\n",
    "7. Violating LSP\n",
    "\n",
    "Let's illustrate some possible violations of LSP - Liskov substitution principle - on our account classes: for example, the parent's -- or base's -- withdraw method could require 1 parameter, but the subclass method could require 2. Then we couldn't use the subclass's withdraw in place of the parent's. But if the subclass method has a default value for the second parameter, then there is no problem. If the subclass method only accepts certain amounts, unlike the base one, then sometimes the subclass could not be used in place of the base class, if those unsuitable amounts are used. If the base withdraw had a check for whether the resulting balance is positive, and only performed the withdrawal in that case, but the subclass did not do that, we wouldn't be able to use subclass in place of the base class, because it's possible that ambient program depends on the fact that the balance is always positive after withdrawal.\n",
    "8. Violating LSP\n",
    "\n",
    "There are other ways to violate LSP like changing attributes that weren't changed in the base class, or throwing additional exceptions that the base class didn't throw (because those new exceptions are guaranteed to be unhandled).\n",
    "9. No LSP - no inheritance\n",
    "\n",
    "The ultimate rule is that if your class hierarchy violates the Liskov substitution principle, then you should not be using inheritance, because it is likely to cause the code to behave in unpredictable ways somewhere down the road. "
   ]
  },
  {
   "cell_type": "code",
   "execution_count": 34,
   "metadata": {},
   "outputs": [
    {
     "name": "stdout",
     "output_type": "stream",
     "text": [
      "Parent talking!\n",
      "Child talking!\n",
      "TalkativeChild talking!\n",
      "Parent talking!\n"
     ]
    }
   ],
   "source": [
    "class Parent:\n",
    "    def talk(self):\n",
    "        print(\"Parent talking!\")     \n",
    "\n",
    "class Child(Parent):\n",
    "    def talk(self):\n",
    "        print(\"Child talking!\")          \n",
    "\n",
    "class TalkativeChild(Parent):\n",
    "    def talk(self):\n",
    "        print(\"TalkativeChild talking!\")\n",
    "        Parent.talk(self)\n",
    "\n",
    "\n",
    "p, c, tc = Parent(), Child(), TalkativeChild()\n",
    "\n",
    "for obj in (p, c, tc):\n",
    "    obj.talk()"
   ]
  },
  {
   "cell_type": "markdown",
   "metadata": {},
   "source": [
    "Polymorphism ensures that the exact method called is determined dynamically based on the instance. What do you think would happen if Child did not implement talk()"
   ]
  },
  {
   "cell_type": "markdown",
   "metadata": {},
   "source": [
    "# Square and rectangle\n",
    "\n",
    "The classic example of a problem that violates the Liskov Substitution Principle is the Circle-Ellipse problem, sometimes called the Square-Rectangle problem.\n",
    "\n",
    "By all means, it seems like you should be able to define a class Rectangle, with attributes h and w (for height and width), and then define a class Square that inherits from the Rectangle. After all, a square \"is-a\" rectangle!\n",
    "\n",
    "Unfortunately, this intuition doesn't apply to object-oriented design."
   ]
  },
  {
   "cell_type": "code",
   "execution_count": 1,
   "metadata": {},
   "outputs": [],
   "source": [
    "# Define a Rectangle class\n",
    "class Rectangle:\n",
    "    def __init__(self, h, w):\n",
    "      self.h, self.w = h, w\n",
    "\n",
    "# Define a Square class\n",
    "class Square(Rectangle):\n",
    "    def __init__(self, w):\n",
    "      self.h, self.w = w, w  \n",
    "      \n",
    "         "
   ]
  },
  {
   "cell_type": "code",
   "execution_count": 2,
   "metadata": {},
   "outputs": [
    {
     "name": "stdout",
     "output_type": "stream",
     "text": [
      "4\n"
     ]
    }
   ],
   "source": [
    "s= Square(4) \n",
    "print (s.h)"
   ]
  },
  {
   "cell_type": "code",
   "execution_count": 6,
   "metadata": {},
   "outputs": [],
   "source": [
    "s.w=7\n",
    "s.h=3"
   ]
  },
  {
   "cell_type": "code",
   "execution_count": null,
   "metadata": {},
   "outputs": [],
   "source": [
    "\"\"\"A Square inherited from a Rectangle will always have both the h and w attributes, but we can't allow them to change independently of each other.\n",
    "\n",
    "    Define methods set_h() and set_w() in Rectangle, each accepting one parameter and setting h and w.\n",
    "    Define methods set_h() and set_w() in Square, each accepting one parameter, and setting both h and w to that parameter in both methods.\n",
    "\"\"\"\n",
    "\n",
    "\n",
    "class Rectangle:\n",
    "    def __init__(self, w,h):\n",
    "      self.w, self.h = w,h\n",
    "      \n",
    "# Define set_h to set h       \n",
    "    def set_h(self, h):\n",
    "      self.h = h\n",
    "\n",
    "# Define set_w to set w\n",
    "    def set_w(self, w):\n",
    "      self.w = w   \n",
    "      \n",
    "class Square(Rectangle):\n",
    "    def __init__(self, w):\n",
    "      self.w, self.h = w, w \n",
    "      \n",
    "# Define set_h to set w and h \n",
    "    def set_h(self, h):\n",
    "      self.h = h\n",
    "      self.w = h\n",
    "      \n",
    "# Define set_w to set w and h \n",
    "    def set_w(self, w):\n",
    "      self.w = w   \n",
    "      self.h = w  \n",
    "      "
   ]
  },
  {
   "cell_type": "code",
   "execution_count": 7,
   "metadata": {
    "scrolled": true
   },
   "outputs": [
    {
     "name": "stdout",
     "output_type": "stream",
     "text": [
      "21\n",
      "21\n"
     ]
    }
   ],
   "source": [
    "# Python program showing a use \n",
    "# of get() and set() method in \n",
    "# normal function \n",
    "  \n",
    "class Geek: \n",
    "    def __init__(self, age = 0): \n",
    "         self._age = age \n",
    "      \n",
    "    # getter method \n",
    "    def get_age(self): \n",
    "        return self._age \n",
    "      \n",
    "    # setter method \n",
    "    def set_age(self, x): \n",
    "        self._age = x \n",
    "  \n",
    "raj = Geek() \n",
    "  \n",
    "# setting the age using setter \n",
    "raj.set_age(21) \n",
    "  \n",
    "# retrieving age using getter \n",
    "print(raj.get_age()) \n",
    "  \n",
    "print(raj._age) "
   ]
  },
  {
   "cell_type": "markdown",
   "metadata": {},
   "source": [
    "Using @property decorators to achieve getters and setters behaviour\n",
    "\n",
    "In previous method we used property() function in order to achieve getters and setters behaviour. However as mentioned earlier in this post getters and setters are also used for validating the getting and setting of attributes value. There is one more way to implement property function i.e. by using decorator. Python @property is one of the built-in decorators. The main purpose of any decorator is to change your class methods or attributes in such a way so that the user of your class no need to make any change in their code. For Example"
   ]
  },
  {
   "cell_type": "code",
   "execution_count": 8,
   "metadata": {},
   "outputs": [
    {
     "name": "stdout",
     "output_type": "stream",
     "text": [
      "setter method called\n",
      "getter method called\n",
      "19\n"
     ]
    }
   ],
   "source": [
    "# Python program showing the use of \n",
    "# @property \n",
    "\n",
    "class Geeks: \n",
    "\tdef __init__(self): \n",
    "\t\tself._age = 0\n",
    "\t\n",
    "\t# using property decorator \n",
    "\t# a getter function \n",
    "\t@property\n",
    "\tdef age(self): \n",
    "\t\tprint(\"getter method called\") \n",
    "\t\treturn self._age \n",
    "\t\n",
    "\t# a setter function \n",
    "\t@age.setter \n",
    "\tdef age(self, a): \n",
    "\t\tif(a < 18): \n",
    "\t\t\traise ValueError(\"Sorry you age is below eligibility criteria\") \n",
    "\t\tprint(\"setter method called\") \n",
    "\t\tself._age = a \n",
    "\n",
    "mark = Geeks() \n",
    "\n",
    "mark.age = 19\n",
    "\n",
    "print(mark.age) \n"
   ]
  },
  {
   "cell_type": "code",
   "execution_count": null,
   "metadata": {},
   "outputs": [],
   "source": [
    "class geeks : \n",
    "    def __init__(self, *arg,**kwargs):\n",
    "        slef._age =0\n",
    "    @property\n",
    "    def age (self):\n",
    "        return slef._age =0\n",
    "    @age.setter \n",
    "    def \n",
    "        "
   ]
  },
  {
   "cell_type": "code",
   "execution_count": null,
   "metadata": {},
   "outputs": [],
   "source": [
    "class Obj:\n",
    "    \"\"\"property demo\"\"\"\n",
    "    #\n",
    "    @property            # first decorate the getter method\n",
    "    def attribute(self): # This getter method name is *the* name\n",
    "        return self._attribute\n",
    "    #\n",
    "    @attribute.setter    # the property decorates with `.setter` now\n",
    "    def attribute(self, value):   # name, e.g. \"attribute\", is the same\n",
    "        self._attribute = value   # the \"value\" name isn't special\n",
    "    #\n",
    "    @attribute.deleter     # decorate with `.deleter`\n",
    "    def attribute(self):   # again, the method name is the same\n",
    "        del self._attribute"
   ]
  },
  {
   "cell_type": "code",
   "execution_count": null,
   "metadata": {},
   "outputs": [],
   "source": [
    "class Protective(object):\n",
    "    \"\"\"protected property demo\"\"\"\n",
    "    #\n",
    "    def __init__(self, start_protected_value=0):\n",
    "        self.protected_value = start_protected_value\n",
    "    # \n",
    "    @property\n",
    "    def protected_value(self):\n",
    "        return self._protected_value\n",
    "    #\n",
    "    @protected_value.setter\n",
    "    def protected_value(self, value):\n",
    "        if value != int(value):\n",
    "            raise TypeError(\"protected_value must be an integer\")\n",
    "        if 0 <= value <= 100:\n",
    "            self._protected_value = int(value)\n",
    "        else:\n",
    "            raise ValueError(\"protected_value must be \" +\n",
    "                             \"between 0 and 100 inclusive\")\n",
    "    #\n",
    "    @protected_value.deleter\n",
    "    def protected_value(self):\n",
    "        raise AttributeError(\"do not delete, protected_value can be set to 0\")"
   ]
  },
  {
   "cell_type": "markdown",
   "metadata": {},
   "source": [
    "A**getter** is a method that gets the value of a property. In OOPs this helps to access private attributes from a class.\n",
    "\n",
    "A **setter** is a method that sets the value of a property. In OOPs this helps to set the value to private attributes in a class.\n",
    "https://medium.com/@pranaygore/setters-and-getters-in-python-76b5473b3c83"
   ]
  },
  {
   "cell_type": "markdown",
   "metadata": {},
   "source": [
    "Question\n",
    "\n",
    "Later in this chapter you'll learn how to make these setter methods run automatically when attributes are assigned new values, don't worry about that for now, just assume that when we assign a value to h of a square, now the w attribute will be changed accordingly.\n",
    "\n",
    "How does using these setter methods violate Liskov Substitution principle?\n",
    "Possible Answers\n",
    "\n",
    "   \n",
    "   \n",
    "    ==>Each of the setter methods of Square change both h and w attributes, while setter methods of Rectangle change only one attribute at a time, so the Square objects cannot be substituted for Rectangle into programs that rely on one attribute staying constant.\n",
    "    \n",
    "     Remember that the substitution principle requires the substitution to preserve the oversall state of the program. An example of a program that would fail when this substitution is made is a unit test for a setter functions in Rectangle class.\n",
    "    "
   ]
  },
  {
   "cell_type": "code",
   "execution_count": null,
   "metadata": {},
   "outputs": [],
   "source": [
    "# Python program showing a use \n",
    "# of get() and set() method in \n",
    "# normal function \n",
    "  \n",
    "class Geek: \n",
    "    def __init__(self, age = 0): \n",
    "         self._age = age \n",
    "      \n",
    "    # getter method \n",
    "    def get_age(self): \n",
    "        return self._age \n",
    "      \n",
    "    # setter method \n",
    "    def set_age(self, x): \n",
    "        self._age = x \n",
    "  \n",
    "raj = Geek() \n",
    "  \n",
    "# setting the age using setter \n",
    "raj.set_age(21) \n",
    "  \n",
    "# retrieving age using getter \n",
    "print(raj.get_age()) \n",
    "  \n",
    "print(raj._age) "
   ]
  },
  {
   "cell_type": "markdown",
   "metadata": {},
   "source": [
    "1. Managing data access: private attributes\n",
    "\n",
    "In the next two lessons, we'll talk about managing data access.\n",
    "2. All class data is public\n",
    "\n",
    "All class data in Python is technically public. Any attribute or method of any class can be accessed by anyone. If you are coming from a background in another programming language like Java, this might seem unusual or an oversight, but it is by design. The fundamental principle behind much of Python design \"we are all adults here\". It is a philosophy that goes beyond just code, and describes how the Python community interacts with each other: you should have trust in your fellow developers.\n",
    "3. Restricting access\n",
    "\n",
    "That said, there are a few ways to manage access to data. We can use some universal naming conventions to signal that the data is not for external consumption; then, there are special kinds of attributes called properties that allow you to control how each attribute is modified. Finally, there are special methods that you can override to change how attributes are used entirely. We'll cover the first two options in this chapter, and you are unlikely to ever need anything beyond that.\n",
    "4. Naming convention: internal attributes\n",
    "\n",
    "Let's start with naming conventions. The first and most important convention is using a single leading underscore to indicate an attribute or method that isn't a part of the public class interface, and can change without notice. This convention is widely accepted among Python developers, so you should follow it both as a class developer and as a class user. Nothing is technically preventing you from using these attributes, but a single leading underscore is the developer's way of saying that you shouldn't. The class developer trusts that you are an adult and will be able to use the class responsibly. This convention is used for internal implementation details and helper functions. For example, a pandas DataFrame has an underscore-is_mixed_type attribute that indicates whether the DataFrame contains data of mixed types, and the datetime module contains a _ymd2ord function that converts a date into a number containing how many days have passed since January 1st of year 1.\n",
    "5. Naming convention: pseudoprivate attributes\n",
    "\n",
    "Another naming convention is using a leading double underscore. Attributes and methods whose names start with a double underscore are the closest thing Python has to \"private\" fields and methods of other programming languages. In this case, it means that this data is not inherited - at least, not in a way you're used to, because Python implements name mangling: any name starting with a double underscore will be automatically prepended by the name of the class when interpreted by Python, and that new name will be the actual internal name of the attribute or method. The main use of these pseudo-private attributes is to prevent name clashes in child classes: you can't control what attributes or methods someone will introduce when inheriting from your class, and it's possible that someone will unknowingly introduce a name that already exists in you class, thus overriding the parent method or attribute! You can use double leading underscores to protect important attributes and methods that should not be overridden. Finally, be careful: leading AND trailing double underscores are only used for build-in Python methods like init, so your name should only start -- but not end! -- with double underscores. \n",
    "Attribute naming conventions\n",
    "\n",
    "In Python, all data is public. Instead of access modifiers common in languages like Java, Python uses naming conventions to communicate the developer's intention to class users, shifting the responsibility of safe class use onto the class user.\n",
    "\n",
    "Python uses underscores extensively to signal the purpose of methods and attributes. In this exercise, you will match a use case with the appropriate naming convention.\n",
    "\n",
    "**_name** The single leading underscore is a convention for internal details of implementation. \n",
    "\n",
    "**__name** Double leading underscores are used for attributes that should not be inherited to aviod name clashes in child classes.\n",
    "\n",
    "**__ name __** Finally, leading and trailing double underscores are reserved for built-in methods.\n",
    "\n",
    "\n",
    "# Using internal attibutes\n",
    "\n",
    "In this exercise, you'll return to the BetterDate class of Chapter 2. Your date class is better because it will use the sensible convention of having exactly 30 days in each month.\n",
    "\n",
    "You decide to add a method that checks the validity of the date, but you don't want to make it a part of BetterDate public interface.\n",
    "\n",
    "The class BetterDate is available in the script pane."
   ]
  },
  {
   "cell_type": "code",
   "execution_count": 9,
   "metadata": {},
   "outputs": [
    {
     "name": "stdout",
     "output_type": "stream",
     "text": [
      "True\n",
      "False\n"
     ]
    }
   ],
   "source": [
    "\"\"\"\n",
    "\n",
    "    Add a class attribute _MAX_DAYS storing the maximal number of days in a month - 30.\n",
    "    Add another class attribute storing the maximal number of months in a year - 12. Use the appropriate naming convention to indicate that this is an internal attribute.\n",
    "    Add an _is_valid() method that returns True if the day and month attributes are less than or equal to the corresponding maximum values, and False otherwise. Make sure to refer to the class attributes by their names!\n",
    "\"\"\"\n",
    "# MODIFY to add class attributes for max number of days and months\n",
    "class BetterDate:\n",
    "    _MAX_DAYS = 30\n",
    "    _MAX_MONTHS = 12\n",
    "    \n",
    "    def __init__(self, year, month, day):\n",
    "      self.year, self.month, self.day = year, month, day\n",
    "      \n",
    "    @classmethod\n",
    "    def from_str(cls, datestr):\n",
    "        year, month, day = map(int, datestr.split(\"-\"))\n",
    "        return cls(year, month, day)\n",
    "    \n",
    "    # Add _is_valid() checking day and month values\n",
    "    def _is_valid(self):\n",
    "        return (self.day <= BetterDate._MAX_DAYS) and \\\n",
    "               (self.month <= BetterDate._MAX_MONTHS)\n",
    "         \n",
    "bd1 = BetterDate(2020, 4, 30)\n",
    "print(bd1._is_valid())\n",
    "\n",
    "bd2 = BetterDate(2020, 6, 45)\n",
    "print(bd2._is_valid())"
   ]
  },
  {
   "cell_type": "markdown",
   "metadata": {},
   "source": [
    " Notice that you were still able to use the _is_valid() method as usual. The single underscore naming convention is purely a convention, and Python doesn't do anything special with such attributes and methods behind the scenes. That convention is widely followed, though, so if you see an attribute name with one leading underscore in someone's class - don't use it! The class developer trusts you with this responsibility."
   ]
  },
  {
   "cell_type": "markdown",
   "metadata": {},
   "source": [
    "1. Properties\n",
    "\n",
    "Welcome back! In this last video, you'll learn about properties, which are a special kind of attribute that allow customized access.\n",
    "2. Changing attribute values\n",
    "\n",
    "In the beginning of Chapter 1, you worked with an Employee class where you defined methods like set_salary that were used to set the values for attributes. Later, you learned about using the constructor to initialize the attributes . You also learned that you can access and change the attributes directly by assignment. But this means that with a simple equality we can assign anything to salary: a million, a negative number, or even the word \"Hello\". Salary is an important attribute, and that should not be allowed.\n",
    "3. Changing attribute values\n",
    "\n",
    "So how do we control attribute access, validate it or even make the attribute read-only? We could modify the set_salary method, but that wouldn't help, because we could still use the dot syntax and assignment via equality.\n",
    "4. Restricted and read-only attributes\n",
    "\n",
    "There is a precedent for such attribute management with classes that you already know. For example, if you have a pandas DataFrame with two columns, you can set the columns attribute to a list of 2 strings -- new names for the columns. But if you try to set the attribute to a list of different length, you'd get an error. Or, consider the shape attribute -- it cannot be changed at all!\n",
    "5. @property\n",
    "\n",
    "We can implement similar behavior using the property decorator. Start by defining an \"internal\" attribute that will store the data. As we learned in the previous video, it is recommended to start the name with one leading underscore. Here, we defined a underscore-salary attribute. Next, we define a method whose name is the exact name we'd like the restricted attribute to have, and put a decorator \"property\" on it. In our case that method is called salary, without underscore, because that's how we'd like to refer to it. If we were writing a DataFrame class, this could be \"columns\", or \"shape\". The method just returns the actual internal attribute that is storing the data. To customize how the attribute is set, we implement a method with a decorator \"attribute name\"-dot-setter: salary-dot-setter in our case. The method itself is again named exactly the same as the property -- salary - and it will be called when a value is assigned to the property attribute. It has a self argument, and an argument that represents the value to be assigned. Here we raise an exception if the value is negative, otherwise change the internal attribute. So there are two methods called salary -- the name of the property -- that have different decorators. The method with property decorator returns the data, and the method with salary dot setter decorator implements validation and sets the attribute.\n",
    "6. @property\n",
    "\n",
    "How does this work in practice? We can use this property just as if it was a regular attribute (remember the only real attribute we have is the internal underscore-salary). Use the dot syntax and equality sign to assign a value to the salary property. Then, the setter method will be called. If we try to assign a negative value to salary, an exception will be raised.\n",
    "7. Why use @property?\n",
    "\n",
    "Properties are useful because the user of your class will not have to do anything special. They won't even be able to distinguish between properties and regular attributes. You, on the other hand, now have some control over the access.\n",
    "8. Other possibilities\n",
    "\n",
    "There are a few other things you can do with properties: if you do not define a setter method, the property will be read-only, like Dataframe shape. A method with an attribute-name-dot-getter decorator will be called when the property's value is just retrieved, and the method with the attribute-name-dot-deleter -- when an attribute is deleted. \n",
    "\n",
    "What do properties do?\n",
    "\n",
    "You could think of properties as attributes with built-in access control. They are especially useful when there is some additional code you'd like to execute when assigning values to attributes.\n",
    " Properties control only one specific attribute that they're attached to. There are ways to prevent creating new attributes, but doing so would go against the \"we're all adults here\" principle."
   ]
  },
  {
   "cell_type": "markdown",
   "metadata": {},
   "source": [
    "# Create and set properties\n",
    "\n",
    "There are two parts to defining a property:\n",
    "\n",
    "    first, define an \"internal\" attribute that will contain the data;\n",
    "    then, define a @property-decorated method whose name is the property name, and that returns the internal attribute storing the data.\n",
    "\n",
    "If you'd also like to define a custom setter method, there's an additional step:\n",
    "\n",
    "    define another method whose name is exactly the property name (again), and decorate it with @prop_name.setter where prop_name is the name of the property. The method should take two arguments -- self (as always), and the value that's being assigned to the property.\n",
    "\n",
    "In this exercise, you'll create a balance property for a Customer class - a better, more controlled version of the balance attribute that you worked with before."
   ]
  },
  {
   "cell_type": "code",
   "execution_count": 11,
   "metadata": {},
   "outputs": [
    {
     "name": "stdout",
     "output_type": "stream",
     "text": [
      "Setter method called\n",
      "3000\n"
     ]
    }
   ],
   "source": [
    "class Customer:\n",
    "    def __init__(self, name, new_bal):\n",
    "        self.name = name\n",
    "        if new_bal < 0:\n",
    "           raise ValueError(\"Invalid balance!\")\n",
    "        self._balance = new_bal  \n",
    "\n",
    "    # Add a decorated balance() method returning _balance        \n",
    "    @property\n",
    "    def balance(self):\n",
    "        return self._balance\n",
    "\n",
    "    # Add a setter balance() method\n",
    "    @balance.setter\n",
    "    def balance(self, new_bal):\n",
    "        # Validate the parameter value\n",
    "        if new_bal < 0:\n",
    "           raise ValueError(\"Invalid balance!\")\n",
    "        self._balance = new_bal\n",
    "        print(\"Setter method called\")\n",
    "        \n",
    "# Create a Customer        \n",
    "cust = Customer(\"Belinda Lutz\", 2000)\n",
    "\n",
    "# Assign 3000 to the balance property\n",
    "cust.balance = 3000\n",
    "\n",
    "# Print the balance property\n",
    "print(cust.balance)"
   ]
  },
  {
   "cell_type": "markdown",
   "metadata": {},
   "source": [
    "# Read-only properties\n",
    "\n",
    "The LoggedDF class from Chapter 2 was an extension of the pandas DataFrame class that had an additional created_at attribute that stored the timestamp when the DataFrame was created, so that the user could see how out-of-date the data is.\n",
    "\n",
    "But that class wasn't very useful: we could just assign any value to created_at after the DataFrame was created, thus defeating the whole point of the attribute! Now, using properties, we can make the attribute read-only.\n",
    "\n",
    "The LoggedDF class from Chapter 2 is available for you in the script pane."
   ]
  },
  {
   "cell_type": "code",
   "execution_count": 13,
   "metadata": {},
   "outputs": [
    {
     "name": "stdout",
     "output_type": "stream",
     "text": [
      "Could not set attribute\n"
     ]
    }
   ],
   "source": [
    "import pandas as pd\n",
    "from datetime import datetime \n",
    "# MODIFY the class to turn created_at into a read-only property\n",
    "class LoggedDF(pd.DataFrame):\n",
    "    def __init__(self, *args, **kwargs):\n",
    "        pd.DataFrame.__init__(self, *args, **kwargs)\n",
    "        self._created_at = datetime.today()\n",
    "    \n",
    "    def to_csv(self, *args, **kwargs):\n",
    "        temp = self.copy()\n",
    "        temp[\"created_at\"] = self._created_at\n",
    "        pd.DataFrame.to_csv(temp, *args, **kwargs)   \n",
    "    \n",
    "    @property  \n",
    "    def created_at(self):\n",
    "        return self._created_at\n",
    "\n",
    "ldf = LoggedDF({\"col1\": [1,2], \"col2\":[3,4]})\n",
    "\n",
    "# Put into try-except block to catch AtributeError and print a message\n",
    "try:\n",
    "    ldf.created_at = '2035-07-13'\n",
    "except AttributeError:\n",
    "    print(\"Could not set attribute\")"
   ]
  },
  {
   "cell_type": "markdown",
   "metadata": {},
   "source": [
    "You've put it all together! Notice that the to_csv() method in the original class was using the original created_at attribute. After converting the attribute into a property, you could replace the call to self.created_at with the call to the internal attribute that's attached to the property, or you could keep it as self.created_at, in which case you'll now be accessing the property. Either way works!"
   ]
  },
  {
   "cell_type": "code",
   "execution_count": null,
   "metadata": {},
   "outputs": [],
   "source": []
  },
  {
   "cell_type": "code",
   "execution_count": null,
   "metadata": {},
   "outputs": [],
   "source": []
  },
  {
   "cell_type": "code",
   "execution_count": null,
   "metadata": {},
   "outputs": [],
   "source": []
  },
  {
   "cell_type": "code",
   "execution_count": null,
   "metadata": {},
   "outputs": [],
   "source": []
  },
  {
   "cell_type": "code",
   "execution_count": null,
   "metadata": {},
   "outputs": [],
   "source": []
  }
 ],
 "metadata": {
  "kernelspec": {
   "display_name": "Python 3",
   "language": "python",
   "name": "python3"
  },
  "language_info": {
   "codemirror_mode": {
    "name": "ipython",
    "version": 3
   },
   "file_extension": ".py",
   "mimetype": "text/x-python",
   "name": "python",
   "nbconvert_exporter": "python",
   "pygments_lexer": "ipython3",
   "version": "3.7.6"
  }
 },
 "nbformat": 4,
 "nbformat_minor": 2
}
