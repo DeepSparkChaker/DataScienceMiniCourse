{
 "cells": [
  {
   "cell_type": "code",
   "execution_count": null,
   "metadata": {},
   "outputs": [],
   "source": [
    "# https://python.antoinepernot.fr/cours.php?course=chap5\n",
    "#https://www.geeksforgeeks.org/python-output-formatting/?ref=lbp"
   ]
  },
  {
   "cell_type": "code",
   "execution_count": 1,
   "metadata": {},
   "outputs": [
    {
     "name": "stdout",
     "output_type": "stream",
     "text": [
      "M\n",
      "t\n",
      "e\n",
      "n\n",
      "g\n",
      "nta\n",
      "Mont\n",
      "ne\n",
      "engat\n",
      "engatnoM\n",
      "Mnan\n",
      "otge\n"
     ]
    }
   ],
   "source": [
    ">>> chaineDeCaracteres = \"Montagne\"\n",
    ">>> print(chaineDeCaracteres[0])\n",
    "#M\t\t# Premier caractere\n",
    ">>> print(chaineDeCaracteres[3])\n",
    "#t\t\t# Quatrieme caractere\n",
    ">>> print(chaineDeCaracteres[-1])\n",
    "#e \t\t# Dernier caractere\n",
    ">>> print(chaineDeCaracteres[-2])\n",
    "#n\t\t# Avant-dernier caractere\n",
    ">>> print(chaineDeCaracteres[-3])\n",
    "#g\t\t# Avant-avant-dernier caractère\n",
    ">>> print(chaineDeCaracteres[2:5])\n",
    "#nta\t\t# Tranche du troisième au cinquième caractère\n",
    ">>> print(chaineDeCaracteres[:4])\n",
    "#Mont\t\t# Tranche du premier au quatrième caractère\n",
    ">>> print(chaineDeCaracteres[6:])\n",
    "#ne\t\t# Tranche du septième au dernier caractère\n",
    ">>> print(chaineDeCaracteres[7:2:-1])\n",
    "#engat\t\t# Tranche du huitième au troisième caractère dans le sens inverse\n",
    ">>> print(chaineDeCaracteres[::-1])\n",
    "#engatnoM\t# La chaîne complète dans le sens inverse\n",
    ">>> print(chaineDeCaracteres[::2])\n",
    "#Mnan\t\t# Les lettres d'indice pair\n",
    ">>> print(chaineDeCaracteres[1::2])\n",
    "#otge\t\t# Les lettres d'indice impair"
   ]
  },
  {
   "cell_type": "code",
   "execution_count": 2,
   "metadata": {},
   "outputs": [
    {
     "name": "stdout",
     "output_type": "stream",
     "text": [
      "Bonjour Arnaud, comment vas-tu ?\n"
     ]
    }
   ],
   "source": [
    ">>> prenom = \"Arnaud\"\n",
    ">>> texte = \"Bonjour \" + prenom + \", comment vas-tu ?\"\n",
    ">>> print(texte)"
   ]
  },
  {
   "cell_type": "code",
   "execution_count": 11,
   "metadata": {},
   "outputs": [
    {
     "name": "stdout",
     "output_type": "stream",
     "text": [
      "écrit par antoine de saint-exupéry\n",
      "ÉCRIT PAR ANTOINE DE SAINT-EXUPÉRY\n",
      "Écrit Par Antoine De Saint-Exupéry\n",
      "Écrit par antoine de saint-exupéry\n",
      "éCRIT PAR aNTOINE DE sAINT-eXUPÉRY\n"
     ]
    },
    {
     "data": {
      "text/plain": [
       "2"
      ]
     },
     "execution_count": 11,
     "metadata": {},
     "output_type": "execute_result"
    }
   ],
   "source": [
    ">>> texte = \"Écrit par Antoine de Saint-Exupéry\"\n",
    ">>> print(texte.lower())\t# Tout en minuscule\n",
    "print(texte.upper())\t\t# Tout en majuscule\n",
    "print(texte.title())\t\t# Majuscule à chaque mot\n",
    "print(texte.capitalize())\t\t# Majuscule en début de phrase\n",
    "print(texte.swapcase())\t\t# Inverse la casse\n",
    "texte.count(\"a\")\t# Sensible à la casse\n"
   ]
  },
  {
   "cell_type": "code",
   "execution_count": 10,
   "metadata": {},
   "outputs": [
    {
     "data": {
      "text/plain": [
       "3"
      ]
     },
     "execution_count": 10,
     "metadata": {},
     "output_type": "execute_result"
    }
   ],
   "source": [
    "texte.lower().count(\"a\")"
   ]
  },
  {
   "cell_type": "code",
   "execution_count": 12,
   "metadata": {},
   "outputs": [
    {
     "name": "stdout",
     "output_type": "stream",
     "text": [
      "Rédigé par Antoine de Saint-Exupéry\n"
     ]
    }
   ],
   "source": [
    "# La méthode replace(ancien, nouveau) permet de remplacer l'élément ancien par nouveau.\n",
    ">>> texte = \"Écrit par Antoine de Saint-Exupéry\"\n",
    ">>> print(texte.replace(\"Écrit\", \"Rédigé\"))\n",
    "\n"
   ]
  },
  {
   "cell_type": "markdown",
   "metadata": {},
   "source": [
    "# Regular Expression\n",
    "  "
   ]
  },
  {
   "cell_type": "code",
   "execution_count": 11,
   "metadata": {},
   "outputs": [
    {
     "name": "stdout",
     "output_type": "stream",
     "text": [
      "['e', 'a', 'd', 'b', 'e', 'a']\n"
     ]
    }
   ],
   "source": [
    "\"\"\"Function compile() \n",
    "Regular expressions are compiled into pattern objects, \n",
    "which have methods for various operations such as searching for pattern matches \n",
    "or performing string substitutions. \"\"\"\n",
    "# Module Regular Expression is imported using __import__(). \n",
    "import re \n",
    "\n",
    "# compile() creates regular expression character class [a-e], \n",
    "# which is equivalent to [abcde]. \n",
    "# class [abcde] will match with string with 'a', 'b', 'c', 'd', 'e'. \n",
    "p = re.compile('[a-e]') \n",
    "\n",
    "# findall() searches for the Regular Expression and return a list upon finding \n",
    "print(p.findall(\"Aye, said Mr. Gibenson Stark\")) \n"
   ]
  },
  {
   "cell_type": "code",
   "execution_count": 12,
   "metadata": {},
   "outputs": [
    {
     "name": "stdout",
     "output_type": "stream",
     "text": [
      "['1', '1', '4', '1', '8', '8', '6']\n",
      "['11', '4', '1886']\n"
     ]
    }
   ],
   "source": [
    "import re \n",
    "\n",
    "# \\d is equivalent to [0-9]. \n",
    "p = re.compile('\\d') \n",
    "print(p.findall(\"I went to him at 11 A.M. on 4th July 1886\")) \n",
    "\n",
    "# \\d+ will match a group on [0-9], group of one or greater size \n",
    "p = re.compile('\\d+') \n",
    "print(p.findall(\"I went to him at 11 A.M. on 4th July 1886\")) \n"
   ]
  },
  {
   "cell_type": "code",
   "execution_count": 13,
   "metadata": {},
   "outputs": [
    {
     "name": "stdout",
     "output_type": "stream",
     "text": [
      "['H', 'e', 's', 'a', 'i', 'd', 'i', 'n', 's', 'o', 'm', 'e', '_', 'l', 'a', 'n', 'g']\n",
      "['I', 'went', 'to', 'him', 'at', '11', 'A', 'M', 'he', 'said', 'in', 'some_language']\n",
      "[' ', ' ', '*', '*', '*', ' ', ' ', '.']\n"
     ]
    }
   ],
   "source": [
    "import re \n",
    "\n",
    "# \\w is equivalent to [a-zA-Z0-9_]. \n",
    "p = re.compile('\\w') \n",
    "print(p.findall(\"He said * in some_lang.\")) \n",
    "\n",
    "# \\w+ matches to group of alphanumeric character. \n",
    "p = re.compile('\\w+') \n",
    "print(p.findall(\"I went to him at 11 A.M., he said *** in some_language.\")) \n",
    "\n",
    "# \\W matches to non alphanumeric characters. \n",
    "p = re.compile('\\W') \n",
    "print(p.findall(\"he said *** in some_language.\")) \n"
   ]
  },
  {
   "cell_type": "code",
   "execution_count": 15,
   "metadata": {},
   "outputs": [
    {
     "name": "stdout",
     "output_type": "stream",
     "text": [
      "['ab', 'abb', 'a', 'abbb']\n"
     ]
    },
    {
     "data": {
      "text/plain": [
       "'Understanding the Output: \\nOur RE is ab*, which ‘a’ accompanied by any no. of ‘b’s, starting from 0. \\nOutput ‘ab’, is valid because of single ‘a’ accompanied by single ‘b’. \\nOutput ‘abb’, is valid because of single ‘a’ accompanied by 2 ‘b’. \\nOutput ‘a’, is valid because of single ‘a’ accompanied by 0 ‘b’. \\nOutput ‘abbb’, is valid because of single ‘a’ accompanied by 3 ‘b’.'"
      ]
     },
     "execution_count": 15,
     "metadata": {},
     "output_type": "execute_result"
    }
   ],
   "source": [
    "import re \n",
    "\n",
    "# '*' replaces the no. of occurrence of a character. \n",
    "p = re.compile('ab*') \n",
    "print(p.findall(\"ababbaabbb\")) \n",
    "\"\"\"Understanding the Output: \n",
    "Our RE is ab*, which ‘a’ accompanied by any no. of ‘b’s, starting from 0. \n",
    "Output ‘ab’, is valid because of single ‘a’ accompanied by single ‘b’. \n",
    "Output ‘abb’, is valid because of single ‘a’ accompanied by 2 ‘b’. \n",
    "Output ‘a’, is valid because of single ‘a’ accompanied by 0 ‘b’. \n",
    "Output ‘abbb’, is valid because of single ‘a’ accompanied by 3 ‘b’.\"\"\""
   ]
  },
  {
   "cell_type": "code",
   "execution_count": 16,
   "metadata": {},
   "outputs": [
    {
     "name": "stdout",
     "output_type": "stream",
     "text": [
      "['Words', 'words', 'Words']\n",
      "['Word', 's', 'words', 'Words']\n",
      "['On', '12th', 'Jan', '2016', 'at', '11', '02', 'AM']\n",
      "['On ', 'th Jan ', ', at ', ':', ' AM']\n"
     ]
    }
   ],
   "source": [
    "from re import split \n",
    "\n",
    "# '\\W+' denotes Non-Alphanumeric Characters or group of characters \n",
    "# Upon finding ',' or whitespace ' ', the split(), splits the string from that point \n",
    "print(split('\\W+', 'Words, words , Words')) \n",
    "print(split('\\W+', \"Word's words Words\")) \n",
    "\n",
    "# Here ':', ' ' ,',' are not AlphaNumeric thus, the point where splitting occurs \n",
    "print(split('\\W+', 'On 12th Jan 2016, at 11:02 AM')) \n",
    "\n",
    "# '\\d+' denotes Numeric Characters or group of characters \n",
    "# Splitting occurs at '12', '2016', '11', '02' only \n",
    "print(split('\\d+', 'On 12th Jan 2016, at 11:02 AM')) \n"
   ]
  },
  {
   "cell_type": "code",
   "execution_count": 17,
   "metadata": {},
   "outputs": [
    {
     "name": "stdout",
     "output_type": "stream",
     "text": [
      "S~*ject has ~*er booked already\n",
      "S~*ject has Uber booked already\n",
      "S~*ject has Uber booked already\n",
      "Baked Beans & Spam\n"
     ]
    }
   ],
   "source": [
    "import re \n",
    "\n",
    "# Regular Expression pattern 'ub' matches the string at \"Subject\" and \"Uber\". \n",
    "# As the CASE has been ignored, using Flag, 'ub' should match twice with the string \n",
    "# Upon matching, 'ub' is replaced by '~*' in \"Subject\", and in \"Uber\", 'Ub' is replaced. \n",
    "print(re.sub('ub', '~*' , 'Subject has Uber booked already', flags = re.IGNORECASE)) \n",
    "\n",
    "# Consider the Case Sensitivity, 'Ub' in \"Uber\", will not be reaplced. \n",
    "print(re.sub('ub', '~*' , 'Subject has Uber booked already')) \n",
    "\n",
    "# As count has been given value 1, the maximum times replacement occurs is 1 \n",
    "print(re.sub('ub', '~*' , 'Subject has Uber booked already', count=1, flags = re.IGNORECASE)) \n",
    "\n",
    "# 'r' before the patter denotes RE, \\s is for start and end of a String. \n",
    "print(re.sub(r'\\sAND\\s', ' & ', 'Baked Beans And Spam', flags=re.IGNORECASE)) \n"
   ]
  },
  {
   "cell_type": "markdown",
   "metadata": {},
   "source": [
    "**subn()** is similar to **sub()** in all ways, except in its way to providing output. It returns a **tuple with count of total of replacement and the new string rather than just the string**. "
   ]
  },
  {
   "cell_type": "code",
   "execution_count": 18,
   "metadata": {},
   "outputs": [
    {
     "name": "stdout",
     "output_type": "stream",
     "text": [
      "('S~*ject has Uber booked already', 1)\n",
      "('S~*ject has ~*er booked already', 2)\n",
      "2\n",
      "S~*ject has ~*er booked already\n"
     ]
    }
   ],
   "source": [
    "import re \n",
    "print(re.subn('ub', '~*' , 'Subject has Uber booked already')) \n",
    "t = re.subn('ub', '~*' , 'Subject has Uber booked already', flags = re.IGNORECASE) \n",
    "print(t) \n",
    "print(len(t)) \n",
    "\n",
    "# This will give same output as sub() would have \n",
    "print(t[0]) \n"
   ]
  },
  {
   "cell_type": "markdown",
   "metadata": {},
   "source": [
    "**re.search()** : This method either returns None (if the pattern doesn’t match), or a re.MatchObject that contains information about the matching part of the string. This method stops after the first match, so this is best suited for testing a regular expression more than extracting data."
   ]
  },
  {
   "cell_type": "code",
   "execution_count": 20,
   "metadata": {},
   "outputs": [
    {
     "name": "stdout",
     "output_type": "stream",
     "text": [
      "Match at index 14, 21\n",
      "Full match: June 24\n",
      "Month: June\n",
      "Day: 24\n"
     ]
    }
   ],
   "source": [
    "# A Python program to demonstrate working of re.match(). \n",
    "import re \n",
    "\n",
    "# Lets use a regular expression to match a date string \n",
    "# in the form of Month name followed by day number \n",
    "regex = r\"([a-zA-Z]+) (\\d+)\"\n",
    "\n",
    "match = re.search(regex, \"I was born on June 24\") \n",
    "\n",
    "if match != None: \n",
    "\n",
    "\t# We reach here when the expression \"([a-zA-Z]+) (\\d+)\" \n",
    "\t# matches the date string. \n",
    "\n",
    "\t# This will print [14, 21), since it matches at index 14 \n",
    "\t# and ends at 21. \n",
    "\tprint (\"Match at index %s, %s\" % (match.start(), match.end()) )\n",
    "\n",
    "\t# We us group() method to get all the matches and \n",
    "\t# captured groups. The groups contain the matched values. \n",
    "\t# In particular: \n",
    "\t# match.group(0) always returns the fully matched string \n",
    "\t# match.group(1) match.group(2), ... return the capture \n",
    "\t# groups in order from left to right in the input string \n",
    "\t# match.group() is equivalent to match.group(0) \n",
    "\n",
    "\t# So this will print \"June 24\" \n",
    "\tprint (\"Full match: %s\" % (match.group(0)) )\n",
    "\n",
    "\t# So this will print \"June\" \n",
    "\tprint (\"Month: %s\" % (match.group(1)) )\n",
    "\n",
    "\t# So this will print \"24\" \n",
    "\tprint (\"Day: %s\" % (match.group(2)) )\n",
    "\n",
    "else: \n",
    "\tprint (\"The regex pattern does not match.\")\n"
   ]
  },
  {
   "cell_type": "markdown",
   "metadata": {},
   "source": [
    "**re.match()** : This function attempts to match pattern to whole string. The re.match function returns a match object on success, None on failure. "
   ]
  },
  {
   "cell_type": "code",
   "execution_count": 28,
   "metadata": {},
   "outputs": [
    {
     "name": "stdout",
     "output_type": "stream",
     "text": [
      "Given Data: Jun 24\n",
      "Month: Jun\n",
      "Day: 24\n",
      "Not a valid date\n"
     ]
    }
   ],
   "source": [
    "# A Python program to demonstrate working \n",
    "# of re.match(). \n",
    "import re \n",
    "\n",
    "# a sample function that uses regular expressions \n",
    "# to find month and day of a date. \n",
    "def findMonthAndDate(string): \n",
    "\t\n",
    "\tregex = r\"([a-zA-Z]+) (\\d+)\"\n",
    "\tmatch = re.match(regex, string) \n",
    "\t\n",
    "\tif match == None: \n",
    "\t\tprint (\"Not a valid date\")\n",
    "\t\treturn\n",
    "\n",
    "\tprint (\"Given Data: %s\" % (match.group()) )\n",
    "\tprint (\"Month: %s\" % (match.group(1)) )\n",
    "\tprint (\"Day: %s\" % (match.group(2)) )\n",
    "\n",
    "\t\n",
    "# Driver Code \n",
    "findMonthAndDate(\"Jun 24\") \n",
    "\n",
    "findMonthAndDate(\"I was born on June 24\") \n"
   ]
  },
  {
   "cell_type": "markdown",
   "metadata": {},
   "source": [
    "\n",
    "**re.findall()** : Return all non-overlapping matches of pattern in string, as a list of strings. The string is scanned left-to-right, and matches are returned in the order found"
   ]
  },
  {
   "cell_type": "code",
   "execution_count": 29,
   "metadata": {},
   "outputs": [
    {
     "name": "stdout",
     "output_type": "stream",
     "text": [
      "['123456789', '987654321']\n"
     ]
    }
   ],
   "source": [
    "# A Python program to demonstrate working of \n",
    "# findall() \n",
    "import re \n",
    "\n",
    "# A sample text string where regular expression \n",
    "# is searched. \n",
    "string = \"\"\"Hello my Number is 123456789 and \n",
    "\t\t\tmy friend's number is 987654321\"\"\"\n",
    "\n",
    "# A sample regular expression to find digits. \n",
    "regex = '\\d+'\t\t\t\n",
    "\n",
    "match = re.findall(regex, string) \n",
    "print(match) \n",
    "\n",
    "# This example is contributed by Ayush Saluja. \n"
   ]
  },
  {
   "cell_type": "code",
   "execution_count": 30,
   "metadata": {},
   "outputs": [
    {
     "name": "stdout",
     "output_type": "stream",
     "text": [
      "['shubhamg199630@gmail.com', 'priya@yahoo.com']\n"
     ]
    }
   ],
   "source": [
    "\n",
    "# Python program to extract emails From \n",
    "# the String By Regular Expression. \n",
    "\n",
    "# Importing module required for regular \n",
    "# expressions \n",
    "import re \n",
    "\n",
    "# Example string \n",
    "s = 'Hello from shubhamg199630@gmail.com to priya@yahoo.com about the meeting @2PM'\n",
    "\n",
    "# \\S matches any non-whitespace character \n",
    "# @ for as in the Email \n",
    "# + for Repeats a character one or more times \n",
    "lst = re.findall('\\S+@\\S+', s)\t \n",
    "\n",
    "# Printing of List \n",
    "print(lst) \n"
   ]
  },
  {
   "cell_type": "code",
   "execution_count": 32,
   "metadata": {},
   "outputs": [
    {
     "data": {
      "text/plain": [
       "{'priya@yahoo.com', 'shubhamg199630@gmail.com'}"
      ]
     },
     "execution_count": 32,
     "metadata": {},
     "output_type": "execute_result"
    }
   ],
   "source": [
    "# extract all email addresses and add them into the resulting set\n",
    "new_emails = set(re.findall(r\"[a-z0-9\\.\\-+_]+@[a-z0-9\\.\\-+_]+\\.[a-z]+\", \n",
    "                           s, re.I))\n",
    "new_emails"
   ]
  },
  {
   "cell_type": "code",
   "execution_count": 34,
   "metadata": {},
   "outputs": [
    {
     "name": "stdout",
     "output_type": "stream",
     "text": [
      "expectopatronum@gmail.com is Valid. Details are as follow:\n",
      "Local:expectopatronum\n",
      "Domain:gmail\n",
      "Top Level domain:com\n",
      "\n",
      "avadakedavra@yahoo.com@ is Invalid\n",
      "Crucio@.com is Invalid\n"
     ]
    }
   ],
   "source": [
    "# Without Using VERBOSE \n",
    "regex_email = re.compile(r'^([a-z0-9_\\.-]+)@([0-9a-z\\.-]+)\\.([a-z\\.]{2, 6})$', \n",
    "\t\t\tre.IGNORECASE) \n",
    "\n",
    "# Using VERBOSE \n",
    "regex_email = re.compile(r\"\"\" \n",
    "\t\t\t^([a-z0-9_\\.-]+)\t\t\t # local Part \n",
    "\t\t\t@\t\t\t\t\t\t\t # single @ sign \n",
    "\t\t\t([0-9a-z\\.-]+)\t\t\t # Domain name \n",
    "\t\t\t\\.\t\t\t\t\t\t # single Dot . \n",
    "\t\t\t([a-z]{2,6})$\t\t\t\t # Top level Domain \n",
    "\t\t\t\"\"\",re.VERBOSE | re.IGNORECASE) \n",
    "# Python3 program to show the Implementation of VERBOSE in RegEX \n",
    "import re \n",
    "\n",
    "def validate_email(email): \n",
    "\n",
    "\t# RegexObject = re.compile( Regular expression, flag ) \n",
    "\t# Compiles a regular expression pattern into \n",
    "\t# a regular expression object \n",
    "\tregex_email=re.compile(r\"\"\" \n",
    "\t\t\t\t\t\t^([a-z0-9_\\.-]+)\t\t\t\t # local Part \n",
    "\t\t\t\t\t\t@\t\t\t\t\t\t\t # single @ sign \n",
    "\t\t\t\t\t\t\t([0-9a-z\\.-]+)\t\t\t\t # Domain name \n",
    "\t\t\t\t\t\t\\.\t\t\t\t\t\t\t # single Dot . \n",
    "\t\t\t\t\t\t\t([a-z]{2,6})$\t\t\t\t # Top level Domain\t \n",
    "\t\t\t\t\t\t\"\"\",re.VERBOSE | re.IGNORECASE) \n",
    "\n",
    "\t# RegexObject is matched with the desired \n",
    "\t# string using fullmatch function \n",
    "\t# In case a match is found, search() \n",
    "\t# returns a MatchObject Instance \n",
    "\tres=regex_email.fullmatch(email) \n",
    "\n",
    "\t#If match is found, the string is valid \n",
    "\tif res: \n",
    "\t\tprint(\"{} is Valid. Details are as follow:\".format(email)) \n",
    "\t\t\n",
    "\t\t#prints first part/personal detail of Email Id \n",
    "\t\tprint(\"Local:{}\".format(res.group(1))) \n",
    "\t\t\n",
    "\t\t#prints Domain Name of Email Id \n",
    "\t\tprint(\"Domain:{}\".format(res.group(2))) \n",
    "\t\t\n",
    "\t\t#prints Top Level Domain Name of Email Id \n",
    "\t\tprint(\"Top Level domain:{}\".format(res.group(3))) \n",
    "\t\tprint() \n",
    "\t\t\n",
    "\telse: \n",
    "\t\t#If match is not found,string is invalid \n",
    "\t\tprint(\"{} is Invalid\".format(email)) \n",
    "\n",
    "# Driver Code \n",
    "validate_email(\"expectopatronum@gmail.com\") \n",
    "validate_email(\"avadakedavra@yahoo.com@\") \n",
    "validate_email(\"Crucio@.com\") \n"
   ]
  },
  {
   "cell_type": "code",
   "execution_count": 35,
   "metadata": {},
   "outputs": [
    {
     "name": "stdout",
     "output_type": "stream",
     "text": [
      "Counter({'blue': 3, 'red': 2, 'yellow': 1})\n"
     ]
    }
   ],
   "source": [
    "# An example program where different list items are \n",
    "# counted using counter \n",
    "from collections import Counter \n",
    "\n",
    "# Create a list \n",
    "z = ['blue', 'red', 'blue', 'yellow', 'blue', 'red'] \n",
    "\n",
    "# Count distinct elements and print Counter aboject \n",
    "print(Counter(z)) \n"
   ]
  },
  {
   "cell_type": "code",
   "execution_count": 36,
   "metadata": {},
   "outputs": [
    {
     "name": "stdout",
     "output_type": "stream",
     "text": [
      "Before:\n",
      "\n",
      "a 1\n",
      "b 2\n",
      "c 3\n",
      "d 4\n",
      "\n",
      "After:\n",
      "\n",
      "a 1\n",
      "b 2\n",
      "c 5\n",
      "d 4\n"
     ]
    }
   ],
   "source": [
    "# A Python program to demonstrate working of key \n",
    "# value change in OrderedDict \n",
    "from collections import OrderedDict \n",
    "\n",
    "print(\"Before:\\n\") \n",
    "od = OrderedDict() \n",
    "od['a'] = 1\n",
    "od['b'] = 2\n",
    "od['c'] = 3\n",
    "od['d'] = 4\n",
    "for key, value in od.items(): \n",
    "\tprint(key, value) \n",
    "\n",
    "print(\"\\nAfter:\\n\") \n",
    "od['c'] = 5\n",
    "for key, value in od.items(): \n",
    "\tprint(key, value) \n"
   ]
  },
  {
   "cell_type": "code",
   "execution_count": 1,
   "metadata": {},
   "outputs": [
    {
     "name": "stdout",
     "output_type": "stream",
     "text": [
      "The Effective Engineer\n",
      "The 4 Hour Work Week\n",
      "3\n"
     ]
    }
   ],
   "source": [
    "# list \n",
    "bookshelf = []\n",
    "bookshelf.append(\"The Effective Engineer\")\n",
    "bookshelf.append(\"The 4 Hour Work Week\")\n",
    "bookshelf.append(3)\n",
    "\n",
    "print(bookshelf[0]) # The Effective Engineer\n",
    "print(bookshelf[1]) # The 4 Hour Work Week\n",
    "print(bookshelf[2]) # nu"
   ]
  },
  {
   "cell_type": "code",
   "execution_count": 15,
   "metadata": {},
   "outputs": [
    {
     "name": "stdout",
     "output_type": "stream",
     "text": [
      "2\n"
     ]
    },
    {
     "data": {
      "text/plain": [
       "[1, 2, 3]"
      ]
     },
     "execution_count": 15,
     "metadata": {},
     "output_type": "execute_result"
    }
   ],
   "source": [
    "#La différence entre une liste et un tuple est qu'une liste est modifiable et un tuple, non. Chaque élément est séparé par une virgule. Voici ci-dessous la syntaxe pour déclarer une liste et un tuple :\n",
    "exempleListe = [27, 24.8, \"Bonjour\"]\n",
    "exempleTuple = (27, 24.8, \"Bonjour\")\n",
    "listeDansUneListe = [[1,2,3], [4,5,6], [7,8,9]]\n",
    "print(listeDansUneListe[0][1])\n",
    "listeDansUneListe[0]"
   ]
  },
  {
   "cell_type": "code",
   "execution_count": 16,
   "metadata": {},
   "outputs": [
    {
     "name": "stdout",
     "output_type": "stream",
     "text": [
      "['cahier', 'crayon', 'stylo', 'trousse', 'gomme', 'ciseaux']\n"
     ]
    }
   ],
   "source": [
    "# Pour ajouter un élément en fin de liste, on utilise la méthode append(element) :\n",
    ">>> fournitures = [\"cahier\", \"crayon\", \"stylo\", \"trousse\", \"gomme\"]\n",
    ">>> fournitures.append(\"ciseaux\")\n",
    ">>> print(fournitures)"
   ]
  },
  {
   "cell_type": "code",
   "execution_count": 19,
   "metadata": {},
   "outputs": [
    {
     "name": "stdout",
     "output_type": "stream",
     "text": [
      "['cahier', 'équerre', 'stylo', 'trousse', 'gomme']\n",
      "['cahier', 'équerre', 'stylo', ['trombones', 'calque'], 'gomme']\n"
     ]
    }
   ],
   "source": [
    "#La modification d'un élément se fait en réaffectant la nouvelle valeur à la place de l'ancienne :\n",
    ">>> fournitures = [\"cahier\", \"crayon\", \"stylo\", \"trousse\", \"gomme\"]\n",
    ">>> fournitures[1] = \"équerre\"\n",
    ">>> print(fournitures)#['cahier', 'équerre', 'stylo', 'trousse', 'gomme']\n",
    ">>> fournitures[3] = [\"trombones\",\"calque\"]\n",
    ">>> print(fournitures)"
   ]
  },
  {
   "cell_type": "code",
   "execution_count": 20,
   "metadata": {},
   "outputs": [
    {
     "name": "stdout",
     "output_type": "stream",
     "text": [
      "['cahier', 'crayon', 'cartable', 'stylo', 'trousse', 'gomme']\n",
      "['cahier', 'crayon', 'cartable', 'stylo', 'règle', 'feuilles', 'trousse', 'gomme']\n"
     ]
    }
   ],
   "source": [
    "#Ajouter un élément se fait en modifiant une tranche de la liste dont le début et la fin de la tranche sont identiques :\n",
    ">>> fournitures = [\"cahier\", \"crayon\", \"stylo\", \"trousse\", \"gomme\"]\n",
    ">>> fournitures[2:2] = [\"cartable\"]\t# Doit être dans une liste ou un tuple.\n",
    ">>> print(fournitures)\n",
    "#['cahier', 'crayon', 'cartable', 'stylo', 'trousse', 'gomme']\n",
    ">>> fournitures[4:4] = (\"règle\",\"feuilles\")\n",
    ">>> print(fournitures)"
   ]
  },
  {
   "cell_type": "code",
   "execution_count": 21,
   "metadata": {},
   "outputs": [
    {
     "name": "stdout",
     "output_type": "stream",
     "text": [
      "['cahier', 'crayon', 'trousse', 'gomme', 'stylo']\n"
     ]
    }
   ],
   "source": [
    "#Cette méthode permet de supprimer la première occurrence de l'élément passé en argument :\n",
    ">>> fournitures = [\"cahier\", \"crayon\", \"stylo\", \"trousse\", \"gomme\", \"stylo\"]\n",
    ">>> fournitures.remove(\"stylo\")\n",
    ">>> print(fournitures)"
   ]
  },
  {
   "cell_type": "code",
   "execution_count": 25,
   "metadata": {
    "scrolled": true
   },
   "outputs": [
    {
     "name": "stdout",
     "output_type": "stream",
     "text": [
      "['cahier', 'crayon', 'stylo', 'gomme']\n",
      "trousse\n"
     ]
    }
   ],
   "source": [
    "#La méthode pop :Cette méthode permet de supprimer un élément par son indice et retourne l'élément supprimé:\n",
    ">>> fournitures = [\"cahier\", \"crayon\", \"stylo\", \"trousse\", \"gomme\"]\n",
    ">>> element = fournitures.pop(3)\n",
    ">>> print(fournitures) #['cahier', 'crayon', 'stylo', 'gomme']\n",
    ">>> print(element)"
   ]
  },
  {
   "cell_type": "code",
   "execution_count": 26,
   "metadata": {},
   "outputs": [
    {
     "name": "stdout",
     "output_type": "stream",
     "text": [
      "5\n"
     ]
    }
   ],
   "source": [
    "# La fonction len(sequence) permet de retourner le nombre d'éléments contenus dans une séquence :\n",
    ">>> fournitures = [\"cahier\", \"crayon\", \"stylo\", \"trousse\", \"gomme\"]\n",
    ">>> print(len(fournitures))"
   ]
  },
  {
   "cell_type": "markdown",
   "metadata": {},
   "source": [
    "On peut séparer une chaîne de caractères en liste en utilisant la méthode split(separateur). Cette méthode utilise en argument une chaîne délimitant chaque élément :"
   ]
  },
  {
   "cell_type": "code",
   "execution_count": 27,
   "metadata": {},
   "outputs": [
    {
     "name": "stdout",
     "output_type": "stream",
     "text": [
      "['cahier', 'crayon', 'stylo', 'trousse', 'gomme']\n"
     ]
    }
   ],
   "source": [
    "#Divide a string into list \n",
    ">>> listeFournitures = \"cahier;crayon;stylo;trousse;gomme\"\n",
    ">>> fournitures = listeFournitures.split(\";\")\n",
    ">>> print(fournitures)"
   ]
  },
  {
   "cell_type": "markdown",
   "metadata": {},
   "source": [
    "## Assembler une liste en chaîne\n",
    "La méthode separateur.join(liste) permet de concaténer chaque élément de la liste séparé par un séparateur :"
   ]
  },
  {
   "cell_type": "code",
   "execution_count": 30,
   "metadata": {},
   "outputs": [
    {
     "name": "stdout",
     "output_type": "stream",
     "text": [
      "cahier;crayon;stylo;trousse;gomme\n"
     ]
    }
   ],
   "source": [
    ">>> fournitures = [\"cahier\", \"crayon\", \"stylo\", \"trousse\", \"gomme\"]\n",
    ">>> listeFournitures = \";\".join(fournitures)\n",
    ">>> print(listeFournitures)"
   ]
  },
  {
   "cell_type": "markdown",
   "metadata": {},
   "source": [
    "## Trier une liste\n",
    "La méthode sort() permet de trier dans l'ordre croissant une liste selon ses valeurs :"
   ]
  },
  {
   "cell_type": "code",
   "execution_count": 31,
   "metadata": {},
   "outputs": [
    {
     "name": "stdout",
     "output_type": "stream",
     "text": [
      "['cahier', 'crayon', 'gomme', 'stylo', 'trousse']\n"
     ]
    }
   ],
   "source": [
    ">>> fournitures = [\"cahier\", \"crayon\", \"stylo\", \"trousse\", \"gomme\"]\n",
    ">>> fournitures.sort()\n",
    ">>> print(fournitures)"
   ]
  },
  {
   "cell_type": "markdown",
   "metadata": {},
   "source": [
    "# Inverser l'ordre d'une liste\n",
    "La méthode reverse() permet d'inverser l'ordre des valeurs d'une liste :\n"
   ]
  },
  {
   "cell_type": "code",
   "execution_count": 32,
   "metadata": {},
   "outputs": [
    {
     "name": "stdout",
     "output_type": "stream",
     "text": [
      "['gomme', 'trousse', 'stylo', 'crayon', 'cahier']\n"
     ]
    }
   ],
   "source": [
    ">>> fournitures = [\"cahier\", \"crayon\", \"stylo\", \"trousse\", \"gomme\"]\n",
    ">>> fournitures.reverse()\n",
    ">>> print(fournitures)"
   ]
  },
  {
   "cell_type": "markdown",
   "metadata": {},
   "source": [
    "# Mélanger une liste\n",
    "La méthode shuffle() du module random permet de mélanger aléatoirement les valeurs d'une liste :\n"
   ]
  },
  {
   "cell_type": "code",
   "execution_count": 33,
   "metadata": {},
   "outputs": [
    {
     "name": "stdout",
     "output_type": "stream",
     "text": [
      "[7, 5, 4, 1, 3, 2, 6, 8, 9]\n"
     ]
    }
   ],
   "source": [
    ">>> from random import shuffle\n",
    ">>> nombres = [1,2,3,4,5,6,7,8,9]\n",
    ">>> shuffle(nombres)\n",
    ">>> print(nombres)"
   ]
  },
  {
   "cell_type": "markdown",
   "metadata": {},
   "source": [
    "##  Trouver l'index d'un élément\n",
    "La méthode index(element) retourne l'indice du premier élément passé en argument :"
   ]
  },
  {
   "cell_type": "code",
   "execution_count": 34,
   "metadata": {},
   "outputs": [
    {
     "data": {
      "text/plain": [
       "2"
      ]
     },
     "execution_count": 34,
     "metadata": {},
     "output_type": "execute_result"
    }
   ],
   "source": [
    ">>> fournitures = [\"cahier\", \"crayon\", \"stylo\", \"trousse\", \"gomme\", \"stylo\"]\n",
    ">>> fournitures.index(\"stylo\")"
   ]
  },
  {
   "cell_type": "markdown",
   "metadata": {},
   "source": [
    "## Copie de liste\n",
    "Lors de la ligne 2, Python crée un alias à la nouvelle liste et n'effectue pas de copie. Chaque opération apportée sur chaque variable affectera la liste qui est accessible par ses alias. Ainsi, pour effectuer une véritable copie d'une liste, il est nécessaire d'utiliser la fonction deepcopy du module copy :"
   ]
  },
  {
   "cell_type": "code",
   "execution_count": 35,
   "metadata": {
    "scrolled": false
   },
   "outputs": [
    {
     "name": "stdout",
     "output_type": "stream",
     "text": [
      "['cahier', 'stylo', 'trousse', 'gomme']\n",
      "['cahier', 'crayon', 'stylo', 'trousse', 'gomme']\n"
     ]
    }
   ],
   "source": [
    ">>> from copy import deepcopy\n",
    ">>> fournitures = [\"cahier\", \"crayon\", \"stylo\", \"trousse\", \"gomme\"]\n",
    ">>> copieFournitures = deepcopy(fournitures)\n",
    ">>> fournitures.remove(\"crayon\")\n",
    ">>> print(fournitures)\n",
    ">>> print(copieFournitures)"
   ]
  },
  {
   "cell_type": "markdown",
   "metadata": {},
   "source": [
    "# Création rapide d'une suite de nombre\n",
    "Il peut être utile de générer une suite de nombres. Pour cela, il est recommandé d'utiliser la fonction range(debut (inclus, par défaut 0),fin (exclu),pas (par défaut 1)).\n"
   ]
  },
  {
   "cell_type": "code",
   "execution_count": 36,
   "metadata": {},
   "outputs": [
    {
     "name": "stdout",
     "output_type": "stream",
     "text": [
      "[0, 2, 4, 6, 8, 10, 12, 14, 16, 18]\n"
     ]
    }
   ],
   "source": [
    ">>> liste = [i for i in range(0,20,2)]\n",
    ">>> print(liste)"
   ]
  },
  {
   "cell_type": "code",
   "execution_count": 37,
   "metadata": {},
   "outputs": [
    {
     "name": "stdout",
     "output_type": "stream",
     "text": [
      "[None, None, None, None, None, None, None, None, None, None]\n"
     ]
    }
   ],
   "source": [
    "# Cette syntaxe peut être utilisée pour initialiser une liste avec des valeurs identiques :\n",
    ">>> liste = [None for i in range(10)]\n",
    ">>> print(liste)"
   ]
  },
  {
   "cell_type": "markdown",
   "metadata": {},
   "source": [
    "# Boucles \"Pour\""
   ]
  },
  {
   "cell_type": "code",
   "execution_count": 43,
   "metadata": {
    "scrolled": false
   },
   "outputs": [
    {
     "name": "stdout",
     "output_type": "stream",
     "text": [
      "cahier crayon stylo trousse gomme "
     ]
    }
   ],
   "source": [
    "fournitures = [\"cahier\", \"crayon\", \"stylo\", \"trousse\", \"gomme\"]\n",
    "for element in fournitures:\n",
    "\tprint(element,end=' ',flush=True)"
   ]
  },
  {
   "cell_type": "code",
   "execution_count": 39,
   "metadata": {
    "scrolled": true
   },
   "outputs": [
    {
     "name": "stdout",
     "output_type": "stream",
     "text": [
      "Help on built-in function print in module builtins:\n",
      "\n",
      "print(...)\n",
      "    print(value, ..., sep=' ', end='\\n', file=sys.stdout, flush=False)\n",
      "    \n",
      "    Prints the values to a stream, or to sys.stdout by default.\n",
      "    Optional keyword arguments:\n",
      "    file:  a file-like object (stream); defaults to the current sys.stdout.\n",
      "    sep:   string inserted between values, default a space.\n",
      "    end:   string appended after the last value, default a newline.\n",
      "    flush: whether to forcibly flush the stream.\n",
      "\n"
     ]
    }
   ],
   "source": [
    "help(print)"
   ]
  },
  {
   "cell_type": "markdown",
   "metadata": {},
   "source": [
    "## Récupérer l'élément et son indice\n",
    "La fonction enumerate(liste) retourne l'indice et l'élément un à un :"
   ]
  },
  {
   "cell_type": "code",
   "execution_count": 44,
   "metadata": {
    "scrolled": true
   },
   "outputs": [
    {
     "name": "stdout",
     "output_type": "stream",
     "text": [
      "Indice :  0 => cahier\n",
      "Indice :  1 => crayon\n",
      "Indice :  2 => stylo\n",
      "Indice :  3 => trousse\n",
      "Indice :  4 => gomme\n"
     ]
    }
   ],
   "source": [
    ">>> fournitures = [\"cahier\", \"crayon\", \"stylo\", \"trousse\", \"gomme\"]\n",
    ">>> for index,element in enumerate(fournitures):\n",
    "        print(\"Indice :  \" + str(index) + \" => \" + element)"
   ]
  },
  {
   "cell_type": "markdown",
   "metadata": {},
   "source": [
    "## Parcourir deux listes en même temps\n",
    "La fonction zip(listes) permet de parcourir plusieurs listes en même temps :"
   ]
  },
  {
   "cell_type": "code",
   "execution_count": 45,
   "metadata": {},
   "outputs": [
    {
     "name": "stdout",
     "output_type": "stream",
     "text": [
      "(1, 4, 7)\n",
      "(2, 5, 8)\n",
      "(3, 6, 9)\n"
     ]
    }
   ],
   "source": [
    ">>> a = [1,2,3]\n",
    ">>> b = [4,5,6]\n",
    ">>> c = [7,8,9]\n",
    ">>> for i in zip(a,b,c):\n",
    "        print(i)"
   ]
  },
  {
   "cell_type": "code",
   "execution_count": 2,
   "metadata": {},
   "outputs": [
    {
     "name": "stdout",
     "output_type": "stream",
     "text": [
      "My name is Leandro\n",
      "But you can call me Tk\n",
      "And by the way I'm Brazilian\n",
      "this boy  is genius Rzouga chaka is the best one in the world\n",
      "age 29\n"
     ]
    }
   ],
   "source": [
    "# dictionary\n",
    "dictionary_example = {\n",
    "\"key1\": \"value1\",\n",
    "\"key2\": \"value2\",\n",
    "\"key3\": \"value3\"\n",
    "}\n",
    "dictionary_tk = {\n",
    "\"name\": \"Leandro\",\n",
    "\"nickname\": \"Tk\",\n",
    "\"nationality\": \"Brazilian\",\n",
    "\"Rzouga\":\"Rzouga chaka is the best one in the world\",\n",
    "    \"age\": 29\n",
    "}\n",
    "print(\"My name is %s\" %(dictionary_tk[\"name\"])) # My name is Leandro\n",
    "print(\"But you can call me %s\" %(dictionary_tk[\"nickname\"])) # But you c\n",
    "print(\"And by the way I'm %s\" %(dictionary_tk[\"nationality\"])) # And by\n",
    "print(\"this boy  is genius %s\" %(dictionary_tk[\"Rzouga\"]))\n",
    "print(\"age %s\" %(dictionary_tk[\"age\"]))"
   ]
  },
  {
   "cell_type": "code",
   "execution_count": 3,
   "metadata": {},
   "outputs": [
    {
     "name": "stdout",
     "output_type": "stream",
     "text": [
      "{'name': 'Leandro', 'nickname': 'Tk', 'nationality': 'Brazilian', 'Rzouga': 'Rzouga chaka is the best one in the world', 'age': 29, 'country': 'Tunisia'}\n"
     ]
    }
   ],
   "source": [
    "dictionary_tk['country'] = \"Tunisia\"\n",
    "print(dictionary_tk)"
   ]
  },
  {
   "cell_type": "code",
   "execution_count": 4,
   "metadata": {},
   "outputs": [
    {
     "data": {
      "text/plain": [
       "'Leandro'"
      ]
     },
     "execution_count": 4,
     "metadata": {},
     "output_type": "execute_result"
    }
   ],
   "source": [
    "dictionary_tk.get(\"name\",0)"
   ]
  },
  {
   "cell_type": "code",
   "execution_count": 46,
   "metadata": {},
   "outputs": [
    {
     "name": "stdout",
     "output_type": "stream",
     "text": [
      "{'cahiers': 134, 'stylos': {'rouge': 41, 'bleu': 74, 'noir': 16}, 'gommes': 85, 'agrafes': 49}\n"
     ]
    }
   ],
   "source": [
    "# On peut ajouter un élément dans un dictionnaire comme suit :\n",
    ">>> quantiteFournitures = {\"cahiers\":134, \"stylos\":{\"rouge\":41,\"bleu\":74}, \"gommes\": 85}\n",
    ">>> quantiteFournitures[\"agrafes\"] = 49\n",
    ">>> quantiteFournitures[\"stylos\"][\"noir\"] = 16\n",
    ">>> print(quantiteFournitures)"
   ]
  },
  {
   "cell_type": "markdown",
   "metadata": {},
   "source": [
    "# Supprimer un élément\n",
    "À l'instar des listes, on utilise la méthode pop(clé) pour supprimer un élément par sa clé et retourner l'élément supprimé :"
   ]
  },
  {
   "cell_type": "code",
   "execution_count": 47,
   "metadata": {},
   "outputs": [
    {
     "name": "stdout",
     "output_type": "stream",
     "text": [
      "{'cahiers': 134, 'stylos': {'rouge': 41, 'bleu': 74}}\n"
     ]
    }
   ],
   "source": [
    ">>> quantiteFournitures = {\"cahiers\":134, \"stylos\":{\"rouge\":41,\"bleu\":74}, \"gommes\": 85}\n",
    ">>> element = quantiteFournitures.pop(\"gommes\")\n",
    ">>> print(quantiteFournitures)"
   ]
  },
  {
   "cell_type": "code",
   "execution_count": null,
   "metadata": {},
   "outputs": [],
   "source": [
    "#Lister les clés d'un dictionnaire\n",
    "La méthode keys() retourne la liste des clés du dictionnaire :"
   ]
  },
  {
   "cell_type": "code",
   "execution_count": 48,
   "metadata": {
    "scrolled": true
   },
   "outputs": [
    {
     "name": "stdout",
     "output_type": "stream",
     "text": [
      "cahiers Quantité : 134\n",
      "stylos Quantité : {'rouge': 41, 'bleu': 74}\n",
      "gommes Quantité : 85\n"
     ]
    }
   ],
   "source": [
    ">>> quantiteFournitures = {\"cahiers\":134, \"stylos\":{\"rouge\":41,\"bleu\":74}, \"gommes\": 85}\n",
    ">>> cles = quantiteFournitures.keys()\n",
    ">>> for fourniture in cles:\n",
    "        print(fourniture,\"Quantité :\",quantiteFournitures[fourniture])"
   ]
  },
  {
   "cell_type": "code",
   "execution_count": 50,
   "metadata": {},
   "outputs": [
    {
     "name": "stdout",
     "output_type": "stream",
     "text": [
      "dict_values([134, {'rouge': 41, 'bleu': 74}, 85])\n"
     ]
    }
   ],
   "source": [
    ">>> quantiteFournitures = {\"cahiers\":134, \"stylos\":{\"rouge\":41,\"bleu\":74}, \"gommes\": 85}\n",
    ">>> values = quantiteFournitures.values()\n",
    ">>> print(values)"
   ]
  },
  {
   "cell_type": "code",
   "execution_count": 51,
   "metadata": {
    "scrolled": true
   },
   "outputs": [
    {
     "name": "stdout",
     "output_type": "stream",
     "text": [
      "cahiers 134\n",
      "stylos {'rouge': 41, 'bleu': 74}\n",
      "gommes 85\n"
     ]
    }
   ],
   "source": [
    ">>> for key , fourniture in quantiteFournitures.items():\n",
    "        print(key,fourniture)"
   ]
  },
  {
   "cell_type": "markdown",
   "metadata": {},
   "source": [
    "# Copier un dictionnaire\n",
    "La méthode copy permet de créer une copie indépendante d'un dictionnaire :\n"
   ]
  },
  {
   "cell_type": "code",
   "execution_count": 52,
   "metadata": {
    "scrolled": true
   },
   "outputs": [
    {
     "name": "stdout",
     "output_type": "stream",
     "text": [
      "{'stylos': {'rouge': 41, 'bleu': 74}, 'gommes': 85}\n"
     ]
    }
   ],
   "source": [
    ">>> quantiteFournitures = {\"cahiers\":134, \"stylos\":{\"rouge\":41,\"bleu\":74}, \"gommes\": 85}\n",
    ">>> inventaire = quantiteFournitures.copy()\n",
    ">>> quantiteFournitures.pop(\"cahiers\")\n",
    ">>> print(quantiteFournitures)"
   ]
  },
  {
   "cell_type": "markdown",
   "metadata": {},
   "source": [
    "## Parcourir un dictionnaire\n",
    "On peut parcourir un dictionnaire par ses clés ou ses clés et ses valeurs avec la méthode items() "
   ]
  },
  {
   "cell_type": "code",
   "execution_count": 54,
   "metadata": {},
   "outputs": [
    {
     "name": "stdout",
     "output_type": "stream",
     "text": [
      "cahiers\n",
      "stylos\n",
      "gommes\n"
     ]
    }
   ],
   "source": [
    ">>> quantiteFournitures = {\"cahiers\":134, \"stylos\":{\"rouge\":41,\"bleu\":74}, \"gommes\": 85}\n",
    ">>> for cle in quantiteFournitures:\n",
    "         print(cle)"
   ]
  },
  {
   "cell_type": "code",
   "execution_count": 55,
   "metadata": {
    "scrolled": true
   },
   "outputs": [
    {
     "name": "stdout",
     "output_type": "stream",
     "text": [
      "cahiers 134\n",
      "stylos {'rouge': 41, 'bleu': 74}\n",
      "gommes 85\n"
     ]
    }
   ],
   "source": [
    ">>> for key , fourniture in quantiteFournitures.items():\n",
    "        print(key,fourniture)"
   ]
  },
  {
   "cell_type": "markdown",
   "metadata": {},
   "source": [
    "# Navigation dans l'arborescence\n",
    "En fonction du répertoire dans lequel est exécuté votre script, il peut être nécessaire de changer de répertoire de travail du script. Pour se faire, nous utiliserons la fonction chdir(repertoire) dans le module os pour changer de répertoire de travail. Nous utiliserons également la fonction getcwd() du même module. Il est possible de créer un dossier avec mkdir(chemin) :\n"
   ]
  },
  {
   "cell_type": "code",
   "execution_count": 57,
   "metadata": {},
   "outputs": [
    {
     "name": "stdout",
     "output_type": "stream",
     "text": [
      "C:\\Users\\rzouga\n"
     ]
    }
   ],
   "source": [
    ">>> from os import getcwd, chdir, mkdir\n",
    ">>> print(getcwd())\n",
    "#/home/antoine\n"
   ]
  },
  {
   "cell_type": "code",
   "execution_count": 58,
   "metadata": {},
   "outputs": [
    {
     "ename": "FileNotFoundError",
     "evalue": "[WinError 2] Le fichier spécifié est introuvable: 'essais'",
     "output_type": "error",
     "traceback": [
      "\u001b[1;31m---------------------------------------------------------------------------\u001b[0m",
      "\u001b[1;31mFileNotFoundError\u001b[0m                         Traceback (most recent call last)",
      "\u001b[1;32m<ipython-input-58-67c2e3a33a76>\u001b[0m in \u001b[0;36m<module>\u001b[1;34m\u001b[0m\n\u001b[1;32m----> 1\u001b[1;33m \u001b[0mchdir\u001b[0m\u001b[1;33m(\u001b[0m\u001b[1;34m'essais'\u001b[0m\u001b[1;33m)\u001b[0m\u001b[1;33m\u001b[0m\u001b[1;33m\u001b[0m\u001b[0m\n\u001b[0m\u001b[0;32m      2\u001b[0m \u001b[0mprint\u001b[0m\u001b[1;33m(\u001b[0m\u001b[0mgetcwd\u001b[0m\u001b[1;33m(\u001b[0m\u001b[1;33m)\u001b[0m\u001b[1;33m)\u001b[0m\u001b[1;33m\u001b[0m\u001b[1;33m\u001b[0m\u001b[0m\n\u001b[0;32m      3\u001b[0m \u001b[1;31m#/home/antoine/essais\u001b[0m\u001b[1;33m\u001b[0m\u001b[1;33m\u001b[0m\u001b[1;33m\u001b[0m\u001b[0m\n",
      "\u001b[1;31mFileNotFoundError\u001b[0m: [WinError 2] Le fichier spécifié est introuvable: 'essais'"
     ]
    }
   ],
   "source": [
    ">>> chdir('essais')\n",
    ">>> print(getcwd())\n",
    "#/home/antoine/essais\n"
   ]
  },
  {
   "cell_type": "markdown",
   "metadata": {},
   "source": [
    "# Ouvrir un fichier\n",
    "Pour lire un fichier, il faut tout d'abord ouvrir un flux de lecture ou d'écriture de fichier avec la fonction open(fichier,mode (par défaut : 'rt')) avec fichier l'adresse du fichier à ouvrir et mode, le type de flux à ouvrir. Le mode est composé de deux lettres, les droits d'accès (rwxa) et l'encodage (bf). Voici le tableau détaillant les modes de flux de fichier.\n",
    "\n",
    "Caractère\tAction\n",
    "\n",
    "'r'\tOuvrir en lecture seule (défaut)\n",
    "\n",
    "'w'\tOuvrir en écriture. Écrase le fichier existant\n",
    "\n",
    "'x'\tOuvrir en écriture si et seulement si le fichier n'existe pas déjà.\n",
    "\n",
    "'a'\tOuvrir en écriture. Ajoute au fichier existant.\n",
    "\n",
    "'b'\tMode binaire.\n",
    "\n",
    "'t'\tMode texte (défaut)"
   ]
  },
  {
   "cell_type": "markdown",
   "metadata": {},
   "source": [
    "# Lire un fichier\n",
    "Une fois le flux en lecture ouvert, on peut utiliser les méthodes read() qui retournent une chaîne de caractères contenant l'intégralité du fichier ou readlines() retournant une liste où chaque élément est une ligne du fichier."
   ]
  },
  {
   "cell_type": "code",
   "execution_count": 60,
   "metadata": {},
   "outputs": [],
   "source": [
    ">>> mkdir('test')"
   ]
  },
  {
   "cell_type": "code",
   "execution_count": 69,
   "metadata": {
    "scrolled": true
   },
   "outputs": [
    {
     "name": "stdout",
     "output_type": "stream",
     "text": [
      "https://www.datafab.io/data-ingenieur/\n",
      "****project Mangment :\n",
      "https://www.digite.com/kanban/kanban-board?fbclid=IwAR2DK4QMIrjC1sNI4BYL3Eud64a6AX8nPzPcSYmV_Q2ckwE88TtnhOH8Uys\n",
      "\n",
      "------------------------------------------------------------------------------------------\n",
      "**uses cases of AI& Data science :\n",
      "--------------------------------------------------------\n",
      "https://www.theclickreader.com/business-jargons-for-data-scientists/?fbclid=IwAR2peP1wGm-htTo5C8OCiklLOxICl-KgPQTE9TQyP8j0Y77k6e47r6Sf-x0\n",
      "http://www.chercheinfo.com/view-listing.php?id=5972&fbclid=IwAR33IZzTW0JnEvQQix7xHLIY9mGg3Th3342EXLvljThv5H8za9j0VPjPb24\n",
      "-http://www.chercheinfo.com/view-listing.php?id=5971&fbclid=IwAR3IqBb3IV2HWC9tcUli96aLsxPVTYQkFKoEJO4lE5ETKbu3hGaGFBSdkvM\n",
      "-https://www.linkedin.com/posts/onkarsamant24_application-of-data-science-techniques-on-ugcPost-6625175818123517953-RlF4/?fbclid=IwAR0A6pX7WoPdphgtA7oatU6QkreL0TEZ2jg5Ak2kznqQF2KeAFg2L4FPv10\n",
      "-https://www.linkedin.com/posts/fabio-luciani_cota-improving-uber-customer-care-with-nlp-activity-6624363215839088640-J6Xm/?fbclid=IwAR1ZMnyOAq1OR93-wlVJxKSP3zXIhuIaBXK-keFLYjiLyShgs153GeJx9ZE\n",
      "https://www.linkedin.com/posts/gregoryrenard_ai-can-now-read-emotions-should-it-activity-6621775068806680576-ZAoI/?fbclid=IwAR2y_HRNpVzebSN0ZHnK-7SoLQHiNUoYRj_0rCb86scC5sDTLoIzdJny19w\n",
      "-https://www.linkedin.com/posts/explore-data-science-academy_big-data-predictions-8-analytics-trends-activity-6620008672854581248-lGQB/?fbclid=IwAR3inbTW-Aq8l_PW4jjW8So4L55slfdFF7ZWu6jznZs4MlvaQ_xXtR7ncMA\n",
      "-https://www.linkedin.com/posts/asif-bhat_data-science-and-big-data-ugcPost-6607921328454492160-FoGe/?fbclid=IwAR2-7vshHzDSYQytKigvOl5XgkiPz7sNzlEN2Iy2JAPfdJlpukmC7V36vm4\n",
      "-https://www.linkedin.com/posts/matteo-testi_ml-activity-6593966812000473088-8t_T/?fbclid=IwAR3iEUcOEmIYiLZ0Ivbtuyewy6Y6SJGmN1ixDV5W1UxcW5mqbwThEtsO-GU\n",
      "https://www.linkedin.com/posts/asif-bhat_machine-learning-for-marketers-ugcPost-6582911587387047936-jno_/?fbclid=IwAR3DLvDNro3M95GCzQBJKX2Ty55ooRp9_kafvMoesb6UBP5J_LTYlWj-ark\n",
      "https://www.forbes.com/sites/bernardmarr/2020/02/07/how-is-artificial-intelligence-and-machine-learning-used-in-engineering/amp/?fbclid=IwAR2gFO67YQXaGXbjjAg8S_SeuNMmXtiLqsOuR7o2h6NQRvQJzK_XmEMfiTA\n",
      "http://www.chercheinfo.com/index.php?id=2005&fbclid=IwAR3IWJo8PMmmCsOP1Ic4y02jeY74vTcrmQDHlT8mPk93p0Z_qxSCbmNlGKc\n",
      "https://www.datasciencecentral.com/profiles/blogs/a-data-scientist-s-guide-to-making-money-from-start-ups?fbclid=IwAR25rUb4wE5Qi4zXh_dD7T5qIwM-rPl2Odl_b4Jb5nxye5FWZvA1q2-NB0M\n",
      "https://www.linkedin.com/pulse/11-cool-data-science-project-ideas-source-code-your-malini-shukla/?fbclid=IwAR24cPF2rmDOf9UlNdVM6D4wVEhV0wMQYxK2y-3Ts_kWgK1T3mv8qscNnTI\n",
      "https://blog.businesstoys.in/15-data-science-projects-to-add-to-your-resume-for-the-year-2020/?fbclid=IwAR2YXjpHEtTNoUWW2YZHOV0x9nTUUasW4XWnZeGQTf7Q1AOGn1Jm8c2sezA\n",
      "https://data-flair.training/blogs/python-deep-learning-project-handwritten-digit-recognition/?fbclid=IwAR0IA0QKoCno15ULNbmC8RrKppKBeGxNN5fdbSDwwJ-h5TMPbqqEPkprV_4\n",
      "https://www.nature.com/articles/s41598-019-56927-5?fbclid=IwAR1uvdETLDeAcRm3BREuoD9t64TgiSXxc7m-Y5-b2x_bCaVj0R-WLunzNZ8\n",
      "https://autome.me/four-awesome-applications-of-natural-language-processing-nlp/?fbclid=IwAR13jlQtCLWW2lsXeh1twZnhH9VOq0OlrybBrOq0P1f0blfOlx4gD2yTed4\n",
      "https://forwardpartners.com/blog/data-health-care-office-hours/?fbclid=IwAR0g_MOCbwDlpv18-a7Jajn32FP6roL-pxC7pN_5_s6T64SO3pjqYQcmjN4\n",
      "https://www.udemy.com/course/awscloudmigration/?fbclid=IwAR0evPBH4iXxDebrK3zVK1OPiYAx2gAvp8oE1ClGJCRYiC3Dh5hOt3WIWEQ&couponCode=01FEB2020\n",
      "https://www.analyticsinsight.net/artificial-intelligence-enhancing-radiology-industry/?fbclid=IwAR14N1Jax_kOnxY8LGxAsmWr96CEf9sqPP89K8aay09Sxqk4iQ4Q_E7bubc\n",
      "https://www.aretove.com/blogs/driving-e-commerce-business-by-leveraging-predictive-analytics?fbclid=IwAR3J_hApgDXEW0C-uDHUW7BmHU_mjZuIq76iFh8TvvxC_lnD1AfePmbUl0w\n",
      "https://industrydailynewsblog.wordpress.com/2020/02/04/artificial-intelligence-ai-in-construction-2020-market-by-industry-sizegrowthtrendsanalysisopportunities-and-forecasts-to-2026/?fbclid=IwAR2s2muHnp7zUNYmdlbXHLNzuVtR0etfcyybmUHmvXrOxm59bGCn-Gzfm0k\n",
      "https://techcrunch.com/2020/02/08/scapebook/\n",
      "https://www.theclickreader.com/business-jargons-for-data-scientists/?fbclid=IwAR2peP1wGm-htTo5C8OCiklLOxICl-KgPQTE9TQyP8j0Y77k6e47r6Sf-x0\n",
      "https://www.entrepreneur.com/article/281416?fbclid=IwAR3zRBhZ0PCRK3Fce_uQFIa9KL5mkMiLkHWzfgMP3TCP3IP3cxMGqUUMGO8\n",
      "Upwork.com freelance\n",
      "https://www.toptal.com/ freelance \n",
      "https://debuggercafe.com/category/computer-vision/\n",
      "data set :\n",
      "https://archive.ics.uci.edu/ml/index.php\n",
      "recomedations systems :\n",
      "-----------------------------------------------------------\n",
      "automate les processus de maintenance, \n",
      "automate les processus de recrutment .\n",
      "\n",
      "automate hand writing reading cnn\n",
      "virtuel magazin \n",
      "\n",
      "\n",
      "C:\\spark\\spark-2.3.3-bin-hadoop2.7\\spark-2.3.3-bin-hadoop2.7\\bin\\hadoop\n"
     ]
    }
   ],
   "source": [
    ">>> fichier = open(\"C:/Users/rzouga/Desktop/StartUpIdea.txt\",'rt')\n",
    ">>> texte = fichier.read()\n",
    ">>> print(texte)\n",
    ">>> fichier.close()"
   ]
  },
  {
   "cell_type": "code",
   "execution_count": 71,
   "metadata": {
    "scrolled": false
   },
   "outputs": [
    {
     "name": "stdout",
     "output_type": "stream",
     "text": [
      "['https://www.datafab.io/data-ingenieur/\\n', '****project Mangment :\\n', 'https://www.digite.com/kanban/kanban-board?fbclid=IwAR2DK4QMIrjC1sNI4BYL3Eud64a6AX8nPzPcSYmV_Q2ckwE88TtnhOH8Uys\\n', '\\n', '------------------------------------------------------------------------------------------\\n', '**uses cases of AI& Data science :\\n', '--------------------------------------------------------\\n', 'https://www.theclickreader.com/business-jargons-for-data-scientists/?fbclid=IwAR2peP1wGm-htTo5C8OCiklLOxICl-KgPQTE9TQyP8j0Y77k6e47r6Sf-x0\\n', 'http://www.chercheinfo.com/view-listing.php?id=5972&fbclid=IwAR33IZzTW0JnEvQQix7xHLIY9mGg3Th3342EXLvljThv5H8za9j0VPjPb24\\n', '-http://www.chercheinfo.com/view-listing.php?id=5971&fbclid=IwAR3IqBb3IV2HWC9tcUli96aLsxPVTYQkFKoEJO4lE5ETKbu3hGaGFBSdkvM\\n', '-https://www.linkedin.com/posts/onkarsamant24_application-of-data-science-techniques-on-ugcPost-6625175818123517953-RlF4/?fbclid=IwAR0A6pX7WoPdphgtA7oatU6QkreL0TEZ2jg5Ak2kznqQF2KeAFg2L4FPv10\\n', '-https://www.linkedin.com/posts/fabio-luciani_cota-improving-uber-customer-care-with-nlp-activity-6624363215839088640-J6Xm/?fbclid=IwAR1ZMnyOAq1OR93-wlVJxKSP3zXIhuIaBXK-keFLYjiLyShgs153GeJx9ZE\\n', 'https://www.linkedin.com/posts/gregoryrenard_ai-can-now-read-emotions-should-it-activity-6621775068806680576-ZAoI/?fbclid=IwAR2y_HRNpVzebSN0ZHnK-7SoLQHiNUoYRj_0rCb86scC5sDTLoIzdJny19w\\n', '-https://www.linkedin.com/posts/explore-data-science-academy_big-data-predictions-8-analytics-trends-activity-6620008672854581248-lGQB/?fbclid=IwAR3inbTW-Aq8l_PW4jjW8So4L55slfdFF7ZWu6jznZs4MlvaQ_xXtR7ncMA\\n', '-https://www.linkedin.com/posts/asif-bhat_data-science-and-big-data-ugcPost-6607921328454492160-FoGe/?fbclid=IwAR2-7vshHzDSYQytKigvOl5XgkiPz7sNzlEN2Iy2JAPfdJlpukmC7V36vm4\\n', '-https://www.linkedin.com/posts/matteo-testi_ml-activity-6593966812000473088-8t_T/?fbclid=IwAR3iEUcOEmIYiLZ0Ivbtuyewy6Y6SJGmN1ixDV5W1UxcW5mqbwThEtsO-GU\\n', 'https://www.linkedin.com/posts/asif-bhat_machine-learning-for-marketers-ugcPost-6582911587387047936-jno_/?fbclid=IwAR3DLvDNro3M95GCzQBJKX2Ty55ooRp9_kafvMoesb6UBP5J_LTYlWj-ark\\n', 'https://www.forbes.com/sites/bernardmarr/2020/02/07/how-is-artificial-intelligence-and-machine-learning-used-in-engineering/amp/?fbclid=IwAR2gFO67YQXaGXbjjAg8S_SeuNMmXtiLqsOuR7o2h6NQRvQJzK_XmEMfiTA\\n', 'http://www.chercheinfo.com/index.php?id=2005&fbclid=IwAR3IWJo8PMmmCsOP1Ic4y02jeY74vTcrmQDHlT8mPk93p0Z_qxSCbmNlGKc\\n', 'https://www.datasciencecentral.com/profiles/blogs/a-data-scientist-s-guide-to-making-money-from-start-ups?fbclid=IwAR25rUb4wE5Qi4zXh_dD7T5qIwM-rPl2Odl_b4Jb5nxye5FWZvA1q2-NB0M\\n', 'https://www.linkedin.com/pulse/11-cool-data-science-project-ideas-source-code-your-malini-shukla/?fbclid=IwAR24cPF2rmDOf9UlNdVM6D4wVEhV0wMQYxK2y-3Ts_kWgK1T3mv8qscNnTI\\n', 'https://blog.businesstoys.in/15-data-science-projects-to-add-to-your-resume-for-the-year-2020/?fbclid=IwAR2YXjpHEtTNoUWW2YZHOV0x9nTUUasW4XWnZeGQTf7Q1AOGn1Jm8c2sezA\\n', 'https://data-flair.training/blogs/python-deep-learning-project-handwritten-digit-recognition/?fbclid=IwAR0IA0QKoCno15ULNbmC8RrKppKBeGxNN5fdbSDwwJ-h5TMPbqqEPkprV_4\\n', 'https://www.nature.com/articles/s41598-019-56927-5?fbclid=IwAR1uvdETLDeAcRm3BREuoD9t64TgiSXxc7m-Y5-b2x_bCaVj0R-WLunzNZ8\\n', 'https://autome.me/four-awesome-applications-of-natural-language-processing-nlp/?fbclid=IwAR13jlQtCLWW2lsXeh1twZnhH9VOq0OlrybBrOq0P1f0blfOlx4gD2yTed4\\n', 'https://forwardpartners.com/blog/data-health-care-office-hours/?fbclid=IwAR0g_MOCbwDlpv18-a7Jajn32FP6roL-pxC7pN_5_s6T64SO3pjqYQcmjN4\\n', 'https://www.udemy.com/course/awscloudmigration/?fbclid=IwAR0evPBH4iXxDebrK3zVK1OPiYAx2gAvp8oE1ClGJCRYiC3Dh5hOt3WIWEQ&couponCode=01FEB2020\\n', 'https://www.analyticsinsight.net/artificial-intelligence-enhancing-radiology-industry/?fbclid=IwAR14N1Jax_kOnxY8LGxAsmWr96CEf9sqPP89K8aay09Sxqk4iQ4Q_E7bubc\\n', 'https://www.aretove.com/blogs/driving-e-commerce-business-by-leveraging-predictive-analytics?fbclid=IwAR3J_hApgDXEW0C-uDHUW7BmHU_mjZuIq76iFh8TvvxC_lnD1AfePmbUl0w\\n', 'https://industrydailynewsblog.wordpress.com/2020/02/04/artificial-intelligence-ai-in-construction-2020-market-by-industry-sizegrowthtrendsanalysisopportunities-and-forecasts-to-2026/?fbclid=IwAR2s2muHnp7zUNYmdlbXHLNzuVtR0etfcyybmUHmvXrOxm59bGCn-Gzfm0k\\n', 'https://techcrunch.com/2020/02/08/scapebook/\\n', 'https://www.theclickreader.com/business-jargons-for-data-scientists/?fbclid=IwAR2peP1wGm-htTo5C8OCiklLOxICl-KgPQTE9TQyP8j0Y77k6e47r6Sf-x0\\n', 'https://www.entrepreneur.com/article/281416?fbclid=IwAR3zRBhZ0PCRK3Fce_uQFIa9KL5mkMiLkHWzfgMP3TCP3IP3cxMGqUUMGO8\\n', 'Upwork.com freelance\\n', 'https://www.toptal.com/ freelance \\n', 'https://debuggercafe.com/category/computer-vision/\\n', 'data set :\\n', 'https://archive.ics.uci.edu/ml/index.php\\n', 'recomedations systems :\\n', '-----------------------------------------------------------\\n', 'automate les processus de maintenance, \\n', 'automate les processus de recrutment .\\n', '\\n', 'automate hand writing reading cnn\\n', 'virtuel magazin \\n', '\\n', '\\n', 'C:\\\\spark\\\\spark-2.3.3-bin-hadoop2.7\\\\spark-2.3.3-bin-hadoop2.7\\\\bin\\\\hadoop']\n"
     ]
    }
   ],
   "source": [
    "fichier = open(\"C:/Users/rzouga/Desktop/StartUpIdea.txt\",'rt')\n",
    ">>> lignes = fichier.readlines()\n",
    ">>> print(lignes)\n",
    "fichier.close()"
   ]
  },
  {
   "cell_type": "markdown",
   "metadata": {},
   "source": [
    "# Écrire un fichier\n",
    "On peut écrire un fichier si le flux est ouvert en écriture. Les trois flux possibles sont \"w\", \"x\" et \"a\". À l'instar de read() et readlines(), on utilisera write(chaine) pour écrire une chaîne de caractères et writelines(lignes) avec lignes une liste ou un tuple dont chaque élément est une ligne à écrire. N'oubliez pas le caractère \\n en fin de ligne pour revenir à la ligne.\n"
   ]
  },
  {
   "cell_type": "code",
   "execution_count": 72,
   "metadata": {},
   "outputs": [],
   "source": [
    ">>> fichier = open(\"C:/Users/rzouga/Desktop/texte.txt\",'wt')\n",
    ">>> fichier.write(\"Lorem ipsum dolor sit amet, consectetur adipiscing elit. \\nPellentesque gravida erat ut lectus convallis auctor. \\nFusce mollis sem id tellus auctor hendrerit.\")\n",
    ">>> fichier.close()"
   ]
  },
  {
   "cell_type": "code",
   "execution_count": 74,
   "metadata": {},
   "outputs": [],
   "source": [
    ">>> fichier = open(\"C:/Users/rzouga/Desktop/texte1.txt\",'xt')\n",
    ">>> fichier.writelines([\"Lorem ipsum dolor sit amet, consectetur adipiscing elit. \\n\", \"Pellentesque gravida erat ut lectus convallis auctor. \\n\", \"Fusce mollis sem id tellus auctor hendrerit.\"])\n",
    ">>> fichier.close()"
   ]
  },
  {
   "cell_type": "markdown",
   "metadata": {},
   "source": [
    "# Le format CSV\n",
    "Le fichier Comma-separated values (CSV) est un format permettant de stocker des tableaux dans un fichier texte. Chaque ligne est représentée par une ligne de texte et chaque colonne est séparée par un séparateur (virgule, point-virgule …).\n",
    "\n",
    "Les champs texte peuvent également être délimités par des guillemets. Lorsqu'un champ contient lui-même des guillemets, ils sont doublés afin de ne pas être considérés comme début ou fin du champ. Si un champ contient un signe pouvant être utilisé comme séparateur de colonne (virgule, point-virgule …) ou comme séparateur de ligne, les guillemets sont donc obligatoires afin que ce signe ne soit pas confondu avec un séparateur.\n",
    "# Lire un fichier CSV\n",
    "Pour lire un fichier CSV, vous devez ouvrir un flux de lecture de fichier et ouvrir à partir de ce flux un lecteur CSV. Pour ignorer la ligne d'en-tête, utilisez next(lecteurCSV) :\n"
   ]
  },
  {
   "cell_type": "code",
   "execution_count": null,
   "metadata": {},
   "outputs": [],
   "source": [
    "\n",
    "import csv\n",
    "fichier = open(\"noms.csv\", \"rt\")\n",
    "lecteurCSV = csv.reader(fichier,delimiter=\";\")\t# Ouverture du lecteur CSV en lui fournissant le caractère séparateur (ici \";\")\n",
    "for ligne in lecteurCSV:\n",
    "\tprint(ligne)\t# Exemple avec la 1e ligne du fichier d'exemple : ['Nom', 'Prénom', 'Age']\n",
    "fichier.close()\n",
    "\n",
    "import csv\n",
    "fichier = open(\"noms.csv\", \"rt\")\n",
    "lecteurCSV = csv.reader(fichier,delimiter=\";\",quotechar=\"'\")\n",
    "# Définit l'apostrophe comme délimiteur de champs texte\n",
    "for ligne in lecteurCSV:\n",
    "\tprint(ligne)\n",
    "fichier.close()\n",
    "\n",
    "# Vous pouvez également lire les données et obtenir un dictionnaire par ligne contenant les données en utilisant DictReader au lieu de reader :\n",
    "\n",
    "import csv\n",
    "fichier = open(\"noms.csv\", \"rt\")\n",
    "lecteurCSV = csv.DictReader(fichier,delimiter=\";\")\n",
    "for ligne in lecteurCSV:\n",
    "\tprint(ligne)\t# Résultat obtenu : {'Age': '29', 'Nom': 'Dubois', 'Prénom': 'Marie'}\n",
    "fichier.close()"
   ]
  },
  {
   "cell_type": "markdown",
   "metadata": {},
   "source": [
    "# Écrire un fichier CSV\n",
    "\n",
    "À l'instar de la lecture, on ouvre un flux d'écriture et on ouvre un écrivain CSV à partir de ce flux :\n"
   ]
  },
  {
   "cell_type": "code",
   "execution_count": 75,
   "metadata": {},
   "outputs": [],
   "source": [
    "import csv\n",
    "fichier = open(\"C:/Users/rzouga/Desktop/annuaire.csv\", \"wt\")\n",
    "ecrivainCSV = csv.writer(fichier,delimiter=\";\")\n",
    "ecrivainCSV.writerow([\"Nom\",\"Prénom\",\"Téléphone\"])\t# On écrit la ligne d'en-tête avec le titre des colonnes\n",
    "ecrivainCSV.writerow([\"Dubois\",\"Marie\",\"0198546372\"])\n",
    "ecrivainCSV.writerow([\"Duval\",\"Julien \\\"Paul\\\"\",\"0399741052\"])\n",
    "ecrivainCSV.writerow([\"Jacquet\",\"Bernard\",\"0200749685\"])\n",
    "ecrivainCSV.writerow([\"Martin\",\"Julie;Clara\",\"0399731590\"])\n",
    "fichier.close()"
   ]
  },
  {
   "cell_type": "code",
   "execution_count": 77,
   "metadata": {
    "scrolled": true
   },
   "outputs": [
    {
     "name": "stdout",
     "output_type": "stream",
     "text": [
      "['Nom', 'Prénom', 'Téléphone']\n",
      "[]\n",
      "['Dubois', 'Marie', '0198546372']\n",
      "[]\n",
      "['Duval', 'Julien \"Paul\"', '0399741052']\n",
      "[]\n",
      "['Jacquet', 'Bernard', '0200749685']\n",
      "[]\n",
      "['Martin', 'Julie;Clara', '0399731590']\n",
      "[]\n"
     ]
    }
   ],
   "source": [
    "import csv\n",
    "fichier = open(\"C:/Users/rzouga/Desktop/annuaire.csv\", \"rt\")\n",
    "lecteurCSV = csv.reader(fichier,delimiter=\";\")\n",
    "# Définit l'apostrophe comme délimiteur de champs texte\n",
    "for ligne in lecteurCSV:\n",
    "\tprint(ligne)\n",
    "fichier.close()"
   ]
  },
  {
   "cell_type": "markdown",
   "metadata": {},
   "source": [
    "Il est également possible d'écrire le fichier en fournissant un dictionnaire par ligne à condition que chaque dictionnaire possède les mêmes clés. On doit également fournir la liste des clés des dictionnaires avec l'argument fieldnames :"
   ]
  },
  {
   "cell_type": "code",
   "execution_count": 82,
   "metadata": {},
   "outputs": [],
   "source": [
    "import csv\n",
    "bonCommande = [\n",
    "\t{\"produit\":\"cahier\", \"reference\":\"F452CP\", \"quantite\":41, \"prixUnitaire\":1.6},\n",
    "\t{\"produit\":\"stylo bleu\", \"reference\":\"D857BL\", \"quantite\":18, \"prixUnitaire\":0.95},\n",
    "\t{\"produit\":\"stylo noir\", \"reference\":\"D857NO\", \"quantite\":18, \"prixUnitaire\":0.95},\n",
    "\t{\"produit\":\"équerre\", \"reference\":\"GF955K\", \"quantite\":4, \"prixUnitaire\":5.10},\n",
    "\t{\"produit\":\"compas\", \"reference\":\"RT42AX\", \"quantite\":13, \"prixUnitaire\":5.25}\n",
    "]\n",
    "fichier = open(\"C:/Users/rzouga/Desktop/bon-commande.csv\", \"wt\")\n",
    "ecrivainCSV = csv.DictWriter(fichier,delimiter=\";\",fieldnames=bonCommande[0].keys())\n",
    "ecrivainCSV.writeheader()\t# On écrit la ligne d'en-tête avec le titre des colonnes\n",
    "for ligne in bonCommande:\n",
    "\tecrivainCSV.writerow(ligne)\n",
    "fichier.close()"
   ]
  },
  {
   "cell_type": "code",
   "execution_count": null,
   "metadata": {},
   "outputs": [],
   "source": [
    "# Erreur\n",
    "try:\n",
    "\t# La portion de code à tester\n",
    "except:\n",
    "\t# Que faire en cas d'erreur\n",
    "    \n",
    "try:\n",
    "\tquantiteBoites = quantitePieces / nombresPiecesParBoites\n",
    "except TypeError:\t\t\t\t# Type incompatible avec l'opération\n",
    "\tprint(\"Au moins une des variables n'est pas un nombre. \")\n",
    "except NameError:\t\t\t\t# Variable non définie\n",
    "\tprint(\"Au moins une des variables n'est pas définie. \")\n",
    "except ZeroDivisionError:\t# Division par 0\n",
    "\tprint(\"Le nombres de pièces par boites est égal à 0. \")\n",
    "else:\n",
    "\tprint(\"Il faut commander \" + str(quantiteBoites) + \" boîtes. \")"
   ]
  },
  {
   "cell_type": "code",
   "execution_count": 5,
   "metadata": {},
   "outputs": [
    {
     "name": "stdout",
     "output_type": "stream",
     "text": [
      "The Effective Engineer\n",
      "The 4-hour Workweek\n",
      "Zero to One\n",
      "Lean Startup\n",
      "Hooked\n"
     ]
    }
   ],
   "source": [
    "# Iteration: Looping Through Data Structures\n",
    "bookshelf = [\n",
    "\"The Effective Engineer\",\n",
    "\"The 4-hour Workweek\",\n",
    "\"Zero to One\",\n",
    "\"Lean Startup\",\n",
    "\"Hooked\"\n",
    "]\n",
    "for book in bookshelf :\n",
    "    print(book)"
   ]
  },
  {
   "cell_type": "code",
   "execution_count": 6,
   "metadata": {},
   "outputs": [
    {
     "name": "stdout",
     "output_type": "stream",
     "text": [
      "my name and my Leandro\n",
      "my nickname and my Tk\n",
      "my nationality and my Brazilian\n",
      "my age and my 24\n"
     ]
    }
   ],
   "source": [
    "dictionary_tk = {\n",
    "\"name\": \"Leandro\",\n",
    "\"nickname\": \"Tk\",\n",
    "\"nationality\": \"Brazilian\",\n",
    "\"age\": 24\n",
    "}\n",
    "for key, value in dictionary_tk.items():\n",
    "    print(\"my %s and my %s\" %(key,value))"
   ]
  },
  {
   "cell_type": "code",
   "execution_count": 7,
   "metadata": {},
   "outputs": [
    {
     "name": "stdout",
     "output_type": "stream",
     "text": [
      "<__main__.Vehicle object at 0x00000000052A0D88>\n"
     ]
    }
   ],
   "source": [
    "# Classes & Objects\n",
    "class Vehicle:\n",
    "    pass\n",
    "car = Vehicle()\n",
    "print(car)"
   ]
  },
  {
   "cell_type": "code",
   "execution_count": 8,
   "metadata": {},
   "outputs": [
    {
     "data": {
      "text/plain": [
       "4"
      ]
     },
     "execution_count": 8,
     "metadata": {},
     "output_type": "execute_result"
    }
   ],
   "source": [
    "# data + behavior  , attributes + methods  \n",
    "class Vehicle:\n",
    "    # We use the init method. We call it a constructor method.\n",
    "    def __init__(self, number_of_wheels, type_of_tank, seating_capacity,maximum_velocity):\n",
    "        self.number_of_wheels = number_of_wheels\n",
    "        self.type_of_tank = type_of_tank\n",
    "        self.seating_capacity = seating_capacity\n",
    "        self.maximum_velocity = maximum_velocity\n",
    "    def number_of_wheels(self):\n",
    "        return self.number_of_wheels\n",
    "    def set_number_of_wheels(self, number):\n",
    "        self.number_of_wheels = number \n",
    "\"\"\"This is an implementation of two methods: number_of_wheels and\n",
    "set_number_of_wheels. We call it getter & setter . Because the 􀃘rst gets\n",
    "the attribute value, and the second sets a new value for the attribute.\"\"\"        \n",
    "tesla_model_s = Vehicle(4, 'electric', 5, 250)\n",
    "tesla_model_s.number_of_wheels"
   ]
  },
  {
   "cell_type": "code",
   "execution_count": 9,
   "metadata": {},
   "outputs": [
    {
     "data": {
      "text/plain": [
       "7"
      ]
     },
     "execution_count": 9,
     "metadata": {},
     "output_type": "execute_result"
    }
   ],
   "source": [
    "tesla_model_s.set_number_of_wheels(7)\n",
    "tesla_model_s.number_of_wheels"
   ]
  },
  {
   "cell_type": "code",
   "execution_count": 2,
   "metadata": {},
   "outputs": [
    {
     "name": "stdout",
     "output_type": "stream",
     "text": [
      "3628800\n",
      "Total time taken in :  factorial 2.0124034881591797\n"
     ]
    }
   ],
   "source": [
    "\"\"\"Decorators are very powerful and useful tool in Python since it allows programmers to modify the behavior of function or class. \n",
    "Decorators allow us to wrap another function in order to extend the behavior of wrapped function, without permanently modifying it.\n",
    "\n",
    "In Decorators, functions are taken as the argument into another function and then called inside the wrapper function.\"\"\"\n",
    "# importing libraries \n",
    "import time \n",
    "import math \n",
    "\n",
    "# decorator to calculate duration \n",
    "# taken by any function. \n",
    "def calculate_time(func): \n",
    "\t\n",
    "\t# added arguments inside the inner1, \n",
    "\t# if function takes any arguments, \n",
    "\t# can be added like this. \n",
    "\tdef inner1(*args, **kwargs): \n",
    "\n",
    "\t\t# storing time before function execution \n",
    "\t\tbegin = time.time() \n",
    "\t\t\n",
    "\t\tfunc(*args, **kwargs) \n",
    "\n",
    "\t\t# storing time after function execution \n",
    "\t\tend = time.time() \n",
    "\t\tprint(\"Total time taken in : \", func.__name__, end - begin) \n",
    "\n",
    "\treturn (inner1 )\n",
    "\n",
    "\n",
    "\n",
    "# this can be added to any function present, \n",
    "# in this case to calculate a factorial \n",
    "@calculate_time\n",
    "def factorial(num): \n",
    "\n",
    "\t# sleep 2 seconds because it takes very less time \n",
    "\t# so that you can see the actual difference \n",
    "\ttime.sleep(2) \n",
    "\tprint(math.factorial(num)) \n",
    "\n",
    "# calling the function. \n",
    "factorial(10) \n"
   ]
  },
  {
   "cell_type": "code",
   "execution_count": 3,
   "metadata": {},
   "outputs": [
    {
     "name": "stdout",
     "output_type": "stream",
     "text": [
      "before Execution\n",
      "Inside the function\n",
      "after Execution\n",
      "Sum = 3\n"
     ]
    }
   ],
   "source": [
    "def hello_decorator(func): \n",
    "\tdef inner1(*args, **kwargs): \n",
    "\t\t\n",
    "\t\tprint(\"before Execution\") \n",
    "\t\t\n",
    "\t\t# getting the returned value \n",
    "\t\treturned_value = func(*args, **kwargs) \n",
    "\t\tprint(\"after Execution\") \n",
    "\t\t\n",
    "\t\t# returning the value to the original frame \n",
    "\t\treturn returned_value \n",
    "\t\t\n",
    "\treturn (inner1) \n",
    "\n",
    "\n",
    "# adding decorator to the function \n",
    "@hello_decorator\n",
    "def sum_two_numbers(a, b): \n",
    "\tprint(\"Inside the function\") \n",
    "\treturn (a + b) \n",
    "\n",
    "a, b = 1, 2\n",
    "\n",
    "# getting the value through return of the function \n",
    "print(\"Sum =\", sum_two_numbers(a, b)) \n"
   ]
  },
  {
   "cell_type": "code",
   "execution_count": 4,
   "metadata": {},
   "outputs": [
    {
     "name": "stdout",
     "output_type": "stream",
     "text": [
      "Inside decorator\n",
      "Inside inner function\n",
      "I like geeksforgeeks\n",
      "Inside actual function\n"
     ]
    }
   ],
   "source": [
    "# Python code to illustrate \n",
    "# Decorators with parameters in Python \n",
    "\n",
    "def decorator(*args, **kwargs): \n",
    "\tprint(\"Inside decorator\") \n",
    "\t\n",
    "\tdef inner(func): \n",
    "\t\t\n",
    "\t\t# code functionality here \n",
    "\t\tprint(\"Inside inner function\") \n",
    "\t\tprint(\"I like\", kwargs['like']) \n",
    "\t\t\n",
    "\t\tfunc() \n",
    "\t\t\n",
    "\t# reurning inner function\t \n",
    "\treturn (inner )\n",
    "\n",
    "@decorator(like = \"geeksforgeeks\") \n",
    "def my_func(): \n",
    "\tprint(\"Inside actual function\") \n"
   ]
  },
  {
   "cell_type": "markdown",
   "metadata": {},
   "source": [
    "\n",
    "# Memoization using decorators in Python\n",
    "\n",
    "\n",
    "**Recursion** is a programming technique where a function calls itself repeatedly till a termination condition is met. Some of the examples where recursion is used are: calculation of fibonacci series, factorial etc. But the issue with them is that in the recursion tree, there can be chances that the sub-problem that is already solved is being solved again, which adds to an overhead.\n",
    "\n",
    "**Memoization** is a technique of recording the intermediate results so that it can be used to avoid repeated calculations and speed up the programs. It can be used to optimize the programs that use recursion. In Python, memoization can be done with the help of function decorators.\n",
    "\n",
    "Let us take the example of calculating the factorial of a number. The simple program below uses recursion to solve the problem:"
   ]
  },
  {
   "cell_type": "code",
   "execution_count": 6,
   "metadata": {},
   "outputs": [
    {
     "name": "stdout",
     "output_type": "stream",
     "text": [
      "120\n"
     ]
    },
    {
     "data": {
      "text/plain": [
       "'Explanation:\\n1. A function called memoize_factorial has been defined.\\nIt’s main purpose is to store the intermediate results in the variable called memory.\\n2. The second function called facto is the function to calculate the factorial. \\nIt has been annotated by a decorator(the function memoize_factorial).\\nThe facto has access to the memory variable as a result of the concept of closures.\\nThe annotation is equivalent to writing,'"
      ]
     },
     "execution_count": 6,
     "metadata": {},
     "output_type": "execute_result"
    }
   ],
   "source": [
    "# Factorial program with memoization using \n",
    "# decorators. \n",
    "\n",
    "# A decorator function for function 'f' passed \n",
    "# as parameter \n",
    "def memoize_factorial(f): \n",
    "\tmemory = {} \n",
    "\n",
    "\t# This inner function has access to memory \n",
    "\t# and 'f' \n",
    "\tdef inner(num): \n",
    "\t\tif num not in memory:\t\t \n",
    "\t\t\tmemory[num] = f(num) \n",
    "\t\treturn memory[num] \n",
    "\n",
    "\treturn inner \n",
    "\t\n",
    "@memoize_factorial\n",
    "def facto(num): \n",
    "\tif num == 1: \n",
    "\t\treturn 1\n",
    "\telse: \n",
    "\t\treturn num * facto(num-1) \n",
    "\n",
    "print(facto(5)) \n",
    "\"\"\"Explanation:\n",
    "1. A function called memoize_factorial has been defined.\n",
    "It’s main purpose is to store the intermediate results in the variable called memory.\n",
    "2. The second function called facto is the function to calculate the factorial. \n",
    "It has been annotated by a decorator(the function memoize_factorial).\n",
    "The facto has access to the memory variable as a result of the concept of closures.\n",
    "The annotation is equivalent to writing,\"\"\""
   ]
  },
  {
   "cell_type": "code",
   "execution_count": 10,
   "metadata": {},
   "outputs": [
    {
     "name": "stdout",
     "output_type": "stream",
     "text": [
      "4\n",
      "2\n"
     ]
    },
    {
     "data": {
      "text/plain": [
       "'This is slightly different than de\\U001000d8ning methods. The methods work as\\nattributes. For example, when we set the new number of wheels, we don’t\\napply two as a parameter, but set the value 2 to number_of_wheels . This is\\none way to write pythonic getter and setter code.'"
      ]
     },
     "execution_count": 10,
     "metadata": {},
     "output_type": "execute_result"
    }
   ],
   "source": [
    "\"\"\"In Python, we can do that using @property ( decorators ) to define getters and setters . Let’s see it with code:\"\"\"\n",
    "class Vehicle:\n",
    "    def __init__(self, number_of_wheels, type_of_tank, seating_capacity,maximum_velocity):\n",
    "        self.number_of_wheels = number_of_wheels\n",
    "        self.type_of_tank = type_of_tank\n",
    "        self.seating_capacity = seating_capacity\n",
    "        self.maximum_velocity = maximum_velocity\n",
    "    @property\n",
    "    def number_of_wheels(self):\n",
    "        return self.__number_of_wheels\n",
    "    @number_of_wheels.setter\n",
    "    def number_of_wheels(self, number):\n",
    "        self.__number_of_wheels = number\n",
    "                 \n",
    "#And we can use these methods as attributes:\n",
    "tesla_model_s = Vehicle(4, 'electric', 5, 250)\n",
    "print(tesla_model_s.number_of_wheels) # 4\n",
    "tesla_model_s.number_of_wheels = 2 # setting number of wheels to 2\n",
    "print(tesla_model_s.number_of_wheels) # 2  \n",
    "\"\"\"This is slightly different than de􀃘ning methods. The methods work as\n",
    "attributes. For example, when we set the new number of wheels, we don’t\n",
    "apply two as a parameter, but set the value 2 to number_of_wheels . This is\n",
    "one way to write pythonic getter and setter code.\"\"\""
   ]
  },
  {
   "cell_type": "code",
   "execution_count": 11,
   "metadata": {},
   "outputs": [
    {
     "name": "stdout",
     "output_type": "stream",
     "text": [
      "VRUUUUUUUM\n"
     ]
    }
   ],
   "source": [
    "class Vehicle:\n",
    "    def __init__(self, number_of_wheels, type_of_tank, seating_capacity,maximum_velocity):\n",
    "        self.number_of_wheels = number_of_wheels\n",
    "        self.type_of_tank = type_of_tank\n",
    "        self.seating_capacity = seating_capacity\n",
    "        self.maximum_velocity = maximum_velocity\n",
    "    def make_noise(self):\n",
    "        print('VRUUUUUUUM')   \n",
    "        \n",
    "tesla_model_s = Vehicle(4, 'electric', 5, 250)\n",
    "tesla_model_s.make_noise() # VRUUUUUUUM       "
   ]
  },
  {
   "cell_type": "code",
   "execution_count": 15,
   "metadata": {},
   "outputs": [
    {
     "name": "stdout",
     "output_type": "stream",
     "text": [
      "tk@mail.com\n"
     ]
    },
    {
     "data": {
      "text/plain": [
       "'We can access and update it. Non-public variables are just a\\nconvention and should be treated as a non-public part of the API.\\nSo we use a method that allows us to do it inside our class de\\U001000d8nition. Let’s\\nimplement two methods ( email and update_email ) to understand it:'"
      ]
     },
     "execution_count": 15,
     "metadata": {},
     "output_type": "execute_result"
    }
   ],
   "source": [
    "# non-public instance variables , use an underscore ( _ ) before the variable name.\n",
    "class Person:\n",
    "    def __init__(self, first_name, email):\n",
    "        self.first_name = first_name\n",
    "        self._email = email\n",
    "tk = Person('TK', 'tk@mail.com')\n",
    "print(tk._email) # tk@mail.com    \n",
    "\"\"\"We can access and update it. Non-public variables are just a\n",
    "convention and should be treated as a non-public part of the API.\n",
    "So we use a method that allows us to do it inside our class definition. Let’s\n",
    "implement two methods ( email and update_email ) to understand it:\"\"\""
   ]
  },
  {
   "cell_type": "code",
   "execution_count": 20,
   "metadata": {},
   "outputs": [
    {
     "name": "stdout",
     "output_type": "stream",
     "text": [
      "<bound method Person.email of <__main__.Person object at 0x00000000052A8AC8>>\n",
      "<bound method Person.email of <__main__.Person object at 0x00000000052A8AC8>>\n",
      "<bound method Person.email of <__main__.Person object at 0x00000000052A8AC8>>\n"
     ]
    }
   ],
   "source": [
    "class Person:\n",
    "    def __init__(self, first_name, email):\n",
    "        self.first_name = first_name\n",
    "        self._email = email\n",
    "    def update_email(self, new_email):\n",
    "        self._email = new_email\n",
    "    def email(self):\n",
    "        return self.email       \n",
    "tk = Person('TK', 'tk@mail.com')\n",
    "print(tk.email()) # => tk@mail.com\n",
    "# tk._email = 'new_tk@mail.com' -- treat as a non-public part of the cla\n",
    "print(tk.email()) # => tk@mail.com\n",
    "tk.update_email('new_tk@mail.com')\n",
    "print(tk.email()) # => new_tk@mail.com    "
   ]
  },
  {
   "cell_type": "code",
   "execution_count": 23,
   "metadata": {},
   "outputs": [
    {
     "name": "stdout",
     "output_type": "stream",
     "text": [
      "25\n"
     ]
    },
    {
     "data": {
      "text/plain": [
       "'Encapsulation Summary\\nWith encapsulation we can ensure that the internal representation of the\\nobject is hidden from the outside.'"
      ]
     },
     "execution_count": 23,
     "metadata": {},
     "output_type": "execute_result"
    }
   ],
   "source": [
    "# Non-public Method\n",
    "class Person:\n",
    "    def __init__(self, first_name, age):\n",
    "        self.first_name = first_name\n",
    "        self._age = age\n",
    "    def _show_age(self):\n",
    "        return self._age\n",
    "    \n",
    "tk = Person('TK', 25)\n",
    "print(tk._show_age()) # => 25    \n",
    "\"\"\"Encapsulation is a mechanism that restricts direct access to objects’ data\n",
    "and methods. But at the same time, it facilitates operation on that data\n",
    "(objects’ methods).\"\"\"\n",
    "\"\"\"Encapsulation Summary\n",
    "With encapsulation we can ensure that the internal representation of the\n",
    "object is hidden from the outside.\"\"\""
   ]
  },
  {
   "cell_type": "code",
   "execution_count": 28,
   "metadata": {},
   "outputs": [
    {
     "name": "stdout",
     "output_type": "stream",
     "text": [
      "4\n",
      "5\n",
      "250\n"
     ]
    }
   ],
   "source": [
    "class Car:\n",
    "    def __init__(self, number_of_wheels, seating_capacity,maximum_velocity):\n",
    "        self.number_of_wheels = number_of_wheels\n",
    "        self.seating_capacity = seating_capacity\n",
    "        self.maximum_velocity = maximum_velocity\n",
    "my_car = Car(4, 5, 250)\n",
    "print(my_car.number_of_wheels)\n",
    "print(my_car.seating_capacity)\n",
    "print(my_car.maximum_velocity)        \n",
    "        "
   ]
  },
  {
   "cell_type": "code",
   "execution_count": 32,
   "metadata": {},
   "outputs": [
    {
     "data": {
      "text/plain": [
       "'Simple as that. We don’t need to implement any other method, because\\nthis class already has it (inherited from Car class). Let’s prove it:'"
      ]
     },
     "execution_count": 32,
     "metadata": {},
     "output_type": "execute_result"
    }
   ],
   "source": [
    "\"\"\"Once initiated, we can use all instance variables created. Nice.\n",
    "In Python, we apply a parent class to the child class as a parameter.\n",
    "An ElectricCar class can inherit from our Car class.\"\"\"\n",
    "class ElectricCar(Car):\n",
    "    def __init__(self, number_of_wheels, seating_capacity, maximum_velocity):\n",
    "        Car.__init__(self, number_of_wheels, seating_capacity, maximum_velocity)\n",
    "\"\"\"Simple as that. We don’t need to implement any other method, because\n",
    "this class already has it (inherited from Car class). Let’s prove it:\"\"\"       "
   ]
  },
  {
   "cell_type": "code",
   "execution_count": 33,
   "metadata": {},
   "outputs": [
    {
     "name": "stdout",
     "output_type": "stream",
     "text": [
      "4\n",
      "5\n",
      "250\n"
     ]
    }
   ],
   "source": [
    "my_electric_car = ElectricCar(4, 5, 250)\n",
    "print(my_electric_car.number_of_wheels) # => 4\n",
    "print(my_electric_car.seating_capacity) # => 5\n",
    "print(my_electric_car.maximum_velocity) # => 250"
   ]
  },
  {
   "cell_type": "code",
   "execution_count": null,
   "metadata": {},
   "outputs": [],
   "source": [
    "class Personne(object):\n",
    "\tdef __init__(self):\n",
    "\t\tself.nom = \"Dubois\"\n",
    "\t\tself.prenom = \"Paul\"\n",
    "\t\tself.lieuDeResidence = \"Le Havre\"\n",
    "\tdef demenager(self, nouveauLieuDeResidence):\n",
    "\t\tself.lieuDeResidence = nouveauLieuDeResidence\n",
    "\"\"\"Détaillons le code ci-dessus :\n",
    "\n",
    "Notre classe comporte deux fonctions, la fonction __init__ et la fonction demenager.\n",
    "La fonction __init__ est le constructeur, qui permet de définir les variables dans leur état initial.\n",
    "Chaque classe est identifiée à partir d'un nom que vous donnez. \n",
    "Ce nom est à choisir afin qu'il respecte les consignes suivantes :\n",
    "\n",
    "Le nom de la classe doit être court, mais indiquer son contenu pour faciliter la lecture du code.\n",
    "Ne doit pas être un nom réservé (Voir ici).\n",
    "Ne doit comporter que des lettres (a → z et A → Z), des chiffres (0 → 9) et le caractère _ (underscore).\n",
    "Les autres symboles sont interdits.\n",
    "Python est sensible à la casse, c'est-à-dire que les majuscules et minuscules sont distinguées (exemple : \n",
    "livre, Livre et LIVRE sont des variables différentes).\n",
    "Il est vivement recommandé de nommer les variables en minuscule, \n",
    "commencer les mots avec une majuscule pour plus de lisibilité (exemple : CarteAJouer). \n",
    "Dans ce cours, cette convention de nommage sera à appliquer.\n",
    "On observe l'apparition du mot self au début des variables qui indique que l'on travaille sur l'instance de la classe.\n",
    "Voici un petit tableau présentant la syntaxe des noms de variables dans les classes.\n",
    "\n",
    "Syntaxe\tVisibilité\tPortée\t\n",
    "variable\tPrivée\tLa fonction actuelle seulement\t\n",
    "self.variable\tPublique\tToute l'instance de l'objet\t\n",
    "self.__variable\tPrivée\tToute l'instance de l'objet\t\n",
    "Il est également possible de protéger une méthode en la faisant précéder du double symbole souligné (__).\n",
    "Cette méthode ne sera accessible uniquement à l'intérieur de la classe.\n",
    "\n",
    "Une variable privée peut cependant être lue et modifiée via des méthodes spécifiques nommées accesseurs (lecture) \n",
    "et mutateurs (modification). Cela permet d'effectuer des modifications ou des contrôles sur \n",
    "les données avant qu'elles soient retournées ou modifiées. Il est vivement recommandé de procéder ainsi\n",
    "plutôt que d'offrir les variables publiquement. \n",
    "L'exemple suivant permet de mettre en œuvre cette protection des attributs :\"\"\"        "
   ]
  },
  {
   "cell_type": "code",
   "execution_count": 1,
   "metadata": {},
   "outputs": [
    {
     "name": "stdout",
     "output_type": "stream",
     "text": [
      "Je suis Clara Dupont\n",
      "Je suis Julie Martin\n"
     ]
    }
   ],
   "source": [
    "class Personne(object):\n",
    "\tdef __init__(self):\n",
    "\t\tself.__nom = \"Dubois\"\n",
    "\t\tself.__prenom = \"Paul\"\n",
    "\t\tself.__lieuDeResidence = \"Le Havre\"\n",
    "\tdef __demenager(self, nouveauLieuDeResidence):\n",
    "\t\tself.__lieuDeResidence = nouveauLieuDeResidence\n",
    "\tdef demanderNom(self):\n",
    "\t\treturn(\"Je suis \" + self.__prenom + \" \" + self.__nom)\n",
    "\"\"\"Dans l'exemple ci-dessus, la fonction __demenager est accessible uniquement depuis l'objet,\n",
    "alors que la méthode demanderNom est accessible depuis tout le programme.\n",
    "Utiliser un objet:\n",
    "Nous avons déjà utilisé des objets. Pour créer une instance d'une classe, nous allons saisir instanceClasse = Classe().\n",
    "Il est possible de définir les valeurs par défaut des variables de l'instance en les communiquant en argument \n",
    "à la méthode constructeur.\n",
    "Voici un exemple mettant en œuvre l'instanciation d'une classe et le passage d'arguments pour le constructeur :\"\"\"    \n",
    "class Personne(object):\n",
    "\tdef __init__(self, nom, prenom, lieuDeResidence):\n",
    "\t\tself.__nom = nom\n",
    "\t\tself.__prenom = prenom\n",
    "\t\tself.__lieuDeResidence = lieuDeResidence\n",
    "\tdef __demenager(self, nouveauLieuDeResidence):\n",
    "\t\tself.__lieuDeResidence = nouveauLieuDeResidence\n",
    "\tdef demanderNom(self):\n",
    "\t\treturn(\"Je suis \" + self.__prenom + \" \" + self.__nom)\n",
    "personne1 = Personne(\"Dupont\", \"Clara\", \"Lille\")\n",
    "personne2 = Personne(\"Martin\", \"Julie\", \"Béziers\")\n",
    "print(personne1.demanderNom())\t# Affiche \"Je suis Clara Dupont\"\n",
    "print(personne2.demanderNom())\t# Affiche \"Je suis Julie Martin\""
   ]
  },
  {
   "cell_type": "code",
   "execution_count": 2,
   "metadata": {},
   "outputs": [
    {
     "name": "stdout",
     "output_type": "stream",
     "text": [
      "Je suis Clara Dupont et j'habite à Lille\n",
      "Je suis Julie Martin et j'habite à Béziers\n"
     ]
    }
   ],
   "source": [
    "\"\"\"Les méthodes spéciales\n",
    "Python permet de définir des méthodes spéciales qui permettent de faciliter l'utilisation des objets. \n",
    "Nous allons présenter une méthode déclenchée quand on cherche à convertir notre objet en chaîne de caractères \n",
    "(str() ou print()). \n",
    "*Cette méthode doit se nommer __str__.\n",
    "Il est également possible de le faire pour récupérer un entier ou un réel avec respectivement \n",
    "les méthodes __int__ et __float__.\n",
    "En voici un exemple :\"\"\"\n",
    "class Personne(object):\n",
    "\tdef __init__(self, nom, prenom, lieuDeResidence):\n",
    "\t\tself.__nom = nom\n",
    "\t\tself.__prenom = prenom\n",
    "\t\tself.__lieuDeResidence = lieuDeResidence\n",
    "\tdef __demenager(self, nouveauLieuDeResidence):\n",
    "\t\tself.__lieuDeResidence = nouveauLieuDeResidence\n",
    "\tdef __str__(self):\n",
    "\t\treturn(\"Je suis \" + self.__prenom + \" \" + self.__nom + \" et j'habite à \" + self.__lieuDeResidence)\n",
    "personne1 = Personne(\"Dupont\", \"Clara\", \"Lille\")\n",
    "personne2 = Personne(\"Martin\", \"Julie\", \"Béziers\")\n",
    "print(personne1)\t# \"Je suis Clara Dupont et j'habite à Lille\"\n",
    "print(personne2)\t# \"Je suis Julie Martin et j'habite à Béziers\""
   ]
  },
  {
   "cell_type": "code",
   "execution_count": null,
   "metadata": {},
   "outputs": [],
   "source": [
    "\"\"\"Il est également possible de définir des méthodes spéciales permettant de comparer\n",
    "les objets avec les opérateurs de comparaison que nous avons vus précédemment (voir ici).\n",
    "On appelle cela la comparaison riche. Voici la liste des méthodes spéciales associées aux opérateurs de comparaison.\n",
    "\n",
    "Comparateur\tSyntaxe\tMéthode associée\n",
    "a égal à b\ta == b\t__eq__\n",
    "a différent de b\ta != b\t__ne__\n",
    "a supérieur à b\ta > b\t__gt__\n",
    "a supérieur ou égal à b\ta >= b\t__ge__\n",
    "a inférieur à b\ta < b\t__lt__\n",
    "a inférieur ou égal à b\ta <= b\t__le__\n",
    "Ces méthodes doivent avoir comme argument l'objet avec lequel comparer l'objet actuel. \n",
    "Voici une implémentation de ces comparateurs riches :\"\"\"\n",
    "class Personne(object):\n",
    "\tdef __init__(self, nom, prenom, age):\n",
    "\t\tself.__nom = nom\n",
    "\t\tself.__prenom = prenom\n",
    "\t\tself.__age = age\n",
    "\tdef getPrenom(self):\n",
    "\t\treturn(self.__prenom)\n",
    "\tdef getAge(self):\n",
    "\t\treturn(self.__age)\n",
    "\tdef __lt__(self, autrePersonne):\n",
    "\t\treturn(self.__age < autrePersonne.getAge())\n",
    "personne1 = Personne(\"Dupont\", \"Clara\", 24)\n",
    "personne2 = Personne(\"Martin\", \"Julie\", 27)\n",
    "if personne1 < personne2:\t# Utilise personne1.__lt__(personne2)\n",
    "\tprint(personne1.getPrenom() + \" est la plus jeune. \")\n",
    "else:\n",
    "\tprint(personne2.getPrenom() + \" est la plus jeune. \")\n",
    "    \n",
    "    \n",
    "     # Heritage \n",
    "class Animaux(object):\n",
    "\tdef __init__(self, nom):\n",
    "\t\tself.__nom = nom\n",
    "\t\tself.__nombrePattes = 0\n",
    "\t\tself.__position = 0\n",
    "\tdef avancer(self, nombrePas):\n",
    "\t\tself.__position += nombrePas\n",
    "\t\treturn(\"Je suis à la position \" + str(self.__position))\n",
    "class Chien(Animaux):\n",
    "\tdef __init__(self, nom):\n",
    "\t\tAnimaux.__init__(self, nom)\n",
    "\t\tself.__nombrePattes = 4\n",
    "\t\tself.aboyer()\n",
    "\tdef aboyer(self):\n",
    "\t\tprint(\"Wouf !\")\n",
    "class Poule(Animaux):\n",
    "\tdef __init__(self, nom):\n",
    "\t\tAnimaux.__init__(self, nom)\n",
    "\t\tself.__nombrePattes = 2\n",
    "\t\tself.caqueter()\n",
    "\tdef caqueter(self):\n",
    "\t\tprint(\"Cot !\")"
   ]
  },
  {
   "cell_type": "markdown",
   "metadata": {},
   "source": [
    "# The self\n",
    "\n",
    "    Class methods must have an extra first parameter in method definition. We do not give a value for this parameter when we call the method, Python provides it.\n",
    "    If we have a method which takes no arguments, then we still have to have one argument.\n",
    "    This is similar to this pointer in C++ and this reference in Java.\n",
    "\n",
    "When we call a method of this object as myobject.method(arg1, arg2), this is automatically converted by Python into MyClass.method(myobject, arg1, arg2) – this is all the special self is about.\n",
    "# __init__ method\n",
    "\n",
    "The __init__ method is similar to constructors in C++ and Java. Constructors are used to initialize the object’s state. Like methods, a constructor also contains a collection of statements(i.e. instructions) that are executed at the time of Object creation. It is run as soon as an object of a class is instantiated. The method is useful to do any initialization you want to do with your object."
   ]
  },
  {
   "cell_type": "code",
   "execution_count": 7,
   "metadata": {},
   "outputs": [
    {
     "name": "stdout",
     "output_type": "stream",
     "text": [
      "Hello, my name is Nikhil\n"
     ]
    }
   ],
   "source": [
    "# A Sample class with init method \n",
    "class Person: \n",
    "\t\n",
    "\t# init method or constructor \n",
    "\tdef __init__(self, name): \n",
    "\t\tself.name = name \n",
    "\t\n",
    "\t# Sample Method \n",
    "\tdef say_hi(self): \n",
    "\t\tprint('Hello, my name is', self.name) \n",
    "\t\n",
    "p = Person('Nikhil') \n",
    "p.say_hi() \n"
   ]
  },
  {
   "cell_type": "markdown",
   "metadata": {},
   "source": [
    "# Class and Instance Variables\n",
    "\n",
    "Instance variables are for data unique to each instance and class variables are for attributes and methods shared by all instances of the class. Instance variables are variables whose value is assigned inside a constructor or method with self whereas class variables are variables whose value is assigned in the class.\n",
    "\n",
    "Defining instance varibale using constructor."
   ]
  },
  {
   "cell_type": "code",
   "execution_count": 8,
   "metadata": {},
   "outputs": [
    {
     "name": "stdout",
     "output_type": "stream",
     "text": [
      "Rodger details:\n",
      "Rodger is a dog\n",
      "Breed:  Pug\n",
      "Color:  brown\n",
      "\n",
      "Buzo details:\n",
      "Buzo is a dog\n",
      "Breed:  Bulldog\n",
      "Color:  black\n",
      "\n",
      "Accessing class variable using class name\n",
      "dog\n"
     ]
    }
   ],
   "source": [
    "# Python program to show that the variables with a value \n",
    "# assigned in the class declaration, are class variables and \n",
    "# variables inside methods and constructors are instance \n",
    "# variables. \n",
    "\t\n",
    "# Class for Dog \n",
    "class Dog: \n",
    "\t\n",
    "\t# Class Variable \n",
    "\tanimal = 'dog'\t\t\t\n",
    "\t\n",
    "\t# The init method or constructor \n",
    "\tdef __init__(self, breed, color): \n",
    "\t\n",
    "\t\t# Instance Variable\t \n",
    "\t\tself.breed = breed \n",
    "\t\tself.color = color\t\t \n",
    "\t\n",
    "# Objects of Dog class \n",
    "Rodger = Dog(\"Pug\", \"brown\") \n",
    "Buzo = Dog(\"Bulldog\", \"black\") \n",
    "\n",
    "print('Rodger details:') \n",
    "print('Rodger is a', Rodger.animal) \n",
    "print('Breed: ', Rodger.breed) \n",
    "print('Color: ', Rodger.color) \n",
    "\n",
    "print('\\nBuzo details:') \n",
    "print('Buzo is a', Buzo.animal) \n",
    "print('Breed: ', Buzo.breed) \n",
    "print('Color: ', Buzo.color) \n",
    "\n",
    "# Class variables can be accessed using class \n",
    "# name also \n",
    "print(\"\\nAccessing class variable using class name\") \n",
    "print(Dog.animal)\t\t \n"
   ]
  },
  {
   "cell_type": "code",
   "execution_count": 10,
   "metadata": {},
   "outputs": [
    {
     "name": "stdout",
     "output_type": "stream",
     "text": [
      "brown\n"
     ]
    }
   ],
   "source": [
    "# Python program to show that we can create \n",
    "# instance variables inside methods \n",
    "\t\n",
    "# Class for Dog \n",
    "class Dog: \n",
    "\t\t\n",
    "\t# Class Variable \n",
    "\tanimal = 'dog'\t\n",
    "\t\t\n",
    "\t# The init method or constructor \n",
    "\tdef __init__(self, breed): \n",
    "\t\t\t\n",
    "\t\t# Instance Variable \n",
    "\t\tself.breed = breed\t\t\t \n",
    "\t\n",
    "\t# Adds an instance variable \n",
    "\tdef setColor(self, color): \n",
    "\t\tself.color = color \n",
    "\t\t\n",
    "\t# Retrieves instance variable\t \n",
    "\tdef getColor(self):\t \n",
    "\t\treturn self.color\t \n",
    "\t\n",
    "# Driver Code \n",
    "Rodger = Dog(\"pug\") \n",
    "Rodger.setColor(\"brown\") \n",
    "print(Rodger.getColor()) \n"
   ]
  },
  {
   "cell_type": "markdown",
   "metadata": {},
   "source": [
    "# Constructors in Python"
   ]
  },
  {
   "cell_type": "code",
   "execution_count": 1,
   "metadata": {},
   "outputs": [
    {
     "name": "stdout",
     "output_type": "stream",
     "text": [
      "GeekforGeeks\n"
     ]
    }
   ],
   "source": [
    "class GeekforGeeks: \n",
    "\n",
    "\t# default constructor \n",
    "\tdef __init__(self): \n",
    "\t\tself.geek = \"GeekforGeeks\"\n",
    "\n",
    "\t# a method for printing data members \n",
    "\tdef print_Geek(self): \n",
    "\t\tprint(self.geek) \n",
    "\n",
    "\n",
    "# creating object of the class \n",
    "obj = GeekforGeeks() \n",
    "\n",
    "# calling the instance method using the object obj \n",
    "obj.print_Geek() \n"
   ]
  },
  {
   "cell_type": "code",
   "execution_count": 2,
   "metadata": {},
   "outputs": [
    {
     "name": "stdout",
     "output_type": "stream",
     "text": [
      "First number = 1000\n",
      "Second number = 2000\n",
      "Addition of two numbers = 3000\n"
     ]
    }
   ],
   "source": [
    "class Addition: \n",
    "\tfirst = 0\n",
    "\tsecond = 0\n",
    "\tanswer = 0\n",
    "\t\n",
    "\t# parameterized constructor \n",
    "\tdef __init__(self, f, s): \n",
    "\t\tself.first = f \n",
    "\t\tself.second = s \n",
    "\t\n",
    "\tdef display(self): \n",
    "\t\tprint(\"First number = \" + str(self.first)) \n",
    "\t\tprint(\"Second number = \" + str(self.second)) \n",
    "\t\tprint(\"Addition of two numbers = \" + str(self.answer)) \n",
    "\n",
    "\tdef calculate(self): \n",
    "\t\tself.answer = self.first + self.second \n",
    "\n",
    "# creating object of the class \n",
    "# this will invoke parameterized constructor \n",
    "obj = Addition(1000, 2000) \n",
    "\n",
    "# perform Addition \n",
    "obj.calculate() \n",
    "\n",
    "# display result \n",
    "obj.display() \n"
   ]
  },
  {
   "cell_type": "markdown",
   "metadata": {},
   "source": [
    "# Destructors in Python"
   ]
  },
  {
   "cell_type": "code",
   "execution_count": 3,
   "metadata": {},
   "outputs": [
    {
     "name": "stdout",
     "output_type": "stream",
     "text": [
      "Employee created.\n",
      "Destructor called, Employee deleted.\n"
     ]
    }
   ],
   "source": [
    "# Python program to illustrate destructor \n",
    "class Employee: \n",
    "\n",
    "\t# Initializing \n",
    "\tdef __init__(self): \n",
    "\t\tprint('Employee created.') \n",
    "\n",
    "\t# Deleting (Calling destructor) \n",
    "\tdef __del__(self): \n",
    "\t\tprint('Destructor called, Employee deleted.') \n",
    "\n",
    "obj = Employee() \n",
    "del obj \n"
   ]
  },
  {
   "cell_type": "markdown",
   "metadata": {},
   "source": [
    "# Inheritance in Python\n",
    "Inheritance is the capability of one class to derive or inherit the properties from another class. The benefits of inheritance are: \n",
    " \n",
    "\n",
    "    It represents real-world relationships well.\n",
    "    It provides reusability of a code. We don’t have to write the same code again and again. Also, it allows us to add more features to a class without modifying it.\n",
    "    It is transitive in nature, which means that if class B inherits from another class A, then all the subclasses of B would automatically inherit from class A.\n"
   ]
  },
  {
   "cell_type": "code",
   "execution_count": 4,
   "metadata": {},
   "outputs": [
    {
     "name": "stdout",
     "output_type": "stream",
     "text": [
      "Geek1 False\n",
      "Geek2 True\n"
     ]
    }
   ],
   "source": [
    "# A Python program to demonstrate inheritance \n",
    "\n",
    "# Base or Super class. Note object in bracket. \n",
    "# (Generally, object is made ancestor of all classes) \n",
    "# In Python 3.x \"class Person\" is \n",
    "# equivalent to \"class Person(object)\" \n",
    "class Person(object): \n",
    "\t\n",
    "\t# Constructor \n",
    "\tdef __init__(self, name): \n",
    "\t\tself.name = name \n",
    "\n",
    "\t# To get name \n",
    "\tdef getName(self): \n",
    "\t\treturn self.name \n",
    "\n",
    "\t# To check if this person is an employee \n",
    "\tdef isEmployee(self): \n",
    "\t\treturn False\n",
    "\n",
    "\n",
    "# Inherited or Subclass (Note Person in bracket) \n",
    "class Employee(Person): \n",
    "\n",
    "\t# Here we return true \n",
    "\tdef isEmployee(self): \n",
    "\t\treturn True\n",
    "\n",
    "# Driver code \n",
    "emp = Person(\"Geek1\") # An Object of Person \n",
    "print(emp.getName(), emp.isEmployee()) \n",
    "\n",
    "emp = Employee(\"Geek2\") # An Object of Employee \n",
    "print(emp.getName(), emp.isEmployee()) \n"
   ]
  },
  {
   "cell_type": "code",
   "execution_count": 5,
   "metadata": {},
   "outputs": [
    {
     "name": "stdout",
     "output_type": "stream",
     "text": [
      "Rahul\n",
      "886012\n"
     ]
    }
   ],
   "source": [
    "# Python code to demonstrate how parent constructors \n",
    "# are called. \n",
    "\n",
    "# parent class \n",
    "class Person:\t \n",
    "\n",
    "\t\t# __init__ is known as the constructor\t\t \n",
    "\t\tdef __init__(self, name, idnumber): \n",
    "\t\t\t\tself.name = name \n",
    "\t\t\t\tself.idnumber = idnumber \n",
    "\t\tdef display(self): \n",
    "\t\t\t\tprint(self.name) \n",
    "\t\t\t\tprint(self.idnumber) \n",
    "\n",
    "# child class \n",
    "class Employee( Person ):\t\t \n",
    "\t\tdef __init__(self, name, idnumber, salary, post): \n",
    "\t\t\t\tself.salary = salary \n",
    "\t\t\t\tself.post = post \n",
    "\n",
    "\t\t\t\t# invoking the __init__ of the parent class \n",
    "\t\t\t\tPerson.__init__(self, name, idnumber) \n",
    "\n",
    "\t\t\t\t\n",
    "# creation of an object variable or an instance \n",
    "a = Employee('Rahul', 886012, 200000, \"Intern\")\t \n",
    "\n",
    "# calling a function of the class Person using its instance \n",
    "a.display() \n"
   ]
  },
  {
   "cell_type": "code",
   "execution_count": 6,
   "metadata": {},
   "outputs": [
    {
     "name": "stdout",
     "output_type": "stream",
     "text": [
      "Base1\n",
      "Base2\n",
      "Derived\n",
      "Geek1 Geek2\n"
     ]
    }
   ],
   "source": [
    "# Python example to show the working of multiple \n",
    "# inheritance \n",
    "class Base1(object): \n",
    "\tdef __init__(self): \n",
    "\t\tself.str1 = \"Geek1\"\n",
    "\t\tprint(\"Base1\") \n",
    "\n",
    "class Base2(object): \n",
    "\tdef __init__(self): \n",
    "\t\tself.str2 = \"Geek2\"\t\t\n",
    "\t\tprint(\"Base2\") \n",
    "\n",
    "class Derived(Base1, Base2): \n",
    "\tdef __init__(self): \n",
    "\t\t\n",
    "\t\t# Calling constructors of Base1 \n",
    "\t\t# and Base2 classes \n",
    "\t\tBase1.__init__(self) \n",
    "\t\tBase2.__init__(self) \n",
    "\t\tprint(\"Derived\") \n",
    "\t\t\n",
    "\tdef printStrs(self): \n",
    "\t\tprint(self.str1, self.str2) \n",
    "\t\t\n",
    "\n",
    "ob = Derived() \n",
    "ob.printStrs() \n"
   ]
  },
  {
   "cell_type": "code",
   "execution_count": 7,
   "metadata": {},
   "outputs": [
    {
     "ename": "AttributeError",
     "evalue": "'D' object has no attribute 'd'",
     "output_type": "error",
     "traceback": [
      "\u001b[1;31m---------------------------------------------------------------------------\u001b[0m",
      "\u001b[1;31mAttributeError\u001b[0m                            Traceback (most recent call last)",
      "\u001b[1;32m<ipython-input-7-f389044159c3>\u001b[0m in \u001b[0;36m<module>\u001b[1;34m\u001b[0m\n\u001b[0;32m     14\u001b[0m \u001b[1;33m\u001b[0m\u001b[0m\n\u001b[0;32m     15\u001b[0m \u001b[1;31m# produces an error as d is private instance variable\u001b[0m\u001b[1;33m\u001b[0m\u001b[1;33m\u001b[0m\u001b[1;33m\u001b[0m\u001b[0m\n\u001b[1;32m---> 16\u001b[1;33m \u001b[0mprint\u001b[0m\u001b[1;33m(\u001b[0m\u001b[0mobject1\u001b[0m\u001b[1;33m.\u001b[0m\u001b[0md\u001b[0m\u001b[1;33m)\u001b[0m\u001b[1;33m\u001b[0m\u001b[1;33m\u001b[0m\u001b[0m\n\u001b[0m",
      "\u001b[1;31mAttributeError\u001b[0m: 'D' object has no attribute 'd'"
     ]
    }
   ],
   "source": [
    "# Python program to demonstrate private members \n",
    "# of the parent class \n",
    "class C(object): \n",
    "\tdef __init__(self): \n",
    "\t\t\tself.c = 21\n",
    "\n",
    "\t\t\t# d is private instance variable \n",
    "\t\t\tself.__d = 42\t\n",
    "class D(C): \n",
    "\tdef __init__(self): \n",
    "\t\t\tself.e = 84\n",
    "\t\t\tC.__init__(self) \n",
    "object1 = D() \n",
    "\n",
    "# produces an error as d is private instance variable \n",
    "print(object1.d)\t\t\t\t\t "
   ]
  },
  {
   "cell_type": "code",
   "execution_count": 8,
   "metadata": {},
   "outputs": [
    {
     "name": "stdout",
     "output_type": "stream",
     "text": [
      "Calling protected member of base class: \n",
      "2\n"
     ]
    },
    {
     "ename": "AttributeError",
     "evalue": "'Base' object has no attribute 'a'",
     "output_type": "error",
     "traceback": [
      "\u001b[1;31m---------------------------------------------------------------------------\u001b[0m",
      "\u001b[1;31mAttributeError\u001b[0m                            Traceback (most recent call last)",
      "\u001b[1;32m<ipython-input-8-2a7abd1229e5>\u001b[0m in \u001b[0;36m<module>\u001b[1;34m\u001b[0m\n\u001b[0;32m     27\u001b[0m \u001b[1;31m# Outside class will result in\u001b[0m\u001b[1;33m\u001b[0m\u001b[1;33m\u001b[0m\u001b[1;33m\u001b[0m\u001b[0m\n\u001b[0;32m     28\u001b[0m \u001b[1;31m# AttributeError\u001b[0m\u001b[1;33m\u001b[0m\u001b[1;33m\u001b[0m\u001b[1;33m\u001b[0m\u001b[0m\n\u001b[1;32m---> 29\u001b[1;33m \u001b[0mprint\u001b[0m\u001b[1;33m(\u001b[0m\u001b[0mobj2\u001b[0m\u001b[1;33m.\u001b[0m\u001b[0ma\u001b[0m\u001b[1;33m)\u001b[0m\u001b[1;33m\u001b[0m\u001b[1;33m\u001b[0m\u001b[0m\n\u001b[0m",
      "\u001b[1;31mAttributeError\u001b[0m: 'Base' object has no attribute 'a'"
     ]
    }
   ],
   "source": [
    "# Python program to\n",
    "# demonstrate protected members\n",
    "\n",
    "\n",
    "# Creating a base class\n",
    "class Base:\n",
    "\tdef __init__(self):\n",
    "\t\t\n",
    "\t\t# Protected member\n",
    "\t\tself._a = 2\n",
    "\n",
    "# Creating a derived class \n",
    "class Derived(Base):\n",
    "\tdef __init__(self):\n",
    "\t\t\n",
    "\t\t# Calling constructor of\n",
    "\t\t# Base class\n",
    "\t\tBase.__init__(self) \n",
    "\t\tprint(\"Calling protected member of base class: \")\n",
    "\t\tprint(self._a)\n",
    "\n",
    "obj1 = Derived()\n",
    "\t\t\n",
    "obj2 = Base()\n",
    "\n",
    "# Calling protected member\n",
    "# Outside class will result in \n",
    "# AttributeError\n",
    "print(obj2.a)\n"
   ]
  },
  {
   "cell_type": "markdown",
   "metadata": {},
   "source": [
    "# Static Vs Classic Method \n",
    "\n",
    "    A class method takes cls as first parameter while a static method needs no specific parameters.\n",
    "    A class method can access or modify class state while a static method can’t access or modify it.\n",
    "    In general, static methods know nothing about class state. They are utility type methods that take some parameters and work upon those parameters. On the other hand class methods must have class as parameter.\n",
    "    We use @classmethod decorator in python to create a class method and we use @staticmethod decorator to create a static method in python.\n",
    "\n",
    "When to use what?\n",
    "\n",
    "    We generally use class method to create factory methods. Factory methods return class object ( similar to a constructor ) for different use cases.\n",
    "    We generally use static methods to create utility functions.\n"
   ]
  },
  {
   "cell_type": "code",
   "execution_count": 10,
   "metadata": {},
   "outputs": [
    {
     "name": "stdout",
     "output_type": "stream",
     "text": [
      "21\n",
      "24\n",
      "True\n"
     ]
    }
   ],
   "source": [
    "# Python program to demonstrate \n",
    "# use of class method and static method. \n",
    "from datetime import date \n",
    "\n",
    "class Person: \n",
    "\tdef __init__(self, name, age): \n",
    "\t\tself.name = name \n",
    "\t\tself.age = age \n",
    "\t\n",
    "\t# a class method to create a Person object by birth year. \n",
    "\t@classmethod\n",
    "\tdef fromBirthYear(cls, name, year): \n",
    "\t\treturn cls(name, date.today().year - year) \n",
    "\t\n",
    "\t# a static method to check if a Person is adult or not. \n",
    "\t@staticmethod\n",
    "\tdef isAdult(age): \n",
    "\t\treturn age > 18\n",
    "\n",
    "person1 = Person('mayank', 21) \n",
    "person2 = Person.fromBirthYear('mayank', 1996) \n",
    "\n",
    "print (person1.age )\n",
    "print (person2.age )\n",
    "\n",
    "# print the result \n",
    "print (Person.isAdult(22) )\n"
   ]
  },
  {
   "cell_type": "code",
   "execution_count": null,
   "metadata": {},
   "outputs": [],
   "source": [
    "try:\n",
    "       # Some Code.... \n",
    "\n",
    "except:\n",
    "       # optional block\n",
    "       # Handling of exception (if required)\n",
    "\n",
    "else:\n",
    "       # execute if no exception\n",
    "\n",
    "finally:\n",
    "      # Some code .....(always executed)"
   ]
  },
  {
   "cell_type": "code",
   "execution_count": null,
   "metadata": {},
   "outputs": [],
   "source": [
    "# Python code to illustrate split() function \n",
    "with open(\"file.text\", \"r\") as file: \n",
    "\tdata = file.readlines() \n",
    "\tfor line in data: \n",
    "\t\tword = line.split() \n",
    "\t\tprint word \n"
   ]
  },
  {
   "cell_type": "code",
   "execution_count": 5,
   "metadata": {
    "scrolled": true
   },
   "outputs": [
    {
     "name": "stdout",
     "output_type": "stream",
     "text": [
      "Enter your value: \n"
     ]
    }
   ],
   "source": [
    "# Python program showing \n",
    "# a use of input() \n",
    "\n",
    "val = input(\"Enter your value: \") \n",
    "\n"
   ]
  },
  {
   "cell_type": "markdown",
   "metadata": {},
   "source": [
    "## Using split() method : \n",
    "This function helps in getting a multiple inputs from user. It breaks the given input by the specified separator. If a separator is not provided then any white space is a separator. Generally, user use a split() method to split a Python string but one can use it in taking multiple input."
   ]
  },
  {
   "cell_type": "code",
   "execution_count": 9,
   "metadata": {},
   "outputs": [
    {
     "name": "stdout",
     "output_type": "stream",
     "text": [
      "Enter a two value: 24 26\n",
      "Number of boys:  24\n",
      "Number of girls:  26\n",
      "\n"
     ]
    }
   ],
   "source": [
    "# Python program showing how to\n",
    "# multiple input using split\n",
    " \n",
    "# taking two inputs at a time\n",
    "x, y = input(\"Enter a two value: \").split()\n",
    "print(\"Number of boys: \", x)\n",
    "print(\"Number of girls: \", y)\n",
    "print()"
   ]
  },
  {
   "cell_type": "code",
   "execution_count": 10,
   "metadata": {},
   "outputs": [
    {
     "name": "stdout",
     "output_type": "stream",
     "text": [
      "Enter a two value: 25 23\n",
      "First number is 25 and second number is 23\n",
      "\n"
     ]
    }
   ],
   "source": [
    "# taking two inputs at a time\n",
    "a, b = input(\"Enter a two value: \").split()\n",
    "print(\"First number is {} and second number is {}\".format(a, b))\n",
    "print()"
   ]
  },
  {
   "cell_type": "code",
   "execution_count": 14,
   "metadata": {},
   "outputs": [
    {
     "name": "stdout",
     "output_type": "stream",
     "text": [
      "Enter multiple value: 1,2,3,4\n",
      "Number of list is:  [1, 2, 3, 4]\n"
     ]
    }
   ],
   "source": [
    "\n",
    "# taking multiple inputs at a time separated by comma\n",
    "x = [int(x) for x in input(\"Enter multiple value: \").split(\",\")]\n",
    "print(\"Number of list is: \", x) \n"
   ]
  },
  {
   "cell_type": "markdown",
   "metadata": {},
   "source": [
    "# Out Put \n",
    "The simplest way to produce output is using the print() function where you can pass zero or more expressions separated by commas. This function converts the expressions you pass into a string before writing to the screen.\n",
    "\n",
    "    Syntax: print(value(s), sep= ‘ ‘, end = ‘\\n’, file=file, flush=flush)\n",
    "\n",
    "    Parameters:\n",
    "    value(s) : Any value, and as many as you like. Will be converted to string before printed\n",
    "    sep=’separator’ : (Optional) Specify how to separate the objects, if there is more than one.Default :’ ‘\n",
    "    end=’end’: (Optional) Specify what to print at the end.Default : ‘\\n’\n",
    "    file : (Optional) An object with a write method. Default :sys.stdout\n",
    "    flush : (Optional) A Boolean, specifying if the output is flushed (True) or buffered (False). Default: False\n",
    "\n",
    "    Returns: It returns output to the screen.\n",
    "Python’s print() function comes with a parameter called ‘end’. By default, the value of this parameter is ‘\\n’, i.e. the new line character. You can end a print statement with any character/string using this parameter.    "
   ]
  },
  {
   "cell_type": "code",
   "execution_count": 15,
   "metadata": {},
   "outputs": [
    {
     "name": "stdout",
     "output_type": "stream",
     "text": [
      "geeks geeksforgeeks\n",
      "1 2 3 4 "
     ]
    }
   ],
   "source": [
    "# Python 3 code for printing \n",
    "# on the same line printing  \n",
    "# geeks and geeksforgeeks  \n",
    "# in the same line \n",
    "  \n",
    "print(\"geeks\", end =\" \") \n",
    "print(\"geeksforgeeks\") \n",
    "  \n",
    "# array \n",
    "a = [1, 2, 3, 4] \n",
    "  \n",
    "# printing a element in same \n",
    "# line \n",
    "for i in range(4): \n",
    "    print(a[i], end =\" \")"
   ]
  },
  {
   "cell_type": "code",
   "execution_count": 16,
   "metadata": {},
   "outputs": [
    {
     "name": "stdout",
     "output_type": "stream",
     "text": [
      "GFG\n",
      "09-12-2016\n",
      "pratik@geeksforgeeks\n"
     ]
    }
   ],
   "source": [
    "\n",
    "#code for disabling the softspace feature \n",
    "print('G','F','G', sep='') \n",
    "  \n",
    "#for formatting a date \n",
    "print('09','12','2016', sep='-') \n",
    "  \n",
    "#another example \n",
    "print('pratik','geeksforgeeks', sep='@') \n"
   ]
  },
  {
   "cell_type": "code",
   "execution_count": 17,
   "metadata": {},
   "outputs": [
    {
     "name": "stdout",
     "output_type": "stream",
     "text": [
      "GFG\n",
      "09-12\n",
      "prtkagarwal@geeksforgeeks\n"
     ]
    }
   ],
   "source": [
    "\n",
    "print('G','F', sep='', end='') \n",
    "print('G') \n",
    "#\\n provides new line after printing the year \n",
    "print('09','12', sep='-', end='\\n') \n",
    "  \n",
    "print('prtk','agarwal', sep='', end='@') \n",
    "print('geeksforgeeks') \n"
   ]
  },
  {
   "cell_type": "markdown",
   "metadata": {},
   "source": [
    "# Formatting output using String modulo operator(%) : \n",
    "The % operator can also be used for string formatting. It interprets the left argument much like a printf()-style format string to be applied to the right argument. In Python, there is no printf() function but the functionality of the ancient printf is contained in Python. To this purpose, the modulo operator % is overloaded by the string class to perform string formatting. Therefore, it is often called a string modulo (or sometimes even called modulus) operator. \n",
    "The string modulo operator ( % ) is still available in Python(3.x) and the user is using it widely. But nowadays the old style of formatting is removed from the language."
   ]
  },
  {
   "cell_type": "code",
   "execution_count": 18,
   "metadata": {},
   "outputs": [
    {
     "name": "stdout",
     "output_type": "stream",
     "text": [
      "Geeks :  1, Portal :  5.33\n",
      "Total students :  240, Boys :  120\n",
      "    031\n",
      " 3.561E+02\n"
     ]
    }
   ],
   "source": [
    "# Python program showing how to use\n",
    "# string modulo operator(%) to print\n",
    "# fancier output\n",
    "\n",
    "# print integer and float value\n",
    "print(\"Geeks : % 2d, Portal : % 5.2f\" %(1, 05.333)) \n",
    "\n",
    "# print integer value\n",
    "print(\"Total students : % 3d, Boys : % 2d\" %(240, 120))\n",
    "\n",
    "# print octal value\n",
    "print(\"% 7.3o\"% (25))\n",
    "\n",
    "# print exponential value\n",
    "print(\"% 10.3E\"% (356.08977))\n",
    "\n",
    "\"\"\"There are two of those in our example: “%2d” and “%5.2f”. The general syntax for a format placeholder is: \n",
    " \n",
    "\n",
    " %[flags][width][.precision]type \n",
    "\n",
    "Let’s take a look at the placeholders in our example. \n",
    " \n",
    "\n",
    "    The first placeholder “%2d” is used for the first component of our tuple, i.e. the integer 1. \n",
    "    The number will be printed with 2 characters. As 1 consists only of one digit, \n",
    "    the output is padded with 1 leading blanks.\n",
    "    The second one “%5.2f” is a format description for a float number. \n",
    "    Like other placeholders, it is introduced with the % character.\n",
    "    This is followed by the total number of digits the string should contain. \n",
    "    This number includes the decimal point and all the digits, i.e. before and after the decimal point.\n",
    "    Our float number 05.333 has to be formatted with 5 characters. \n",
    "    The decimal part of the number or the precision is set to 2, i.e. the number following the “.” in our placeholder.\n",
    "    Finally, the last character “f” of our placeholder stands for “float”\n",
    "\"\"\""
   ]
  },
  {
   "cell_type": "markdown",
   "metadata": {},
   "source": [
    "# Formatting output using the format method : \n",
    "The format() method was added in Python(2.6). The format method of strings requires more manual effort. Users use {} to mark where a variable will be substituted and can provide detailed formatting directives, but the user also needs to provide the information to be formatted. This method lets us concatenate elements within an output through positional formatting. For Example – \n",
    "Code 1: \n",
    " "
   ]
  },
  {
   "cell_type": "code",
   "execution_count": 19,
   "metadata": {},
   "outputs": [
    {
     "name": "stdout",
     "output_type": "stream",
     "text": [
      "I love Geeks for \"Geeks!\"\n",
      "Geeks and Portal\n",
      "Portal and Geeks\n"
     ]
    }
   ],
   "source": [
    "# Python program showing \n",
    "# use of format() method\n",
    "\n",
    "# using format() method\n",
    "print('I love {} for \"{}!\"'.format('Geeks', 'Geeks'))\n",
    "\n",
    "# using format() method and refering \n",
    "# a position of the object\n",
    "print('{0} and {1}'.format('Geeks', 'Portal'))\n",
    "\n",
    "print('{1} and {0}'.format('Geeks', 'Portal'))\n"
   ]
  },
  {
   "cell_type": "code",
   "execution_count": 20,
   "metadata": {},
   "outputs": [
    {
     "name": "stdout",
     "output_type": "stream",
     "text": [
      "Number one portal is Geeks, For, and Geeks.\n",
      "Geeks :12, Portal :    0.55\n",
      "Second argument:  11, first one:   47.42\n",
      "Geeks:   453, Portal:    59.06\n"
     ]
    }
   ],
   "source": [
    "# Python program showing \n",
    "# a use of format() method\n",
    "\n",
    "# combining positional and keyword arguments\n",
    "print('Number one portal is {0}, {1}, and {other}.'\n",
    "\t.format('Geeks', 'For', other ='Geeks'))\n",
    "\n",
    "# using format() method with number \n",
    "print(\"Geeks :{0:2d}, Portal :{1:8.2f}\".\n",
    "\tformat(12, 00.546))\n",
    "\n",
    "# Changing positional argument\n",
    "print(\"Second argument: {1:3d}, first one: {0:7.2f}\".\n",
    "\tformat(47.42, 11))\n",
    "\n",
    "print(\"Geeks: {a:5d}, Portal: {p:8.2f}\".\n",
    "\tformat(a = 453, p = 59.058))\n"
   ]
  },
  {
   "cell_type": "code",
   "execution_count": 21,
   "metadata": {},
   "outputs": [
    {
     "name": "stdout",
     "output_type": "stream",
     "text": [
      "Geeks: 4127; For: 4098; Geeks: 8637678\n",
      "I love GeeksForGeeks computer Portal\n"
     ]
    }
   ],
   "source": [
    "# Python program to \n",
    "# show format () is \n",
    "# used in dictionary\n",
    "\n",
    "tab = {'geeks': 4127, 'for': 4098, 'geek': 8637678}\n",
    "\n",
    "# using format() in dictionary\n",
    "print('Geeks: {0[geeks]:d}; For: {0[for]:d}; '\n",
    "\t'Geeks: {0[geek]:d}'.format(tab))\n",
    "\n",
    "data = dict(fun =\"GeeksForGeeks\", adj =\"Portal\")\n",
    "\n",
    "# using format() in dictionary\n",
    "print(\"I love {fun} computer {adj}\".format(**data))\n"
   ]
  },
  {
   "cell_type": "code",
   "execution_count": 24,
   "metadata": {
    "scrolled": true
   },
   "outputs": [
    {
     "name": "stdout",
     "output_type": "stream",
     "text": [
      "Center aligned string with fillchr: \n",
      "##########I love geeksforgeeks##########\n",
      "The left aligned string is : \n",
      "I love geeksforgeeks--------------------\n",
      "The right aligned string is : \n",
      "--------------------I love geeksforgeeks\n"
     ]
    }
   ],
   "source": [
    "# Python program to\n",
    "# format a output using\n",
    "# string() method\n",
    " \n",
    "cstr = \"I love geeksforgeeks\"\n",
    "   \n",
    "# Printing the center aligned  \n",
    "# string with fillchr \n",
    "print(\"Center aligned string with fillchr: \") \n",
    "print(cstr.center(40, '#')) \n",
    " \n",
    "# Printing the left aligned  \n",
    "# string with \"-\" padding  \n",
    "print(\"The left aligned string is : \") \n",
    "print(cstr.ljust(40, '-'))\n",
    " \n",
    "# Printing the right aligned string \n",
    "# with \"-\" padding  \n",
    "print(\"The right aligned string is : \") \n",
    "print(cstr.rjust(40, '-'))"
   ]
  },
  {
   "cell_type": "markdown",
   "metadata": {},
   "source": [
    "# Python Operators"
   ]
  },
  {
   "cell_type": "code",
   "execution_count": 25,
   "metadata": {},
   "outputs": [
    {
     "name": "stdout",
     "output_type": "stream",
     "text": [
      "13\n",
      "5\n",
      "36\n",
      "2.25\n",
      "2\n",
      "1\n",
      "6561\n"
     ]
    }
   ],
   "source": [
    "# Examples of Arithmetic Operator \n",
    "a = 9\n",
    "b = 4\n",
    "\n",
    "# Addition of numbers \n",
    "add = a + b \n",
    "\n",
    "# Subtraction of numbers \n",
    "sub = a - b \n",
    "\n",
    "# Multiplication of number \n",
    "mul = a * b \n",
    "\n",
    "# Division(float) of number \n",
    "div1 = a / b \n",
    "\n",
    "# Division(floor) of number \n",
    "div2 = a // b \n",
    "\n",
    "# Modulo of both number \n",
    "mod = a % b \n",
    "\n",
    "# Power \n",
    "p = a ** b \n",
    "\n",
    "# print results \n",
    "print(add) \n",
    "print(sub) \n",
    "print(mul) \n",
    "print(div1) \n",
    "print(div2) \n",
    "print(mod) \n",
    "print(p) \n"
   ]
  },
  {
   "cell_type": "code",
   "execution_count": 26,
   "metadata": {
    "scrolled": true
   },
   "outputs": [
    {
     "name": "stdout",
     "output_type": "stream",
     "text": [
      "False\n",
      "True\n",
      "False\n",
      "True\n",
      "False\n",
      "True\n"
     ]
    }
   ],
   "source": [
    "\"\"\"Relational Operators: Relational operators compares the values.\n",
    "It either returns True or False according to the condition.\"\"\"\n",
    "# Examples of Relational Operators \n",
    "a = 13\n",
    "b = 33\n",
    "\n",
    "# a > b is False \n",
    "print(a > b) \n",
    "\n",
    "# a < b is True \n",
    "print(a < b) \n",
    "\n",
    "# a == b is False \n",
    "print(a == b) \n",
    "\n",
    "# a != b is True \n",
    "print(a != b) \n",
    "\n",
    "# a >= b is False \n",
    "print(a >= b) \n",
    "\n",
    "# a <= b is True \n",
    "print(a <= b) \n"
   ]
  },
  {
   "cell_type": "code",
   "execution_count": 28,
   "metadata": {},
   "outputs": [
    {
     "name": "stdout",
     "output_type": "stream",
     "text": [
      "0\n",
      "14\n",
      "-11\n",
      "14\n",
      "2\n",
      "40\n"
     ]
    }
   ],
   "source": [
    "\"\"\"Bitwise operators: Bitwise operators acts on bits and performs bit by bit operation.\"\"\"\n",
    "# Examples of Bitwise operators \n",
    "a = 10\n",
    "b = 4\n",
    "\n",
    "# Print bitwise AND operation \n",
    "print(a & b) \n",
    "\n",
    "# Print bitwise OR operation \n",
    "print(a | b) \n",
    "\n",
    "# Print bitwise NOT operation \n",
    "print(~a) \n",
    "\n",
    "# print bitwise XOR operation \n",
    "print(a ^ b) \n",
    "\n",
    "# print bitwise right shift operation \n",
    "print(a >> 2) \n",
    "\n",
    "# print bitwise left shift operation \n",
    "print(a << 2) \n"
   ]
  },
  {
   "cell_type": "code",
   "execution_count": 27,
   "metadata": {},
   "outputs": [
    {
     "name": "stdout",
     "output_type": "stream",
     "text": [
      "False\n",
      "True\n",
      "False\n"
     ]
    }
   ],
   "source": [
    "\"\"\"Logical operators: Logical operators perform Logical AND, Logical OR and Logical NOT operations.\"\"\"\n",
    "\n",
    "# Examples of Logical Operator \n",
    "a = True\n",
    "b = False\n",
    "  \n",
    "# Print a and b is False \n",
    "print(a and b) \n",
    "  \n",
    "# Print a or b is True \n",
    "print(a or b) \n",
    "  \n",
    "# Print not a is False \n",
    "print(not a) \n"
   ]
  },
  {
   "cell_type": "code",
   "execution_count": 29,
   "metadata": {},
   "outputs": [
    {
     "name": "stdout",
     "output_type": "stream",
     "text": [
      "False\n",
      "True\n",
      "False\n"
     ]
    }
   ],
   "source": [
    "\"\"\"Assignment operators: Assignment operators are used to assign values to the variables.\"\"\"\n",
    "\"\"\"Special operators: There are some special type of operators like-\n",
    "\n",
    "    Identity operators-\n",
    "    is and is not are the identity operators both are used to check if two values are located on the same part of the memory.\n",
    "    Two variables that are equal does not imply that they are identical.\"\"\"\n",
    "# Examples of Identity operators \n",
    "a1 = 3\n",
    "b1 = 3\n",
    "a2 = 'GeeksforGeeks'\n",
    "b2 = 'GeeksforGeeks'\n",
    "a3 = [1,2,3] \n",
    "b3 = [1,2,3] \n",
    "\n",
    "\n",
    "print(a1 is not b1) \n",
    "\n",
    "\n",
    "print(a2 is b2) \n",
    "\n",
    "# Output is False, since lists are mutable. \n",
    "print(a3 is b3) \n"
   ]
  },
  {
   "cell_type": "code",
   "execution_count": 30,
   "metadata": {},
   "outputs": [
    {
     "name": "stdout",
     "output_type": "stream",
     "text": [
      "True\n",
      "True\n",
      "False\n",
      "True\n",
      "False\n"
     ]
    }
   ],
   "source": [
    "\"\"\"\n",
    "    Membership operators-\n",
    "    in and not in are the membership operators; used to test whether a value or variable is in a sequence.\n",
    "\n",
    "    in            True if value is found in the sequence\n",
    "    not in        True if value is not found in the sequence\n",
    "\n",
    "\"\"\"\n",
    "# Examples of Membership operator \n",
    "x = 'Geeks for Geeks'\n",
    "y = {3:'a',4:'b'} \n",
    "\n",
    "\n",
    "print('G' in x) \n",
    "\n",
    "print('geeks' not in x) \n",
    "\n",
    "print('Geeks' not in x) \n",
    "\n",
    "print(3 in y) \n",
    "\n",
    "print('b' in y) \n"
   ]
  },
  {
   "cell_type": "code",
   "execution_count": 31,
   "metadata": {},
   "outputs": [
    {
     "name": "stdout",
     "output_type": "stream",
     "text": [
      "610\n",
      "Hello! Welcome.\n"
     ]
    }
   ],
   "source": [
    "# Examples of Operator Precedence \n",
    "\n",
    "# Precedence of '+' & '*' \n",
    "expr = 10 + 20 * 30\n",
    "print(expr) \n",
    "\n",
    "# Precedence of 'or' & 'and' \n",
    "name = \"Alex\"\n",
    "age = 0\n",
    "\t\n",
    "if name == \"Alex\" or name == \"John\" and age >= 2 : \n",
    "\tprint(\"Hello! Welcome.\") \n",
    "else : \n",
    "\tprint(\"Good Bye!!\") \n"
   ]
  },
  {
   "cell_type": "markdown",
   "metadata": {},
   "source": [
    "# Python if else"
   ]
  },
  {
   "cell_type": "code",
   "execution_count": 32,
   "metadata": {},
   "outputs": [
    {
     "name": "stdout",
     "output_type": "stream",
     "text": [
      "I am Not in if\n"
     ]
    }
   ],
   "source": [
    "# python program to illustrate If statement \n",
    "\n",
    "i = 10\n",
    "if (i > 15): \n",
    "    print (\"10 is less than 15\") \n",
    "print (\"I am Not in if\") \n"
   ]
  },
  {
   "cell_type": "code",
   "execution_count": 33,
   "metadata": {},
   "outputs": [
    {
     "name": "stdout",
     "output_type": "stream",
     "text": [
      "i is greater than 15\n",
      "i'm in else Block\n",
      "i'm not in if and not in else Block\n"
     ]
    }
   ],
   "source": [
    "# python program to illustrate If else statement \n",
    "#!/usr/bin/python \n",
    "\n",
    "i = 20; \n",
    "if (i < 15): \n",
    "\tprint (\"i is smaller than 15\") \n",
    "\tprint (\"i'm in if Block\") \n",
    "else: \n",
    "\tprint (\"i is greater than 15\") \n",
    "\tprint (\"i'm in else Block\") \n",
    "print (\"i'm not in if and not in else Block\") \n"
   ]
  },
  {
   "cell_type": "code",
   "execution_count": 34,
   "metadata": {},
   "outputs": [
    {
     "name": "stdout",
     "output_type": "stream",
     "text": [
      "i is smaller than 15\n",
      "i is smaller than 12 too\n"
     ]
    }
   ],
   "source": [
    "# python program to illustrate nested If statement \n",
    "#!/usr/bin/python \n",
    "i = 10\n",
    "if (i == 10): \n",
    "\t# First if statement \n",
    "\tif (i < 15): \n",
    "\t\tprint (\"i is smaller than 15\") \n",
    "\t# Nested - if statement \n",
    "\t# Will only be executed if statement above \n",
    "\t# it is true \n",
    "\tif (i < 12): \n",
    "\t\tprint (\"i is smaller than 12 too\") \n",
    "\telse: \n",
    "\t\tprint (\"i is greater than 15\") \n"
   ]
  },
  {
   "cell_type": "code",
   "execution_count": 35,
   "metadata": {},
   "outputs": [
    {
     "name": "stdout",
     "output_type": "stream",
     "text": [
      "i is 20\n"
     ]
    }
   ],
   "source": [
    "# Python program to illustrate if-elif-else ladder \n",
    "#!/usr/bin/python \n",
    "\n",
    "i = 20\n",
    "if (i == 10): \n",
    "\tprint (\"i is 10\") \n",
    "elif (i == 15): \n",
    "\tprint (\"i is 15\") \n",
    "elif (i == 20): \n",
    "\tprint (\"i is 20\") \n",
    "else: \n",
    "\tprint (\"i is not present\") \n"
   ]
  },
  {
   "cell_type": "code",
   "execution_count": 36,
   "metadata": {},
   "outputs": [
    {
     "name": "stdout",
     "output_type": "stream",
     "text": [
      "i is less than 15\n"
     ]
    }
   ],
   "source": [
    "# Python program to illustrate short hand if \n",
    "i = 10\n",
    "if i < 15: print(\"i is less than 15\") \n"
   ]
  },
  {
   "cell_type": "code",
   "execution_count": 37,
   "metadata": {},
   "outputs": [
    {
     "name": "stdout",
     "output_type": "stream",
     "text": [
      "True\n"
     ]
    }
   ],
   "source": [
    "# Python program to illustrate short hand if-else \n",
    "i = 10\n",
    "print(True) if i < 15 else print(False) \n"
   ]
  },
  {
   "cell_type": "markdown",
   "metadata": {},
   "source": [
    "# Functions \n",
    "A function is a set of statements that take inputs, do some specific computation and produces output. The idea is to put some commonly or repeatedly done task together and make a function, so that instead of writing the same code again and again for different inputs, we can call the function."
   ]
  },
  {
   "cell_type": "code",
   "execution_count": 39,
   "metadata": {},
   "outputs": [
    {
     "name": "stdout",
     "output_type": "stream",
     "text": [
      "even\n",
      "odd\n"
     ]
    }
   ],
   "source": [
    "# A simple Python function to check \n",
    "# whether x is even or odd \n",
    "def evenOdd( x ): \n",
    "\tif (x % 2 == 0): \n",
    "\t\tprint (\"even\")\n",
    "\telse: \n",
    "\t\tprint (\"odd\")\n",
    "\n",
    "# Driver code \n",
    "evenOdd(2) \n",
    "evenOdd(3) \n"
   ]
  },
  {
   "cell_type": "code",
   "execution_count": 41,
   "metadata": {},
   "outputs": [
    {
     "name": "stdout",
     "output_type": "stream",
     "text": [
      "[20, 11, 12, 13, 14, 15]\n"
     ]
    }
   ],
   "source": [
    "# Here x is a new reference to same list lst \n",
    "def myFun(x): \n",
    "    x[0] = 20\n",
    "\n",
    "# Driver Code (Note that lst is modified \n",
    "# after function call. \n",
    "lst = [10, 11, 12, 13, 14, 15] \n",
    "myFun(lst)\n",
    "print(lst) \n"
   ]
  },
  {
   "cell_type": "code",
   "execution_count": 45,
   "metadata": {},
   "outputs": [
    {
     "name": "stdout",
     "output_type": "stream",
     "text": [
      "2\n",
      "3\n"
     ]
    }
   ],
   "source": [
    "def swap(x, y): \n",
    "\ttemp = x; \n",
    "\tx = y; \n",
    "\ty = temp;\n",
    "    \n",
    "\n",
    "# Driver code \n",
    "x = 2\n",
    "y = 3\n",
    "swap(x, y) \n",
    "print(x) \n",
    "print(y) \n"
   ]
  },
  {
   "cell_type": "code",
   "execution_count": 46,
   "metadata": {
    "scrolled": true
   },
   "outputs": [
    {
     "name": "stdout",
     "output_type": "stream",
     "text": [
      "Hello\n",
      "Welcome\n",
      "to\n",
      "GeeksforGeeks\n"
     ]
    }
   ],
   "source": [
    "# Python program to illustrate \n",
    "# *args for variable number of arguments \n",
    "def myFun(*argv): \n",
    "\tfor arg in argv: \n",
    "\t\tprint (arg) \n",
    "\t\n",
    "myFun('Hello', 'Welcome', 'to', 'GeeksforGeeks') \n"
   ]
  },
  {
   "cell_type": "code",
   "execution_count": 47,
   "metadata": {},
   "outputs": [
    {
     "name": "stdout",
     "output_type": "stream",
     "text": [
      "first == Geeks\n",
      "mid == for\n",
      "last == Geeks\n"
     ]
    }
   ],
   "source": [
    "# Python program to illustrate \n",
    "# *kargs for variable number of keyword arguments \n",
    "\n",
    "def myFun(**kwargs): \n",
    "\tfor key, value in kwargs.items(): \n",
    "\t\tprint (\"%s == %s\" %(key, value)) \n",
    "\n",
    "# Driver code \n",
    "myFun(first ='Geeks', mid ='for', last='Geeks')\t \n"
   ]
  },
  {
   "cell_type": "markdown",
   "metadata": {},
   "source": [
    "**Anonymous functions**: In Python, anonymous function means that a function is without a name. As we already know that def keyword is used to define the normal functions and the lambda keyword is used to create anonymous functions. Please see this for details."
   ]
  },
  {
   "cell_type": "code",
   "execution_count": 48,
   "metadata": {},
   "outputs": [
    {
     "name": "stdout",
     "output_type": "stream",
     "text": [
      "343\n"
     ]
    }
   ],
   "source": [
    "# Python code to illustrate cube of a number \n",
    "# using labmda function \n",
    "\t\n",
    "cube = lambda x: x*x*x \n",
    "print(cube(7)) \n"
   ]
  },
  {
   "cell_type": "markdown",
   "metadata": {},
   "source": [
    "#  \"**args \" and \"***kwargs in Python\""
   ]
  },
  {
   "cell_type": "code",
   "execution_count": 53,
   "metadata": {},
   "outputs": [
    {
     "name": "stdout",
     "output_type": "stream",
     "text": [
      "First argument : Hello\n",
      "Next argument through *argv : Welcome\n",
      "Next argument through *argv : to\n",
      "Next argument through *argv : GeeksforGeeks\n"
     ]
    }
   ],
   "source": [
    "# Python program to illustrate \n",
    "# *args with first extra argument\n",
    "def myFun(arg1, *argv):\n",
    "\tprint (\"First argument :\", arg1)\n",
    "\tfor arg in argv:\n",
    "\t\tprint(\"Next argument through *argv :\", arg)\n",
    "\n",
    "myFun('Hello', 'Welcome', 'to', 'GeeksforGeeks')\n"
   ]
  },
  {
   "cell_type": "code",
   "execution_count": 54,
   "metadata": {},
   "outputs": [
    {
     "name": "stdout",
     "output_type": "stream",
     "text": [
      "first == Geeks\n",
      "mid == for\n",
      "last == Geeks\n"
     ]
    }
   ],
   "source": [
    "# Python program to illustrate \n",
    "# *kargs for variable number of keyword arguments\n",
    "\n",
    "def myFun(**kwargs): \n",
    "\tfor key, value in kwargs.items():\n",
    "\t\tprint (\"%s == %s\" %(key, value))\n",
    "\n",
    "# Driver code\n",
    "myFun(first ='Geeks', mid ='for', last='Geeks') \n"
   ]
  },
  {
   "cell_type": "code",
   "execution_count": 55,
   "metadata": {},
   "outputs": [
    {
     "name": "stdout",
     "output_type": "stream",
     "text": [
      "arg1: Geeks\n",
      "arg2: for\n",
      "arg3: Geeks\n",
      "arg1: Geeks\n",
      "arg2: for\n",
      "arg3: Geeks\n"
     ]
    }
   ],
   "source": [
    "def myFun(arg1, arg2, arg3):\n",
    "\tprint(\"arg1:\", arg1)\n",
    "\tprint(\"arg2:\", arg2)\n",
    "\tprint(\"arg3:\", arg3)\n",
    "\t\n",
    "# Now we can use *args or **kwargs to\n",
    "# pass arguments to this function : \n",
    "args = (\"Geeks\", \"for\", \"Geeks\")\n",
    "myFun(*args)\n",
    "\n",
    "kwargs = {\"arg1\" : \"Geeks\", \"arg2\" : \"for\", \"arg3\" : \"Geeks\"}\n",
    "myFun(**kwargs)\n"
   ]
  },
  {
   "cell_type": "code",
   "execution_count": 56,
   "metadata": {},
   "outputs": [
    {
     "name": "stdout",
     "output_type": "stream",
     "text": [
      "1\n",
      "2\n",
      "3\n"
     ]
    }
   ],
   "source": [
    "# A Simple Python program to demonstrate working \n",
    "# of yield \n",
    "\n",
    "# A generator function that yields 1 for the first time, \n",
    "# 2 second time and 3 third time \n",
    "def simpleGeneratorFun(): \n",
    "\tyield 1\n",
    "\tyield 2\n",
    "\tyield 3\n",
    "\n",
    "# Driver code to check above generator function \n",
    "for value in simpleGeneratorFun(): \n",
    "\tprint(value) \n",
    "\"\"\"Return sends a specified value back to its caller whereas Yield can produce a sequence of values. \n",
    "We should use yield when we want to iterate over a sequence, but don’t want to store the entire sequence in memory.\n",
    "\n",
    "Yield are used in Python generators.\n",
    "A generator function is defined like a normal function, \n",
    "but whenever it needs to generate a value, it does so with the yield keyword rather than return.\n",
    "If the body of a def contains yield, the function automatically becomes a generator function.\"\"\"    \n"
   ]
  },
  {
   "cell_type": "markdown",
   "metadata": {},
   "source": [
    "# A Python program to generate squares from 1 \n",
    "# to 100 using yield and therefore generator \n",
    "\n",
    "# An infinite generator function that prints \n",
    "# next square number. It starts with 1 \n",
    "def nextSquare(): \n",
    "\ti = 1; \n",
    "\n",
    "\t# An Infinite loop to generate squares \n",
    "\twhile True: \n",
    "\t\tyield i*i\t\t\t\t \n",
    "\t\ti += 1 # Next execution resumes \n",
    "\t\t\t\t# from this point\t \n",
    "\n",
    "# Driver code to test above generator \n",
    "# function \n",
    "for num in nextSquare(): \n",
    "\tif num > 100: \n",
    "\t\tbreak\t\n",
    "\tprint(num) \n"
   ]
  },
  {
   "cell_type": "markdown",
   "metadata": {},
   "source": [
    "# Generators "
   ]
  },
  {
   "cell_type": "code",
   "execution_count": 59,
   "metadata": {
    "scrolled": true
   },
   "outputs": [
    {
     "name": "stdout",
     "output_type": "stream",
     "text": [
      "1\n",
      "2\n",
      "3\n"
     ]
    }
   ],
   "source": [
    "# A Python program to demonstrate use of \n",
    "# generator object with next() \n",
    "\n",
    "# A generator function \n",
    "def simpleGeneratorFun(): \n",
    "\tyield 1\n",
    "\tyield 2\n",
    "\tyield 3\n",
    "\n",
    "# x is a generator object \n",
    "x = simpleGeneratorFun() \n",
    "\n",
    "# Iterating over the generator object using next \n",
    "print(x.__next__()) # In Python 3, __next__() \n",
    "print(x.__next__()) \n",
    "print(x.__next__()) \n"
   ]
  },
  {
   "cell_type": "code",
   "execution_count": 60,
   "metadata": {},
   "outputs": [
    {
     "name": "stdout",
     "output_type": "stream",
     "text": [
      "[100, 2, 8, 60, 4, 10]\n",
      "[True, True, True, True, False, True, False, False, True, False]\n"
     ]
    }
   ],
   "source": [
    "# Python program to demonstrate \n",
    "# lambda functions inside map() \n",
    "# and filter() \n",
    "\n",
    "\n",
    "a = [100, 2, 8, 60, 5, 4, 3, 31, 10, 11] \n",
    "\n",
    "# in filter either we use assignment or \n",
    "# conditional operator, the pass actual \n",
    "# parameter will get return \n",
    "filtered = filter (lambda x: x % 2 == 0, a) \n",
    "print(list(filtered)) \n",
    "\n",
    "# in map either we use assignment or \n",
    "# conditional operator, the result of \n",
    "# the value will get returned \n",
    "maped = map (lambda x: x % 2 == 0, a) \n",
    "print(list(maped)) \n"
   ]
  },
  {
   "cell_type": "code",
   "execution_count": 61,
   "metadata": {},
   "outputs": [
    {
     "name": "stdout",
     "output_type": "stream",
     "text": [
      "Me too.\n",
      "I love Geeksforgeeks\n"
     ]
    }
   ],
   "source": [
    "# Global Vs Local\n",
    "# This function has a variable with \n",
    "# name same as s. \n",
    "def f(): \n",
    "\ts = \"Me too.\"\n",
    "\tprint(s) \n",
    "\n",
    "# Global scope \n",
    "s = \"I love Geeksforgeeks\"\n",
    "f() \n",
    "print(s) \n"
   ]
  },
  {
   "cell_type": "code",
   "execution_count": 62,
   "metadata": {},
   "outputs": [
    {
     "name": "stdout",
     "output_type": "stream",
     "text": [
      "Python is great!\n",
      "Look for Geeksforgeeks Python Section\n",
      "Look for Geeksforgeeks Python Section\n"
     ]
    }
   ],
   "source": [
    "# This function modifies the global variable 's' \n",
    "def f(): \n",
    "\tglobal s \n",
    "\tprint(s) \n",
    "\ts = \"Look for Geeksforgeeks Python Section\"\n",
    "\tprint(s) \n",
    "\n",
    "# Global Scope \n",
    "s = \"Python is great!\"\n",
    "f() \n",
    "print(s) \n"
   ]
  },
  {
   "cell_type": "code",
   "execution_count": 63,
   "metadata": {},
   "outputs": [
    {
     "name": "stdout",
     "output_type": "stream",
     "text": [
      "global :  1\n",
      "Inside f() :  1\n",
      "global :  1\n",
      "Inside g() :  2\n",
      "global :  1\n",
      "Inside h() :  3\n",
      "global :  3\n"
     ]
    }
   ],
   "source": [
    "a = 1\n",
    "\n",
    "# Uses global because there is no local 'a' \n",
    "def f(): \n",
    "\tprint('Inside f() : ', a) \n",
    "\n",
    "# Variable 'a' is redefined as a local \n",
    "def g():\t \n",
    "\ta = 2\n",
    "\tprint('Inside g() : ', a) \n",
    "\n",
    "# Uses global keyword to modify global 'a' \n",
    "def h():\t \n",
    "\tglobal a \n",
    "\ta = 3\n",
    "\tprint('Inside h() : ', a) \n",
    "\n",
    "# Global scope \n",
    "print('global : ',a) \n",
    "f() \n",
    "print('global : ',a) \n",
    "g() \n",
    "print('global : ',a) \n",
    "h() \n",
    "print('global : ',a) \n"
   ]
  },
  {
   "cell_type": "code",
   "execution_count": 64,
   "metadata": {},
   "outputs": [
    {
     "name": "stdout",
     "output_type": "stream",
     "text": [
      "25\n"
     ]
    }
   ],
   "source": [
    "# Python program showing no need to \n",
    "# use global keyword for accessing \n",
    "# a global value \n",
    "\n",
    "# global variable \n",
    "a = 15\n",
    "b = 10\n",
    "\n",
    "# function to perform addition \n",
    "def add(): \n",
    "\tc = a + b \n",
    "\tprint(c) \n",
    "\n",
    "# calling a function \n",
    "add() \n"
   ]
  },
  {
   "cell_type": "code",
   "execution_count": 65,
   "metadata": {},
   "outputs": [
    {
     "name": "stdout",
     "output_type": "stream",
     "text": [
      "Value of x inside a function : 20\n",
      "Value of x outside a function : 20\n"
     ]
    }
   ],
   "source": [
    "# Python program to modify a global \n",
    "# value inside a function \n",
    "\n",
    "x = 15\n",
    "def change(): \n",
    "\n",
    "\t# using a global keyword \n",
    "\tglobal x \n",
    "\n",
    "\t# increment value of a by 5 \n",
    "\tx = x + 5\n",
    "\tprint(\"Value of x inside a function :\", x) \n",
    "change() \n",
    "print(\"Value of x outside a function :\", x) \n"
   ]
  },
  {
   "cell_type": "code",
   "execution_count": 67,
   "metadata": {},
   "outputs": [
    {
     "name": "stdout",
     "output_type": "stream",
     "text": [
      "HI, I AM CREATED BY A FUNCTION PASSED AS AN ARGUMENT.\n",
      "hi, i am created by a function passed as an argument.\n"
     ]
    }
   ],
   "source": [
    "# Python program to illustrate functions \n",
    "# can be passed as arguments to other functions \n",
    "def shout(text): \n",
    "\treturn text.upper() \n",
    "\n",
    "def whisper(text): \n",
    "\treturn text.lower() \n",
    "\n",
    "def greet(func): \n",
    "\t# storing the function in a variable \n",
    "\tgreeting = func(\"Hi, I am created by a function passed as an argument.\") \n",
    "\tprint(greeting )\n",
    "\n",
    "greet(shout) \n",
    "greet(whisper) \n"
   ]
  },
  {
   "cell_type": "code",
   "execution_count": 68,
   "metadata": {},
   "outputs": [
    {
     "name": "stdout",
     "output_type": "stream",
     "text": [
      "Hey!\n"
     ]
    }
   ],
   "source": [
    "# Python program to illustrate \n",
    "# nested functions \n",
    "def outerFunction(text): \n",
    "\ttext = text \n",
    "\n",
    "\tdef innerFunction(): \n",
    "\t\tprint(text) \n",
    "\n",
    "\tinnerFunction() \n",
    "\n",
    "if __name__ == '__main__': \n",
    "\touterFunction('Hey!') \n"
   ]
  },
  {
   "cell_type": "code",
   "execution_count": 1,
   "metadata": {},
   "outputs": [
    {
     "name": "stdout",
     "output_type": "stream",
     "text": [
      "Hey!\n"
     ]
    }
   ],
   "source": [
    "# Python program to illustrate \n",
    "# closures \n",
    "def outerFunction(text): \n",
    "\ttext = text \n",
    "\n",
    "\tdef innerFunction(): \n",
    "\t\tprint(text) \n",
    "\n",
    "\treturn innerFunction # Note we are returning function WITHOUT parenthesis \n",
    "\n",
    "if __name__ == '__main__': \n",
    "\tmyFunction = outerFunction('Hey!') \n",
    "\tmyFunction() \n"
   ]
  },
  {
   "cell_type": "markdown",
   "metadata": {},
   "source": [
    "# Intreface "
   ]
  },
  {
   "cell_type": "code",
   "execution_count": 8,
   "metadata": {},
   "outputs": [
    {
     "ename": "ModuleNotFoundError",
     "evalue": "No module named 'PySide2'",
     "output_type": "error",
     "traceback": [
      "\u001b[1;31m---------------------------------------------------------------------------\u001b[0m",
      "\u001b[1;31mModuleNotFoundError\u001b[0m                       Traceback (most recent call last)",
      "\u001b[1;32m<ipython-input-8-83a4c7d03269>\u001b[0m in \u001b[0;36m<module>\u001b[1;34m\u001b[0m\n\u001b[0;32m      1\u001b[0m \u001b[1;31m#https://python.antoinepernot.fr/cours.php?course=chap10\u001b[0m\u001b[1;33m\u001b[0m\u001b[1;33m\u001b[0m\u001b[1;33m\u001b[0m\u001b[0m\n\u001b[0;32m      2\u001b[0m \u001b[1;32mimport\u001b[0m \u001b[0msys\u001b[0m\u001b[1;33m\u001b[0m\u001b[1;33m\u001b[0m\u001b[0m\n\u001b[1;32m----> 3\u001b[1;33m \u001b[1;32mfrom\u001b[0m \u001b[0mPySide2\u001b[0m \u001b[1;32mimport\u001b[0m \u001b[0mQtCore\u001b[0m\u001b[1;33m,\u001b[0m \u001b[0mQtGui\u001b[0m\u001b[1;33m,\u001b[0m \u001b[0mQtWidgets\u001b[0m\u001b[1;33m\u001b[0m\u001b[1;33m\u001b[0m\u001b[0m\n\u001b[0m\u001b[0;32m      4\u001b[0m \u001b[1;32mfrom\u001b[0m \u001b[0mrandom\u001b[0m \u001b[1;32mimport\u001b[0m \u001b[0mchoice\u001b[0m\u001b[1;33m\u001b[0m\u001b[1;33m\u001b[0m\u001b[0m\n\u001b[0;32m      5\u001b[0m \u001b[1;32mdef\u001b[0m \u001b[0mgenererMotDePasse\u001b[0m\u001b[1;33m(\u001b[0m\u001b[0mtailleMotDePasse\u001b[0m\u001b[1;33m=\u001b[0m\u001b[1;36m8\u001b[0m\u001b[1;33m,\u001b[0m \u001b[0mminuscules\u001b[0m\u001b[1;33m=\u001b[0m\u001b[1;32mTrue\u001b[0m\u001b[1;33m,\u001b[0m \u001b[0mmajuscules\u001b[0m\u001b[1;33m=\u001b[0m\u001b[1;32mTrue\u001b[0m\u001b[1;33m,\u001b[0m \u001b[0mchiffres\u001b[0m\u001b[1;33m=\u001b[0m\u001b[1;32mTrue\u001b[0m\u001b[1;33m,\u001b[0m \u001b[0msymboles\u001b[0m\u001b[1;33m=\u001b[0m\u001b[1;32mTrue\u001b[0m\u001b[1;33m)\u001b[0m\u001b[1;33m:\u001b[0m\u001b[1;33m\u001b[0m\u001b[1;33m\u001b[0m\u001b[0m\n",
      "\u001b[1;31mModuleNotFoundError\u001b[0m: No module named 'PySide2'"
     ]
    }
   ],
   "source": [
    "#https://python.antoinepernot.fr/cours.php?course=chap10\n",
    "import sys\n",
    "from PySide2 import QtCore, QtGui, QtWidgets\n",
    "from random import choice\n",
    "def genererMotDePasse(tailleMotDePasse=8, minuscules=True, majuscules=True, chiffres=True, symboles=True):\n",
    "\tcaracteres = \"\"\n",
    "\tif minuscules:\n",
    "\t\tcaracteres += \"abcdefghijklmnopqrstuvwxyz\"\n",
    "\tif majuscules:\n",
    "\t\tcaracteres += \"ABCDEFGHIJKLMNOPQRSTUVWXYZ\"\n",
    "\tif chiffres:\n",
    "\t\tcaracteres += \"0123456789\"\n",
    "\tif symboles:\n",
    "\t\tcaracteres += \"&~#{([-|_\\^@)=+$]}*%!/:.;?,\"\n",
    "\tmotDePasse = \"\"\n",
    "\tfor i in range(tailleMotDePasse):\n",
    "\t\tmotDePasse += choice(caracteres)\n",
    "\treturn(motDePasse)\n",
    "class MaFenetre(QtWidgets.QDialog):\n",
    "\tdef __init__(self, parent=None):\n",
    "\t\tQtWidgets.QDialog.__init__(self,parent)\n",
    "\t\t# Les cases à cocher\n",
    "\t\tself.__caseMinuscules = QtWidgets.QCheckBox(\"Minuscules\")\n",
    "\t\tself.__caseMajuscules = QtWidgets.QCheckBox(\"Majuscules\")\n",
    "\t\tself.__caseChiffres = QtWidgets.QCheckBox(\"Chiffres\")\n",
    "\t\tself.__caseSymboles = QtWidgets.QCheckBox(\"Symboles\")\n",
    "\t\t# Les boutons\n",
    "\t\tself.__boutonQuitter = QtWidgets.QPushButton(\"Quitter\")\n",
    "\t\tself.__boutonCopier = QtWidgets.QPushButton(\"Vers le presse-papier\")\n",
    "\t\tself.__boutonGenerer = QtWidgets.QPushButton(\"Générer\")\n",
    "\t\t# Le champ de texte\n",
    "\t\tself.__champTexte = QtWidgets.QLineEdit(\"\")\n",
    "\t\t# La glissière\n",
    "\t\tself.__glissiereTaille = QtWidgets.QSlider(QtCore.Qt.Horizontal)\n",
    "\t\tself.__glissiereTaille.setMinimum(8)\n",
    "\t\tself.__glissiereTaille.setMaximum(30)\n",
    "\t\t# Le label\n",
    "\t\tself.__labelTaille = QtWidgets.QLabel(\"Taille du mot de passe : \" + str(self.__glissiereTaille.value()))\n",
    "\t\tlayout = QtWidgets.QGridLayout()\n",
    "\t\tlayout.addWidget(self.__caseMajuscules, 0, 0)\n",
    "\t\tlayout.addWidget(self.__labelTaille, 0, 1)\n",
    "\t\tlayout.addWidget(self.__caseMinuscules, 0, 2)\n",
    "\t\tlayout.addWidget(self.__caseChiffres, 1, 0)\n",
    "\t\tlayout.addWidget(self.__glissiereTaille, 1, 1)\n",
    "\t\tlayout.addWidget(self.__caseSymboles, 1, 2)\n",
    "\t\tlayout.addWidget(self.__champTexte, 2, 1)\n",
    "\t\tlayout.addWidget(self.__boutonQuitter, 3, 0)\n",
    "\t\tlayout.addWidget(self.__boutonCopier, 3, 1)\n",
    "\t\tlayout.addWidget(self.__boutonGenerer, 3, 2)\n",
    "\t\tself.setLayout(layout)\n",
    "\t\tself.setWindowTitle(\"Générateur de mot de passe\")\n",
    "\t\ticone = QtGui.QIcon()\n",
    "\t\ticone.addPixmap(QtGui.QPixmap(\"cadenas.svg\"))\n",
    "\t\tself.setWindowIcon(icone)\n",
    "\t\tself.__caseMinuscules.setChecked(True)\n",
    "\t\tself.__caseChiffres.setChecked(True)\n",
    "\t\tself.__boutonQuitter.clicked.connect(self.quitter)\n",
    "\t\tself.__boutonCopier.clicked.connect(self.copier)\n",
    "\t\tself.__boutonGenerer.clicked.connect(self.generer)\n",
    "\t\tself.__glissiereTaille.valueChanged.connect(self.changerTailleMotDePasse)\n",
    "\tdef quitter(self):\n",
    "\t\tself.accept()\n",
    "\tdef copier(self):\n",
    "\t\tpressePapier = QtWidgets.QApplication.clipboard()\n",
    "\t\tpressePapier.setText(self.__champTexte.text())\n",
    "\tdef generer(self):\n",
    "\t\ttailleMotDePasse = self.__glissiereTaille.value()\n",
    "\t\tminuscules = self.__caseMinuscules.isChecked()\n",
    "\t\tmajuscules = self.__caseMajuscules.isChecked()\n",
    "\t\tchiffres = self.__caseChiffres.isChecked()\n",
    "\t\tsymboles = self.__caseSymboles.isChecked()\n",
    "\t\tself.__champTexte.setText(genererMotDePasse(tailleMotDePasse, minuscules, majuscules, chiffres, symboles))\n",
    "\tdef changerTailleMotDePasse(self):\n",
    "\t\tself.__labelTaille.setText(\"Taille du mot de passe : \" + str(self.__glissiereTaille.value()))\n",
    "app = QtWidgets.QApplication(sys.argv)\n",
    "dialog = MaFenetre()\n",
    "dialog.exec_()"
   ]
  },
  {
   "cell_type": "code",
   "execution_count": null,
   "metadata": {},
   "outputs": [],
   "source": []
  }
 ],
 "metadata": {
  "kernelspec": {
   "display_name": "Python 3",
   "language": "python",
   "name": "python3"
  },
  "language_info": {
   "codemirror_mode": {
    "name": "ipython",
    "version": 3
   },
   "file_extension": ".py",
   "mimetype": "text/x-python",
   "name": "python",
   "nbconvert_exporter": "python",
   "pygments_lexer": "ipython3",
   "version": "3.7.6"
  }
 },
 "nbformat": 4,
 "nbformat_minor": 4
}
