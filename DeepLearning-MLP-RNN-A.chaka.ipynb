{
 "cells": [
  {
   "cell_type": "markdown",
   "metadata": {},
   "source": [
    "# Deep learning:\n",
    "\n",
    "**DL** is a subset of machine learning that's based on artificial neural networks. The learning process is deep because the structure of artificial neural networks consists of multiple input, output, and hidden layers. Each layer contains units that transform the input data into information that the next layer can use for a certain predictive task. Thanks to this structure, a machine can learn through its own data processing"
   ]
  },
  {
   "cell_type": "markdown",
   "metadata": {},
   "source": [
    "# -Step Model Life-Cycle\n",
    "A model has a life-cycle,modeling a dataset and understanding the tf.keras API.\n",
    "The five steps in the life-cycle are as follows:\n",
    "   - Define the model.\n",
    "   - Compile the model.\n",
    "   - Fit the model.\n",
    "   - Evaluate the model.\n",
    "   - Make predictions.\n"
   ]
  },
  {
   "cell_type": "code",
   "execution_count": 1,
   "metadata": {},
   "outputs": [],
   "source": [
    "import findspark\n",
    "findspark.init()\n",
    "import pyspark # only run after findspark.init()\n",
    "from pyspark.sql import SparkSession\n",
    "from pyspark.context import SparkContext \n",
    "from pyspark.sql.functions import *\n",
    "spark = SparkSession.builder.getOrCreate()#create spark session \n",
    "sc = spark.sparkContext#create sparkContext\n",
    "from pyspark.sql.types import  (StructType, \n",
    "                                StructField, \n",
    "                                DateType, \n",
    "                                BooleanType,\n",
    "                                DoubleType,\n",
    "                                IntegerType,\n",
    "                                StringType,\n",
    "                                DecimalType,\n",
    "                                LongType,\n",
    "                                ArrayType,\n",
    "                                TimestampType)\n",
    "sample_schema = StructType([StructField(\"id\",  IntegerType(), True),\n",
    "                            StructField(\"timeAtServer\", DoubleType(), True),\n",
    "                            StructField(\"aircraft\",  IntegerType(), True ),\n",
    "                            StructField(\"latitude\", DoubleType(), True),\n",
    "                            StructField(\"longitude\", DoubleType(), True  ),\n",
    "                            StructField(\"baroAltitude\", DoubleType(), True ),\n",
    "                            StructField(\"geoAltitude\", DoubleType(), True ),\n",
    "                            StructField(\"numM\",IntegerType(), True),\n",
    "                            StructField(\"measurements\", StringType(), True)           \n",
    "                            ])\n",
    "sample_aircarft = spark.read.csv(\"C:/PFE/TEST/training_1_category_1.csv\",\n",
    "                       header = True, \n",
    "                        schema = sample_schema)\n",
    "#filter only right data :\n",
    "sample_aircarft_filtred=sample_aircarft.filter((sample_aircarft.latitude !=0)\n",
    "                                               |(sample_aircarft.longitude != 0)\n",
    "                                               | (sample_aircarft.baroAltitude != 0)\n",
    "                                               | (sample_aircarft.geoAltitude!= 0)\n",
    "                                               | (sample_aircarft.geoAltitude!= 'null')\n",
    "                                               | (sample_aircarft.measurements != 'NA'))\n",
    "sample_aircarft =sample_aircarft.orderBy('aircraft','timeAtServer')\n",
    "sensors_schema = StructType([StructField(\"serial\", LongType(), True),\n",
    "                            StructField(\"latitudes\", DoubleType(), True ),\n",
    "                            StructField(\"longitudes\",DoubleType(), True),\n",
    "                            StructField(\"height\",DoubleType(), True),\n",
    "                            StructField(\"type\", StringType(), True)\n",
    "                            ])\n",
    "sensors = spark.read.csv(\"C:/PFE/TEST/sensors.csv\",\n",
    "                       header = True, \n",
    "                        schema = sensors_schema)\n",
    "sample_aircarft.na.drop(how = 'all')\n",
    "sample_aircarft.dropDuplicates()\n",
    "sensors.na.drop(how = 'all')\n",
    "sensors.dropDuplicates()\n",
    "sensors_filtred=sensors.filter((sensors.latitudes !=0) & (sensors.longitudes != 0))\n",
    "#let's check our work !\n",
    "sample_aircarft_filtred.filter((sample_aircarft_filtred[\"latitude\"] == \"\") | sample_aircarft_filtred[\"latitude\"].isNull() | isnan(sample_aircarft_filtred[\"latitude\"])).count()\n",
    "#Amazing  we have 0 null , nan  values !!!! #eleminating null data \n",
    "sample_aircarft.na.drop(how = 'all')\n",
    "sample_aircarft.dropDuplicates()\n",
    "from pyspark.sql.functions import *\n",
    "sample_aircarft_filtred = sample_aircarft_filtred.withColumn(\"ArrayOfString\",\n",
    "                                                             split(col(\"measurements\"), \"\\],\\s*\\[\")\n",
    "                                                             .cast(ArrayType(StringType()))\n",
    "                                                             .alias(\"ArrayOfString\"))                                           \n",
    "sample_aircarft_filtred = sample_aircarft_filtred.withColumn(\"sensors_informations\",\n",
    "                                                             explode_outer('ArrayOfString'))\n",
    "sample_aircarft_filtred=sample_aircarft_filtred.withColumn(\"sensors_informations\", \n",
    "                                                           regexp_replace(col(\"sensors_informations\"), \"[\\\\[\\\\]]\", \"\"))\n",
    "sample_aircarft_filtred=sample_aircarft_filtred.withColumn(\"sensors_informations\",\n",
    "                                                           split(col(\"sensors_informations\"), \",\\s*\")\n",
    "                                                           .cast(ArrayType(IntegerType())).alias(\"sensors informations\"))\n",
    "sample_aircarft_filtred = sample_aircarft_filtred.withColumn(\"serial_F\",\n",
    "                                                             sample_aircarft_filtred[\"sensors_informations\"]\n",
    "                                                             .getItem(0).cast(DoubleType()))\n",
    "sample_aircarft_filtred = sample_aircarft_filtred.withColumn(\"timestamp\",\n",
    "                                                             sample_aircarft_filtred[\"sensors_informations\"]\n",
    "                                                             .getItem(1).cast(LongType()))\n",
    "sample_aircarft_filtred= sample_aircarft_filtred.withColumn(\"signalstrength\",\n",
    "                                                            sample_aircarft_filtred[\"sensors_informations\"]\n",
    "                                                            .getItem(2).cast(DoubleType()))\n",
    "#==>Data integration: Using multiple databases\n",
    "#spatial join sesnors data + aircrafts data , i used inner join \n",
    "joined_aircarft_sensors=sample_aircarft_filtred.join(sensors_filtred,\n",
    "                                                     sample_aircarft_filtred.serial_F == sensors_filtred.serial,\n",
    "                                                     'inner')\n",
    "import pyspark.sql.functions as F\n",
    "from pyspark.sql.window import Window\n",
    "joined_aircarft_sensors =joined_aircarft_sensors.orderBy('aircraft','timeAtServer')\n",
    "columns = [F.col(\"serial_F\"),F.col(\"latitudes\"),\n",
    "           F.col(\"longitudes\"),F.col(\"signalstrength\"),\n",
    "            F.col(\"height\")] \n",
    "Grouped_aircarft_sensors = joined_aircarft_sensors.withColumn('sensor_infos',F.array(columns))\n",
    "Grouped_aircarft_sensors=Grouped_aircarft_sensors.orderBy('aircraft','timeAtServer')\n",
    "my_window = Window.partitionBy('aircraft','timeAtServer').orderBy(\"timeAtServer\")\n",
    "Grouped_aircarft_sensors=Grouped_aircarft_sensors.withColumn('All_sensor_infos', \n",
    "                                                            collect_list('sensor_infos'              \n",
    "                                                            ).over(my_window))\n",
    "Grouped_aircarft_sensors=Grouped_aircarft_sensors.dropDuplicates(['aircraft', 'timeAtServer'])\n",
    "import numpy as np\n",
    "import pandas as pd\n",
    "# Enable Arrow-based columnar data transfers\n",
    "spark.conf.set(\"spark.sql.execution.arrow.enabled\", \"true\")\n",
    "# Convert the Spark DataFrame back to a Pandas DataFrame using Arrow\n",
    "Grouped_aircarft_sensors=Grouped_aircarft_sensors.withColumn('infos_Flatten',\n",
    "                                                             flatten(Grouped_aircarft_sensors.All_sensor_infos).alias('infos_Flatten'))\n",
    "# will pad our sequaences of data , max =13 * 5 =65 senors in our data \n",
    "#but i will chose only 4 sensors so we have 4*5=20;==> in deployment we must use max sensors or more data  \n",
    "pad_fix_length = F.udf(\n",
    "    lambda arr: arr[:20] + [0.00000000008] * (20- len(arr[:20])), \n",
    "    ArrayType(DoubleType())\n",
    ")\n",
    "Grouped_aircarft_sensors=Grouped_aircarft_sensors.withColumn('infos_Flatten_pad',\n",
    "                                                             pad_fix_length(Grouped_aircarft_sensors.infos_Flatten).alias('infos_Flatten_pad'))\n"
   ]
  },
  {
   "cell_type": "code",
   "execution_count": 2,
   "metadata": {},
   "outputs": [],
   "source": [
    "#filter only right data :\n",
    "Grouped_aircarft_sensors=Grouped_aircarft_sensors.orderBy('aircraft','timeAtServer')\n",
    "Grouped_aircarft_sensors=Grouped_aircarft_sensors.dropDuplicates(['aircraft', 'timeAtServer'])\n",
    "Grouped_aircarft_sensors=Grouped_aircarft_sensors.select('baroAltitude','infos_Flatten_pad','latitude','longitude')\n",
    "Grouped_aircarft_sensors=Grouped_aircarft_sensors.dropna()\n",
    "Grouped_aircarft_sensors=Grouped_aircarft_sensors.na.drop()"
   ]
  },
  {
   "cell_type": "code",
   "execution_count": 3,
   "metadata": {
    "scrolled": true
   },
   "outputs": [
    {
     "data": {
      "text/plain": [
       "1905533"
      ]
     },
     "execution_count": 3,
     "metadata": {},
     "output_type": "execute_result"
    }
   ],
   "source": [
    "Grouped_aircarft_sensors.count()"
   ]
  },
  {
   "cell_type": "code",
   "execution_count": 4,
   "metadata": {},
   "outputs": [],
   "source": [
    "Grouped_aircarft_sensors=Grouped_aircarft_sensors.limit(1250000)"
   ]
  },
  {
   "cell_type": "code",
   "execution_count": 5,
   "metadata": {},
   "outputs": [
    {
     "data": {
      "text/plain": [
       "1250000"
      ]
     },
     "execution_count": 5,
     "metadata": {},
     "output_type": "execute_result"
    }
   ],
   "source": [
    "#Take a sample :\n",
    "Grouped_aircarft_sensors.count()"
   ]
  },
  {
   "cell_type": "code",
   "execution_count": 6,
   "metadata": {},
   "outputs": [
    {
     "name": "stdout",
     "output_type": "stream",
     "text": [
      "root\n",
      " |-- baroAltitude: double (nullable = true)\n",
      " |-- infos_Flatten_pad: array (nullable = true)\n",
      " |    |-- element: double (containsNull = true)\n",
      " |-- latitude: double (nullable = true)\n",
      " |-- longitude: double (nullable = true)\n",
      "\n"
     ]
    }
   ],
   "source": [
    "Grouped_aircarft_sensors=Grouped_aircarft_sensors.select('baroAltitude','infos_Flatten_pad','latitude','longitude')\n",
    "Grouped_aircarft_sensors.printSchema()"
   ]
  },
  {
   "cell_type": "code",
   "execution_count": 7,
   "metadata": {
    "scrolled": false
   },
   "outputs": [
    {
     "name": "stdout",
     "output_type": "stream",
     "text": [
      "+------------+--------------------+----------------+----------------+\n",
      "|baroAltitude|   infos_Flatten_pad|        latitude|       longitude|\n",
      "+------------+--------------------+----------------+----------------+\n",
      "|      2400.3|[440.0, 50.048573...|49.8963643736759|8.40246252111487|\n",
      "|     2407.92|[101.0, 50.048584...|49.8959454035355|8.40149750580659|\n",
      "|     2415.54|[101.0, 50.048584...|49.8956660901086|8.40075518633868|\n",
      "+------------+--------------------+----------------+----------------+\n",
      "only showing top 3 rows\n",
      "\n"
     ]
    }
   ],
   "source": [
    "Grouped_aircarft_sensors.show(3)"
   ]
  },
  {
   "cell_type": "code",
   "execution_count": 8,
   "metadata": {},
   "outputs": [
    {
     "name": "stdout",
     "output_type": "stream",
     "text": [
      "root\n",
      " |-- baroAltitude: double (nullable = true)\n",
      " |-- VectorUDT: vector (nullable = true)\n",
      " |-- latitude: double (nullable = true)\n",
      " |-- longitude: double (nullable = true)\n",
      " |-- features: vector (nullable = true)\n",
      "\n"
     ]
    }
   ],
   "source": [
    "#last thing convert our array to vectir \n",
    "from pyspark.ml.linalg import Vectors, VectorUDT\n",
    "from pyspark.sql.functions import udf\n",
    "list_to_vector_udf = F.udf(lambda l: Vectors.dense(l), VectorUDT())\n",
    "Grouped_aircarft_sensors=Grouped_aircarft_sensors.withColumn('VectorUDT', list_to_vector_udf('infos_Flatten_pad').alias(\"VectorUDT\"))\n",
    "Grouped_aircarft_sensors=Grouped_aircarft_sensors.select('baroAltitude','VectorUDT','latitude','longitude')\n",
    "from pyspark.sql import Row\n",
    "from pyspark.ml.linalg import Vectors\n",
    "# I provide two other ways to build the features and labels\n",
    "# method 1 (good for small feature):\n",
    "# Create features colmun\n",
    "from pyspark.ml.feature import VectorAssembler\n",
    "assembler = VectorAssembler(inputCols=[\"baroAltitude\",'VectorUDT'],outputCol=\"features\")\n",
    "\n",
    "Grouped_aircarft_sensors=Grouped_aircarft_sensors.select(\"baroAltitude\",'VectorUDT','latitude','longitude')\n",
    "Grouped_aircarft_sensors=assembler.transform(Grouped_aircarft_sensors)\n",
    "Grouped_aircarft_sensors.printSchema()"
   ]
  },
  {
   "cell_type": "code",
   "execution_count": 10,
   "metadata": {},
   "outputs": [],
   "source": [
    "def transData(data):\n",
    "    return data.rdd.map(lambda r: [Vectors.dense(r[-1]),r[2],r[3]]).toDF(['featuresc','latitude','longitude'])\n",
    "Grouped_aircarft_sensors= transData(Grouped_aircarft_sensors)"
   ]
  },
  {
   "cell_type": "code",
   "execution_count": 11,
   "metadata": {},
   "outputs": [
    {
     "name": "stdout",
     "output_type": "stream",
     "text": [
      "+--------------------+----------------+----------------+\n",
      "|           featuresc|        latitude|       longitude|\n",
      "+--------------------+----------------+----------------+\n",
      "|[2400.3,440.0,50....|49.8963643736759|8.40246252111487|\n",
      "|[2407.92,101.0,50...|49.8959454035355|8.40149750580659|\n",
      "|[2415.54,101.0,50...|49.8956660901086|8.40075518633868|\n",
      "+--------------------+----------------+----------------+\n",
      "only showing top 3 rows\n",
      "\n"
     ]
    }
   ],
   "source": [
    "Grouped_aircarft_sensors.show(3)"
   ]
  },
  {
   "cell_type": "code",
   "execution_count": 12,
   "metadata": {
    "scrolled": true
   },
   "outputs": [
    {
     "name": "stdout",
     "output_type": "stream",
     "text": [
      "+--------------------+----------------+----------------+\n",
      "|            features|        latitude|       longitude|\n",
      "+--------------------+----------------+----------------+\n",
      "|[2400.3,440.0,50....|49.8963643736759|8.40246252111487|\n",
      "|[2407.92,101.0,50...|49.8959454035355|8.40149750580659|\n",
      "|[2415.54,101.0,50...|49.8956660901086|8.40075518633868|\n",
      "+--------------------+----------------+----------------+\n",
      "only showing top 3 rows\n",
      "\n"
     ]
    }
   ],
   "source": [
    "def get_dummy(df,categoricalCols,continuousCols,labelCol1,labelCol2):\n",
    "    from pyspark.ml import Pipeline\n",
    "    from pyspark.ml.feature import StringIndexer, OneHotEncoder,VectorAssembler\n",
    "    from pyspark.sql.functions import col\n",
    "    indexers = [ StringIndexer(inputCol=c, outputCol=\"{0}_indexed\".format(c)) for c in categoricalCols ]\n",
    "     # default setting: dropLast=True\n",
    "    encoders = [ OneHotEncoder(inputCol=indexer.getOutputCol(),outputCol=\"{0}_encoded\".format(indexer.getOutputCol())) for indexer in indexers ]\n",
    "    \n",
    "    assembler = VectorAssembler(inputCols=[encoder.getOutputCol() for encoder in encoders]+ continuousCols, outputCol=\"features\")\n",
    "    \n",
    "    pipeline = Pipeline(stages=indexers + encoders + [assembler])\n",
    "    model=pipeline.fit(df)\n",
    "    data = model.transform(df)\n",
    "    data = data.withColumn('latitude',col(labelCol1))\n",
    "    data = data.withColumn('longitude',col(labelCol2))\n",
    "    return data.select('features','latitude','longitude')\n",
    "\n",
    "catcols = []\n",
    "num_cols = ['featuresc']\n",
    "labelCol1='latitude'\n",
    "labelCol2='longitude'\n",
    "Grouped_aircarft_sensors= get_dummy(Grouped_aircarft_sensors,catcols,num_cols,labelCol1,labelCol2)\n",
    "Grouped_aircarft_sensors.show(3)"
   ]
  },
  {
   "cell_type": "code",
   "execution_count": 13,
   "metadata": {
    "scrolled": true
   },
   "outputs": [
    {
     "name": "stdout",
     "output_type": "stream",
     "text": [
      "+--------------------+--------------------+----------------+----------------+\n",
      "|            features|     Scaled_features|        latitude|       longitude|\n",
      "+--------------------+--------------------+----------------+----------------+\n",
      "|[2400.3,440.0,50....|[0.16713404374649...|49.8963643736759|8.40246252111487|\n",
      "|[2407.92,101.0,50...|[0.16769489624228...|49.8959454035355|8.40149750580659|\n",
      "|[2415.54,101.0,50...|[0.16825574873808...|49.8956660901086|8.40075518633868|\n",
      "+--------------------+--------------------+----------------+----------------+\n",
      "only showing top 3 rows\n",
      "\n"
     ]
    }
   ],
   "source": [
    "from pyspark.ml.linalg import Vectors\n",
    "from pyspark.ml import Pipeline\n",
    "from pyspark.ml.feature import IndexToString,StringIndexer, VectorIndexer\n",
    "from pyspark.ml.tuning import CrossValidator, ParamGridBuilder\n",
    "from pyspark.ml.evaluation import MulticlassClassificationEvaluator\n",
    "from pyspark.ml.feature import MinMaxScaler\n",
    "\n",
    "# Let us create an object of MinMaxScaler class\n",
    "MinMaxScaler1=MinMaxScaler().setInputCol(\"features\").setOutputCol(\"Scaled_features\")\n",
    "# Make predictions.\n",
    "Grouped_aircarft_sensors = MinMaxScaler1.fit(Grouped_aircarft_sensors).transform(Grouped_aircarft_sensors)\n",
    "# Select example rows to display.\n",
    "Grouped_aircarft_sensors.select(\"features\",'Scaled_features','latitude',\"longitude\").show(3)"
   ]
  },
  {
   "cell_type": "code",
   "execution_count": 14,
   "metadata": {},
   "outputs": [
    {
     "data": {
      "text/plain": [
       "21"
      ]
     },
     "execution_count": 14,
     "metadata": {},
     "output_type": "execute_result"
    }
   ],
   "source": [
    "Grouped_aircarft_sensors=Grouped_aircarft_sensors.select('Scaled_features','latitude','longitude')\n",
    "# Number of Inputs or Input Dimensions\n",
    "input_dim = len(Grouped_aircarft_sensors.select(\"Scaled_features\").first()[0])\n",
    "input_dim"
   ]
  },
  {
   "cell_type": "code",
   "execution_count": 15,
   "metadata": {},
   "outputs": [
    {
     "data": {
      "text/plain": [
       "(999824, 3)"
      ]
     },
     "execution_count": 15,
     "metadata": {},
     "output_type": "execute_result"
    }
   ],
   "source": [
    "#Take a sample :\n",
    "Grouped_aircarft_sensors=Grouped_aircarft_sensors.sample(False,0.8)\n",
    "pandas = pd.DataFrame.from_records(Grouped_aircarft_sensors.collect(), columns=Grouped_aircarft_sensors.columns)\n",
    "pandas.shape"
   ]
  },
  {
   "cell_type": "code",
   "execution_count": 46,
   "metadata": {},
   "outputs": [
    {
     "data": {
      "text/html": [
       "<div>\n",
       "<style scoped>\n",
       "    .dataframe tbody tr th:only-of-type {\n",
       "        vertical-align: middle;\n",
       "    }\n",
       "\n",
       "    .dataframe tbody tr th {\n",
       "        vertical-align: top;\n",
       "    }\n",
       "\n",
       "    .dataframe thead th {\n",
       "        text-align: right;\n",
       "    }\n",
       "</style>\n",
       "<table border=\"1\" class=\"dataframe\">\n",
       "  <thead>\n",
       "    <tr style=\"text-align: right;\">\n",
       "      <th></th>\n",
       "      <th>Scaled_features</th>\n",
       "      <th>latitude</th>\n",
       "      <th>longitude</th>\n",
       "    </tr>\n",
       "  </thead>\n",
       "  <tbody>\n",
       "    <tr>\n",
       "      <th>0</th>\n",
       "      <td>[0.1671340437464947, 0.9207708779443254, 0.559...</td>\n",
       "      <td>49.896364</td>\n",
       "      <td>8.402463</td>\n",
       "    </tr>\n",
       "    <tr>\n",
       "      <th>1</th>\n",
       "      <td>[0.1676948962422883, 0.1948608137044968, 0.559...</td>\n",
       "      <td>49.895945</td>\n",
       "      <td>8.401498</td>\n",
       "    </tr>\n",
       "  </tbody>\n",
       "</table>\n",
       "</div>"
      ],
      "text/plain": [
       "                                     Scaled_features   latitude  longitude\n",
       "0  [0.1671340437464947, 0.9207708779443254, 0.559...  49.896364   8.402463\n",
       "1  [0.1676948962422883, 0.1948608137044968, 0.559...  49.895945   8.401498"
      ]
     },
     "execution_count": 46,
     "metadata": {},
     "output_type": "execute_result"
    }
   ],
   "source": [
    "pandas[0:2]"
   ]
  },
  {
   "cell_type": "code",
   "execution_count": 47,
   "metadata": {
    "scrolled": true
   },
   "outputs": [
    {
     "data": {
      "text/html": [
       "<div>\n",
       "<style scoped>\n",
       "    .dataframe tbody tr th:only-of-type {\n",
       "        vertical-align: middle;\n",
       "    }\n",
       "\n",
       "    .dataframe tbody tr th {\n",
       "        vertical-align: top;\n",
       "    }\n",
       "\n",
       "    .dataframe thead th {\n",
       "        text-align: right;\n",
       "    }\n",
       "</style>\n",
       "<table border=\"1\" class=\"dataframe\">\n",
       "  <thead>\n",
       "    <tr style=\"text-align: right;\">\n",
       "      <th></th>\n",
       "      <th>latitude</th>\n",
       "      <th>longitude</th>\n",
       "    </tr>\n",
       "  </thead>\n",
       "  <tbody>\n",
       "    <tr>\n",
       "      <th>count</th>\n",
       "      <td>999824.000000</td>\n",
       "      <td>999824.000000</td>\n",
       "    </tr>\n",
       "    <tr>\n",
       "      <th>mean</th>\n",
       "      <td>49.244284</td>\n",
       "      <td>7.477732</td>\n",
       "    </tr>\n",
       "    <tr>\n",
       "      <th>std</th>\n",
       "      <td>2.875549</td>\n",
       "      <td>4.478907</td>\n",
       "    </tr>\n",
       "    <tr>\n",
       "      <th>min</th>\n",
       "      <td>31.153656</td>\n",
       "      <td>-10.353679</td>\n",
       "    </tr>\n",
       "    <tr>\n",
       "      <th>25%</th>\n",
       "      <td>47.345261</td>\n",
       "      <td>5.642073</td>\n",
       "    </tr>\n",
       "    <tr>\n",
       "      <th>50%</th>\n",
       "      <td>49.344772</td>\n",
       "      <td>8.010109</td>\n",
       "    </tr>\n",
       "    <tr>\n",
       "      <th>75%</th>\n",
       "      <td>51.174782</td>\n",
       "      <td>10.082124</td>\n",
       "    </tr>\n",
       "    <tr>\n",
       "      <th>max</th>\n",
       "      <td>61.691631</td>\n",
       "      <td>25.098621</td>\n",
       "    </tr>\n",
       "  </tbody>\n",
       "</table>\n",
       "</div>"
      ],
      "text/plain": [
       "            latitude      longitude\n",
       "count  999824.000000  999824.000000\n",
       "mean       49.244284       7.477732\n",
       "std         2.875549       4.478907\n",
       "min        31.153656     -10.353679\n",
       "25%        47.345261       5.642073\n",
       "50%        49.344772       8.010109\n",
       "75%        51.174782      10.082124\n",
       "max        61.691631      25.098621"
      ]
     },
     "execution_count": 47,
     "metadata": {},
     "output_type": "execute_result"
    }
   ],
   "source": [
    "pandas.describe()\n",
    "#https://towardsdatascience.com/distributed-deep-learning-pipelines-with-pyspark-and-keras-a3a1c22b9239"
   ]
  },
  {
   "cell_type": "code",
   "execution_count": 48,
   "metadata": {
    "scrolled": true
   },
   "outputs": [
    {
     "data": {
      "text/plain": [
       "array([[49.89636437,  8.40246252],\n",
       "       [49.8959454 ,  8.40149751],\n",
       "       [49.89566609,  8.40075519],\n",
       "       ...,\n",
       "       [47.6751709 , 11.3939209 ],\n",
       "       [47.6778717 , 11.39378357],\n",
       "       [47.68354797, 11.39344025]])"
      ]
     },
     "execution_count": 48,
     "metadata": {},
     "output_type": "execute_result"
    }
   ],
   "source": [
    "#https://machinelearningmastery.com/tutorial-first-neural-network-python-keras/\n",
    "from __future__ import absolute_import, division, print_function, unicode_literals\n",
    "import pathlib\n",
    "import matplotlib.pyplot as plt\n",
    "import numpy as np\n",
    "import pandas as pd\n",
    "import seaborn as sns\n",
    "import tensorflow as tf\n",
    "\n",
    "from tensorflow import keras\n",
    "from tensorflow.keras import layers\n",
    "from tensorflow.keras.callbacks import EarlyStopping\n",
    "import pandas as pd\n",
    "import numpy as np\n",
    "from sklearn.model_selection import train_test_split\n",
    "# X = pandas.iloc[:,0].values\n",
    "y = pandas.iloc[:,1:].values\n",
    "y"
   ]
  },
  {
   "cell_type": "code",
   "execution_count": 49,
   "metadata": {},
   "outputs": [
    {
     "data": {
      "text/plain": [
       "(999824, 2)"
      ]
     },
     "execution_count": 49,
     "metadata": {},
     "output_type": "execute_result"
    }
   ],
   "source": [
    "y.shape"
   ]
  },
  {
   "cell_type": "markdown",
   "metadata": {},
   "source": [
    "### Convert Dense Vector to Matrix\n",
    "we convert Dense vector to a python array by calling toArray method. Then we use numpy as_matrix method to convert to the two dimensional arrays.\n",
    "If you observe the shape of series, it looks as below"
   ]
  },
  {
   "cell_type": "code",
   "execution_count": 50,
   "metadata": {},
   "outputs": [
    {
     "name": "stderr",
     "output_type": "stream",
     "text": [
      "C:\\Users\\rzouga\\Anaconda3\\lib\\site-packages\\ipykernel_launcher.py:1: FutureWarning: Method .as_matrix will be removed in a future version. Use .values instead.\n",
      "  \"\"\"Entry point for launching an IPython kernel.\n"
     ]
    }
   ],
   "source": [
    "series = pandas['Scaled_features'].apply(lambda x : np.array(x.toArray())).as_matrix().reshape(-1,1)"
   ]
  },
  {
   "cell_type": "code",
   "execution_count": 51,
   "metadata": {},
   "outputs": [
    {
     "data": {
      "text/plain": [
       "array([[array([7.08356702e-01, 6.68094218e-01, 6.36965652e-01, 3.94807534e-01,\n",
       "       1.45098039e-01, 0.00000000e+00, 3.87580300e-01, 6.78141919e-01,\n",
       "       2.38395788e-01, 1.72549020e-01, 2.62061589e-02, 0.00000000e+00,\n",
       "       0.00000000e+00, 3.39539970e-01, 3.13725490e-13, 1.07007564e-03,\n",
       "       0.00000000e+00, 0.00000000e+00, 2.73630086e-01, 3.13725490e-13,\n",
       "       1.07007564e-03])]], dtype=object)"
      ]
     },
     "execution_count": 51,
     "metadata": {},
     "output_type": "execute_result"
    }
   ],
   "source": [
    "series[2000:2001]"
   ]
  },
  {
   "cell_type": "markdown",
   "metadata": {},
   "source": [
    "From the result, it can be seen that there three dimensional array , where as we only need two-dimensional. This is happening because when we call apply and if it returns a sequence, python treat it as single value.\n",
    "\n",
    "###  Flatten using apply_along_axis\n",
    "we are flattening the innermost array"
   ]
  },
  {
   "cell_type": "code",
   "execution_count": 52,
   "metadata": {
    "scrolled": true
   },
   "outputs": [
    {
     "data": {
      "text/plain": [
       "array([[7.08356702e-01, 6.68094218e-01, 6.36965652e-01, 3.94807534e-01,\n",
       "        1.45098039e-01, 0.00000000e+00, 3.87580300e-01, 6.78141919e-01,\n",
       "        2.38395788e-01, 1.72549020e-01, 2.62061589e-02, 0.00000000e+00,\n",
       "        0.00000000e+00, 3.39539970e-01, 3.13725490e-13, 1.07007564e-03,\n",
       "        0.00000000e+00, 0.00000000e+00, 2.73630086e-01, 3.13725490e-13,\n",
       "        1.07007564e-03]])"
      ]
     },
     "execution_count": 52,
     "metadata": {},
     "output_type": "execute_result"
    }
   ],
   "source": [
    "features = np.apply_along_axis(lambda x : x[0], 1, series)\n",
    "features[2000:2001] "
   ]
  },
  {
   "cell_type": "code",
   "execution_count": 53,
   "metadata": {
    "scrolled": true
   },
   "outputs": [
    {
     "data": {
      "text/plain": [
       "(999824, 21)"
      ]
     },
     "execution_count": 53,
     "metadata": {},
     "output_type": "execute_result"
    }
   ],
   "source": [
    "X=features \n",
    "X.shape "
   ]
  },
  {
   "cell_type": "code",
   "execution_count": 54,
   "metadata": {},
   "outputs": [
    {
     "data": {
      "text/plain": [
       "array([[0.73166968, 0.37048636],\n",
       "       [0.73313768, 0.36712086],\n",
       "       [0.73693497, 0.35837329]])"
      ]
     },
     "execution_count": 54,
     "metadata": {},
     "output_type": "execute_result"
    }
   ],
   "source": [
    "from sklearn.preprocessing import  MinMaxScaler\n",
    "from sklearn.preprocessing import StandardScaler\n",
    "#scaling laltitude , longitude \n",
    "sc2= MinMaxScaler()\n",
    "y=sc2.fit_transform(y)\n",
    "y[2000:2003]"
   ]
  },
  {
   "cell_type": "markdown",
   "metadata": {},
   "source": [
    "# Multilayer Perceptron:"
   ]
  },
  {
   "cell_type": "code",
   "execution_count": 55,
   "metadata": {
    "scrolled": false
   },
   "outputs": [
    {
     "name": "stdout",
     "output_type": "stream",
     "text": [
      "Model: \"sequential_3\"\n",
      "_________________________________________________________________\n",
      "Layer (type)                 Output Shape              Param #   \n",
      "=================================================================\n",
      "dense_8 (Dense)              (None, 528)               11616     \n",
      "_________________________________________________________________\n",
      "dropout_3 (Dropout)          (None, 528)               0         \n",
      "_________________________________________________________________\n",
      "dense_9 (Dense)              (None, 264)               139656    \n",
      "_________________________________________________________________\n",
      "dropout_4 (Dropout)          (None, 264)               0         \n",
      "_________________________________________________________________\n",
      "dense_10 (Dense)             (None, 132)               34980     \n",
      "_________________________________________________________________\n",
      "dropout_5 (Dropout)          (None, 132)               0         \n",
      "_________________________________________________________________\n",
      "dense_11 (Dense)             (None, 2)                 266       \n",
      "=================================================================\n",
      "Total params: 186,518\n",
      "Trainable params: 186,518\n",
      "Non-trainable params: 0\n",
      "_________________________________________________________________\n"
     ]
    }
   ],
   "source": [
    "def build_model():\n",
    "    model1 = tf.keras.Sequential()\n",
    "    model1.add( layers.Dense(528, activation='relu',\n",
    "                             kernel_regularizer=tf.keras.regularizers.l1_l2(l1=0.01, l2=0.01),\n",
    "                             input_shape=[X.shape[1]]))\n",
    "    model1.add(layers.Dropout(0.4))\n",
    "    model1.add(layers.Dense(264, activation='relu',kernel_regularizer=tf.keras.regularizers.l2(0.001)))\n",
    "    model1.add(layers.Dropout(0.2))\n",
    "    model1.add(layers.Dense(132, activation='relu',kernel_regularizer=tf.keras.regularizers.l2(0.001)))\n",
    "    model1.add(layers.Dropout(0.1))\n",
    "    model1.add(layers.Dense(2))  \n",
    "    #optimizer='adam'\n",
    "    optimizer =tf.keras.optimizers.Adam()\n",
    "    #optimizer = tf.keras.optimizers.RMSprop(0.001)\n",
    "     ## Compile model\n",
    "    #epochs = 50\n",
    "    #learning_rate = 0.1\n",
    "    #decay_rate = learning_rate / epochs\n",
    "    #momentum = 0.8\n",
    "    #sgd = SGD(lr=learning_rate, momentum=momentum, decay=decay_rate, nesterov=False)\n",
    "    #https://machinelearningmastery.com/tensorflow-tutorial-deep-learning-with-tf-keras/\n",
    "    #optimizer=sgd\n",
    "    model1.compile(loss='mse',\n",
    "                optimizer=optimizer,\n",
    "                metrics=['mae', 'mse'])\n",
    "    return model1\n",
    "\n",
    "model1 = build_model()\n",
    "model1.summary()"
   ]
  },
  {
   "cell_type": "code",
   "execution_count": 56,
   "metadata": {
    "scrolled": true
   },
   "outputs": [
    {
     "data": {
      "image/png": "[encoded data removed]",
      "text/plain": [
       "<IPython.core.display.Image object>"
      ]
     },
     "execution_count": 56,
     "metadata": {},
     "output_type": "execute_result"
    }
   ],
   "source": [
    "# plot graph\n",
    "import graphviz\n",
    "import pydot\n",
    "import os     \n",
    "os.environ[\"PATH\"] += os.pathsep + 'C:/Users/rzouga/Anaconda3/Library/bin/graphviz'\n",
    "tf.keras.utils.plot_model(model1, to_file='multilayer_perceptron_graph.png')"
   ]
  },
  {
   "cell_type": "markdown",
   "metadata": {},
   "source": [
    "**min_delta** : minimum change in the monitored quantity to qualify as an improvement, i.e. an absolute change of less than min_delta, will count as no improvement.\n",
    "\n",
    "**patience** : number of epochs with no improvement after which training will be stopped.\n"
   ]
  },
  {
   "cell_type": "code",
   "execution_count": 57,
   "metadata": {
    "scrolled": true
   },
   "outputs": [
    {
     "name": "stdout",
     "output_type": "stream",
     "text": [
      "WARNING:tensorflow:Entity <function Function._initialize_uninitialized_variables.<locals>.initialize_variables at 0x000000006907FD90> could not be transformed and will be executed as-is. Please report this to the AutoGraph team. When filing the bug, set the verbosity to 10 (on Linux, `export AUTOGRAPH_VERBOSITY=10`) and attach the full output. Cause: module 'gast' has no attribute 'Num'\n",
      "WARNING: Entity <function Function._initialize_uninitialized_variables.<locals>.initialize_variables at 0x000000006907FD90> could not be transformed and will be executed as-is. Please report this to the AutoGraph team. When filing the bug, set the verbosity to 10 (on Linux, `export AUTOGRAPH_VERBOSITY=10`) and attach the full output. Cause: module 'gast' has no attribute 'Num'\n"
     ]
    }
   ],
   "source": [
    "X_train, X_test, y_train, y_test = train_test_split(X, y, test_size = 0.2)\n",
    "EPOCHS =1000\n",
    "# configure early stopping\n",
    "es = EarlyStopping(monitor='val_loss',min_delta=0.0000000000001, patience=5)\n",
    "#batch_size=1000\n",
    "history = model1.fit(\n",
    " X_train, y_train,batch_size=64,\n",
    "  epochs=EPOCHS, validation_split = 0.2, verbose=0 ,callbacks=[es])"
   ]
  },
  {
   "cell_type": "code",
   "execution_count": 58,
   "metadata": {},
   "outputs": [],
   "source": [
    "model1.save('my_model1MLP.h5') "
   ]
  },
  {
   "cell_type": "code",
   "execution_count": 59,
   "metadata": {},
   "outputs": [
    {
     "data": {
      "image/png": "[encoded data removed]",
      "text/plain": [
       "<Figure size 432x288 with 1 Axes>"
      ]
     },
     "metadata": {
      "needs_background": "light"
     },
     "output_type": "display_data"
    }
   ],
   "source": [
    "y_predictions = model1.predict(X_test)\n",
    "a = plt.axes(aspect='equal')\n",
    "plt.scatter(y_test, y_predictions)\n",
    "plt.xlabel('True Values [MPG]')\n",
    "plt.ylabel('Predictions [MPG]')\n",
    "lims = [0, 150]\n",
    "plt.xlim(lims)\n",
    "plt.ylim(lims)\n",
    "_ = plt.plot(lims, lims)"
   ]
  },
  {
   "cell_type": "code",
   "execution_count": 60,
   "metadata": {},
   "outputs": [
    {
     "data": {
      "image/png": "[encoded data removed]",
      "text/plain": [
       "<Figure size 432x288 with 1 Axes>"
      ]
     },
     "metadata": {
      "needs_background": "light"
     },
     "output_type": "display_data"
    }
   ],
   "source": [
    "#Let’s see what this looks like when we plot our respective losses:\n",
    "# \"Loss\"\n",
    "plt.plot(history.history['loss'])\n",
    "plt.plot(history.history['val_loss'])\n",
    "plt.title('model loss')\n",
    "plt.ylabel('loss')\n",
    "plt.xlabel('epoch')\n",
    "plt.legend(['train', 'validation'], loc='upper left')\n",
    "plt.show()"
   ]
  },
  {
   "cell_type": "code",
   "execution_count": 61,
   "metadata": {
    "scrolled": true
   },
   "outputs": [
    {
     "name": "stdout",
     "output_type": "stream",
     "text": [
      "199965/1 - 36s - loss: 0.0243 - mae: 0.0839 - mse: 0.0124\n",
      "Testing set Mean Abs Error:  0.08 MPG\n"
     ]
    }
   ],
   "source": [
    "# evaluate the keras model\n",
    "loss1, mae1, mse1 = model1.evaluate( X_test, y_test, verbose=2)\n",
    "print(\"Testing set Mean Abs Error: {:5.2f} MPG\".format(mae1))"
   ]
  },
  {
   "cell_type": "code",
   "execution_count": 62,
   "metadata": {
    "scrolled": true
   },
   "outputs": [
    {
     "data": {
      "text/plain": [
       "array([[0.5922497, 0.5001321],\n",
       "       [0.5922497, 0.5001321],\n",
       "       [0.5922497, 0.5001321]], dtype=float32)"
      ]
     },
     "execution_count": 62,
     "metadata": {},
     "output_type": "execute_result"
    }
   ],
   "source": [
    "predictions1 = model1.predict(X_test)\n",
    "predictions1[0:3]"
   ]
  },
  {
   "cell_type": "code",
   "execution_count": 109,
   "metadata": {},
   "outputs": [
    {
     "data": {
      "text/plain": [
       "array([[49.239765,  7.377154]], dtype=float32)"
      ]
     },
     "execution_count": 109,
     "metadata": {},
     "output_type": "execute_result"
    }
   ],
   "source": [
    "predictions1 = model1.predict(X_test)\n",
    "yp=sc2.inverse_transform(predictions1[50].reshape(1,-1))\n",
    "yp"
   ]
  },
  {
   "cell_type": "code",
   "execution_count": 108,
   "metadata": {},
   "outputs": [
    {
     "data": {
      "text/plain": [
       "array([[47.85057973, 12.08355243]])"
      ]
     },
     "execution_count": 108,
     "metadata": {},
     "output_type": "execute_result"
    }
   ],
   "source": [
    "yt=sc2.inverse_transform(y_test[50].reshape(1,-1))\n",
    "yt"
   ]
  },
  {
   "cell_type": "code",
   "execution_count": 69,
   "metadata": {},
   "outputs": [],
   "source": [
    "# summarize the first 3cases\n",
    "#for i in range(3):\n",
    " #   print('%s => %d (expected %d)' % (X_test[i].tolist(),\n",
    " #                                     sc2.inverse_transform(predictions1[i].reshape(1, -1)), \n",
    "  #                                    sc2.inverse_transform(y_test[i].reshape(1, -1))))"
   ]
  },
  {
   "cell_type": "markdown",
   "metadata": {},
   "source": [
    "# Time Series\n",
    "Time Series is a collection of data points indexed based on the time they were collected. Most often, the data is recorded at regular time intervals.\n",
    "Forecasting future Time Series values is a quite common problem in practice. \n",
    "Our set  is a time series geospatial data \n",
    "# Recurrent Neural Networks\n",
    "Recurrent neural networks (RNNs) can predict the next value(s) in a sequence or classify it. A sequence is stored as a matrix, where each row is a feature vector that describes it. Naturally, the order of the rows in the matrix is important.\n",
    "As you might’ve already guessed, Time Series is just one type of a sequence. We’ll have to cut the Time Series into smaller sequences, so our RNN models can use them for training.\n",
    "# Data Preprocessing\n",
    "\n",
    "We need to “chop the data” into smaller sequences for our model.\n",
    "Preparing the data for Time Series forecasting (LSTMs in particular) can be tricky. Intuitively, we need to predict the value at the current time step by using the history (n time steps from it). Here’s a generic function that does the job:\n",
    "We need to reshape our data into three dimensions so that it can be used by LSTM.\n",
    "The input to LSTM layer should be in 3D shape i.e. (samples, time-steps, features). The samples are the number of samples in the input data.We have 990965 rows'samples' in total and 21 columns in our dataset. We will reshape our dataset into 990965 samples, 3 time-steps, and 21 features."
   ]
  },
  {
   "cell_type": "code",
   "execution_count": null,
   "metadata": {},
   "outputs": [],
   "source": []
  },
  {
   "cell_type": "code",
   "execution_count": 71,
   "metadata": {
    "scrolled": true
   },
   "outputs": [
    {
     "name": "stdout",
     "output_type": "stream",
     "text": [
      "(999821, 3, 21) (999821, 2)\n"
     ]
    }
   ],
   "source": [
    "def create_dataset1(X, y, time_steps=1):\n",
    "    Xs, ys = [], []\n",
    "    for i in range(len(X) - time_steps):\n",
    "        v = X[i:(i + time_steps)]\n",
    "        Xs.append(v)\n",
    "        ys.append(y[i + time_steps])\n",
    "    return np.array(Xs), np.array(ys)\n",
    "# For timesteps != 1, you can use the below function (adapted from here)\n",
    "\n",
    "import numpy as np\n",
    "def create_dataset2(dataset, look_back=1):\n",
    "    dataX, dataY = [], []\n",
    "    for i in range(len(dataset)-look_back+1):\n",
    "        a = dataset[i:(i+look_back), :]\n",
    "        dataX.append(a)\n",
    "        dataY.append(dataset[i + look_back - 1, :])\n",
    "    return np.array(dataX), np.array(dataY)\n",
    "# or we can use reshape of numpy :\n",
    "#X_data = X_data.reshape((10000,5,30))\n",
    "#X = np.reshape(X, (len(X), 5, X.shape[1]))\n",
    "#https://www.curiousily.com/posts/time-series-forecasting-with-lstms-using-tensorflow-2-and-keras-in-python/#recurrent-neural-networks\n",
    "#https://stackoverflow.com/questions/44704435/error-when-checking-model-input-expected-lstm-1-input-to-have-3-dimensions-but\n",
    "X1, y1=create_dataset1(X, y,3)\n",
    "print(X1.shape, y1.shape)"
   ]
  },
  {
   "cell_type": "code",
   "execution_count": 72,
   "metadata": {},
   "outputs": [
    {
     "name": "stdout",
     "output_type": "stream",
     "text": [
      "(900000, 3, 21) (99821, 3, 21) (900000, 2) (99821, 2)\n"
     ]
    }
   ],
   "source": [
    "X_train1=X1[0:900000]\n",
    "X_test1=X1[900000:]\n",
    "y_train1=y1[0:900000]\n",
    "y_test1=y1[900000:]\n",
    "print(X_train1.shape,X_test1.shape,y_train1.shape, y_test1.shape)"
   ]
  },
  {
   "cell_type": "markdown",
   "metadata": {},
   "source": [
    "# Solution via Simple LSTM\n",
    "\n",
    "Let's now create our model with one LSTM layer:"
   ]
  },
  {
   "cell_type": "code",
   "execution_count": 73,
   "metadata": {},
   "outputs": [
    {
     "name": "stdout",
     "output_type": "stream",
     "text": [
      "WARNING:tensorflow:Entity <function Function._initialize_uninitialized_variables.<locals>.initialize_variables at 0x00000000B5167EA0> could not be transformed and will be executed as-is. Please report this to the AutoGraph team. When filing the bug, set the verbosity to 10 (on Linux, `export AUTOGRAPH_VERBOSITY=10`) and attach the full output. Cause: module 'gast' has no attribute 'Num'\n",
      "WARNING: Entity <function Function._initialize_uninitialized_variables.<locals>.initialize_variables at 0x00000000B5167EA0> could not be transformed and will be executed as-is. Please report this to the AutoGraph team. When filing the bug, set the verbosity to 10 (on Linux, `export AUTOGRAPH_VERBOSITY=10`) and attach the full output. Cause: module 'gast' has no attribute 'Num'\n"
     ]
    }
   ],
   "source": [
    "#https://morioh.com/p/9f28ce66f1a7\n",
    "#https://stackabuse.com/cross-validation-and-grid-search-for-model-selection-in-python/, evaluation grid search\n",
    "#Solution via Simple LSTM\n",
    "def build_model():\n",
    "    model2 = tf.keras.Sequential()\n",
    "    model2.add(layers.LSTM(50, activation='relu', input_shape=(3, 21)))\n",
    "    model2.add(layers.Dense(2))  \n",
    "    #optimizer='adam'\n",
    "    optimizer =tf.keras.optimizers.Adam()\n",
    "    #optimizer = tf.keras.optimizers.RMSprop(0.001)\n",
    "     ## Compile model\n",
    "    #epochs = 50\n",
    "    #learning_rate = 0.1\n",
    "    #decay_rate = learning_rate / epochs\n",
    "    #momentum = 0.8\n",
    "    #sgd = SGD(lr=learning_rate, momentum=momentum, decay=decay_rate, nesterov=False)\n",
    "    #optimizer=sgd\n",
    "    model2.compile(loss='mse',\n",
    "                optimizer=optimizer,\n",
    "                metrics=['mae', 'mse'])\n",
    "    return model2\n",
    "model2 = build_model()\n",
    "history = model2.fit(X_train1, y_train1,batch_size=64, epochs=1000, validation_split=0.1, verbose=0,callbacks=[es])"
   ]
  },
  {
   "cell_type": "code",
   "execution_count": 74,
   "metadata": {},
   "outputs": [],
   "source": [
    "model2.save('my_model2LSTM.h5') "
   ]
  },
  {
   "cell_type": "code",
   "execution_count": 75,
   "metadata": {},
   "outputs": [
    {
     "name": "stdout",
     "output_type": "stream",
     "text": [
      "99821/1 - 15s - loss: 1.8407e-04 - mae: 0.0124 - mse: 3.3809e-04\n",
      "Testing set Mean Abs Error:  0.01 MPG\n"
     ]
    }
   ],
   "source": [
    "# evaluate the keras model\n",
    "loss2, mae2, mse2 = model2.evaluate( X_test1, y_test1, verbose=2)\n",
    "print(\"Testing set Mean Abs Error: {:5.2f} MPG\".format(mae2))"
   ]
  },
  {
   "cell_type": "code",
   "execution_count": 97,
   "metadata": {},
   "outputs": [
    {
     "data": {
      "text/plain": [
       "array([[52.58566  ,  6.7899394]], dtype=float32)"
      ]
     },
     "execution_count": 97,
     "metadata": {},
     "output_type": "execute_result"
    }
   ],
   "source": [
    "test_output = model2.predict(X_test1, verbose=0)\n",
    "yp=sc2.inverse_transform(test_output[1].reshape(1,-1))\n",
    "yp"
   ]
  },
  {
   "cell_type": "code",
   "execution_count": 98,
   "metadata": {},
   "outputs": [
    {
     "data": {
      "text/plain": [
       "array([[52.37638829,  6.94445801]])"
      ]
     },
     "execution_count": 98,
     "metadata": {},
     "output_type": "execute_result"
    }
   ],
   "source": [
    "yt=sc2.inverse_transform(y_test1[1].reshape(1,-1))\n",
    "yt"
   ]
  },
  {
   "cell_type": "markdown",
   "metadata": {},
   "source": [
    "# Solution via Stacked LSTM\n",
    "Let's now create a more complex LSTM with multiple LSTM and dense layers and see if we can improve our answer:"
   ]
  },
  {
   "cell_type": "code",
   "execution_count": 78,
   "metadata": {
    "scrolled": false
   },
   "outputs": [
    {
     "name": "stdout",
     "output_type": "stream",
     "text": [
      "WARNING:tensorflow:Entity <function Function._initialize_uninitialized_variables.<locals>.initialize_variables at 0x0000000068EB0D08> could not be transformed and will be executed as-is. Please report this to the AutoGraph team. When filing the bug, set the verbosity to 10 (on Linux, `export AUTOGRAPH_VERBOSITY=10`) and attach the full output. Cause: module 'gast' has no attribute 'Num'\n",
      "WARNING: Entity <function Function._initialize_uninitialized_variables.<locals>.initialize_variables at 0x0000000068EB0D08> could not be transformed and will be executed as-is. Please report this to the AutoGraph team. When filing the bug, set the verbosity to 10 (on Linux, `export AUTOGRAPH_VERBOSITY=10`) and attach the full output. Cause: module 'gast' has no attribute 'Num'\n"
     ]
    }
   ],
   "source": [
    "#Solution via Stacked LSTM\n",
    "#The following script trains a stacked LSTM and makes predictions on test point:\n",
    "def build_model():\n",
    "    model3 = tf.keras.Sequential()\n",
    "    model3.add(layers.LSTM(200, activation='relu',return_sequences=True, input_shape=(3, 21)))\n",
    "    model3.add(layers.LSTM(100, activation='relu',return_sequences=True))\n",
    "    model3.add(layers.LSTM(50, activation='relu',return_sequences=True))\n",
    "    model3.add(layers.LSTM(25, activation='relu'))\n",
    "    model3.add(layers.Dense(20, activation='relu'))\n",
    "    model3.add(layers.Dense(10, activation='relu'))\n",
    "    model3.add(layers.Dense(2))  \n",
    "    #optimizer='adam'\n",
    "    optimizer =tf.keras.optimizers.Adam()\n",
    "    #optimizer = tf.keras.optimizers.RMSprop(0.001)\n",
    "     ## Compile model\n",
    "    #epochs = 50\n",
    "    #learning_rate = 0.1\n",
    "    #decay_rate = learning_rate / epochs\n",
    "    #momentum = 0.8\n",
    "    #sgd = SGD(lr=learning_rate, momentum=momentum, decay=decay_rate, nesterov=False)\n",
    "    #optimizer=sgd\n",
    "    model3.compile(loss='mse',\n",
    "                optimizer=optimizer,\n",
    "                metrics=['mae', 'mse'])\n",
    "    return model3\n",
    "model3 = build_model()\n",
    "history = model3.fit(X_train1, y_train1,batch_size=64, epochs=1000, validation_split=0.1,verbose=0,callbacks=[es])"
   ]
  },
  {
   "cell_type": "code",
   "execution_count": 79,
   "metadata": {},
   "outputs": [],
   "source": [
    "model3.save('my_model3StackLSTM.h5') "
   ]
  },
  {
   "cell_type": "code",
   "execution_count": 80,
   "metadata": {},
   "outputs": [
    {
     "name": "stdout",
     "output_type": "stream",
     "text": [
      "99821/1 - 55s - loss: 4.8476e-04 - mae: 0.0134 - mse: 3.8006e-04\n",
      "Testing set Mean Abs Error:  0.01 MPG\n"
     ]
    }
   ],
   "source": [
    "# evaluate the keras model\n",
    "loss3, mae3, mse3 = model3.evaluate( X_test1, y_test1, verbose=2)\n",
    "print(\"Testing set Mean Abs Error: {:5.2f} MPG\".format(mae3))"
   ]
  },
  {
   "cell_type": "code",
   "execution_count": 94,
   "metadata": {},
   "outputs": [
    {
     "data": {
      "text/plain": [
       "array([[52.854713 ,  7.6524935]], dtype=float32)"
      ]
     },
     "execution_count": 94,
     "metadata": {},
     "output_type": "execute_result"
    }
   ],
   "source": [
    "test_output1 = model3.predict(X_test1, verbose=0)\n",
    "yp=sc2.inverse_transform(test_output1[1].reshape(1,-1))\n",
    "yp"
   ]
  },
  {
   "cell_type": "code",
   "execution_count": 96,
   "metadata": {},
   "outputs": [
    {
     "data": {
      "text/plain": [
       "array([[52.37638829,  6.94445801]])"
      ]
     },
     "execution_count": 96,
     "metadata": {},
     "output_type": "execute_result"
    }
   ],
   "source": [
    "yt=sc2.inverse_transform(y_test1[1].reshape(1,-1))\n",
    "yt"
   ]
  },
  {
   "cell_type": "markdown",
   "metadata": {},
   "source": [
    "# Solution via Bidirectional LSTM\n",
    "Bidirectional LSTM is a type of LSTM which learns from the input sequence from both forward and backward directions. The final sequence interpretation is the concatenation of both forward and backward learning passes. Let's see if we can get better results with bidirectional LSTMs.\n",
    "The following script creates a bidirectional LSTM model with one bidirectional layer and one dense layer which acts as the output of the model."
   ]
  },
  {
   "cell_type": "code",
   "execution_count": 83,
   "metadata": {
    "scrolled": false
   },
   "outputs": [
    {
     "name": "stdout",
     "output_type": "stream",
     "text": [
      "WARNING:tensorflow:Entity <function Function._initialize_uninitialized_variables.<locals>.initialize_variables at 0x0000000059DA0598> could not be transformed and will be executed as-is. Please report this to the AutoGraph team. When filing the bug, set the verbosity to 10 (on Linux, `export AUTOGRAPH_VERBOSITY=10`) and attach the full output. Cause: module 'gast' has no attribute 'Num'\n",
      "WARNING: Entity <function Function._initialize_uninitialized_variables.<locals>.initialize_variables at 0x0000000059DA0598> could not be transformed and will be executed as-is. Please report this to the AutoGraph team. When filing the bug, set the verbosity to 10 (on Linux, `export AUTOGRAPH_VERBOSITY=10`) and attach the full output. Cause: module 'gast' has no attribute 'Num'\n"
     ]
    }
   ],
   "source": [
    "def build_model():\n",
    "    model4 = tf.keras.Sequential()\n",
    "    model4.add(layers.Bidirectional(layers.LSTM(200, activation='relu'), input_shape=(3, 21)))\n",
    "    model4.add(layers.Dense(2))  \n",
    "    #optimizer='adam'\n",
    "    optimizer =tf.keras.optimizers.Adam()\n",
    "    #https://stackabuse.com/solving-sequence-problems-with-lstm-in-keras-part-2/\n",
    "    #optimizer = tf.keras.optimizers.RMSprop(0.001)\n",
    "     ## Compile model\n",
    "    #epochs = 50\n",
    "    #learning_rate = 0.1\n",
    "    #decay_rate = learning_rate / epochs\n",
    "    #momentum = 0.8\n",
    "    #sgd = SGD(lr=learning_rate, momentum=momentum, decay=decay_rate, nesterov=False)\n",
    "    #optimizer=sgd\n",
    "    model4.compile(loss='mse',\n",
    "                optimizer=optimizer,\n",
    "                metrics=['mae', 'mse'])\n",
    "    return model4\n",
    "model4 = build_model()\n",
    "history = model4.fit(X_train1, y_train1, batch_size=64,epochs=1000, validation_split=0.1, verbose=0,callbacks=[es])"
   ]
  },
  {
   "cell_type": "code",
   "execution_count": 84,
   "metadata": {},
   "outputs": [],
   "source": [
    "model4.save('my_model4BIDIRECTIONALLSTM.h5') "
   ]
  },
  {
   "cell_type": "code",
   "execution_count": 85,
   "metadata": {},
   "outputs": [
    {
     "name": "stdout",
     "output_type": "stream",
     "text": [
      "99821/1 - 36s - loss: 1.5494e-04 - mae: 0.0103 - mse: 2.6670e-04\n",
      "Testing set Mean Abs Error:  0.01 MPG\n"
     ]
    }
   ],
   "source": [
    "# evaluate the keras model\n",
    "loss4, mae4, mse4 = model4.evaluate( X_test1, y_test1, verbose=2)\n",
    "print(\"Testing set Mean Abs Error: {:5.2f} MPG\".format(mae4))"
   ]
  },
  {
   "cell_type": "code",
   "execution_count": 100,
   "metadata": {},
   "outputs": [
    {
     "data": {
      "text/plain": [
       "array([[52.711163 ,  7.1750293]], dtype=float32)"
      ]
     },
     "execution_count": 100,
     "metadata": {},
     "output_type": "execute_result"
    }
   ],
   "source": [
    "test_output2 = model4.predict(X_test1, verbose=0)\n",
    "yp=sc2.inverse_transform(test_output2[1].reshape(1,-1))\n",
    "yp"
   ]
  },
  {
   "cell_type": "code",
   "execution_count": 99,
   "metadata": {},
   "outputs": [
    {
     "data": {
      "text/plain": [
       "array([[52.37638829,  6.94445801]])"
      ]
     },
     "execution_count": 99,
     "metadata": {},
     "output_type": "execute_result"
    }
   ],
   "source": [
    "yt=sc2.inverse_transform(y_test1[1].reshape(1,-1))\n",
    "yt"
   ]
  },
  {
   "cell_type": "markdown",
   "metadata": {},
   "source": [
    "# Conclusion\n",
    "\n",
    "Simple neural networks are not suitable for solving sequence problems since in sequence problems, in addition to current input, we need to keep track of the previous inputs as well. Neural Networks with some sort of memory are more suited to solving sequence problems. LSTM is one such network."
   ]
  }
 ],
 "metadata": {
  "kernelspec": {
   "display_name": "Python 3",
   "language": "python",
   "name": "python3"
  },
  "language_info": {
   "codemirror_mode": {
    "name": "ipython",
    "version": 3
   },
   "file_extension": ".py",
   "mimetype": "text/x-python",
   "name": "python",
   "nbconvert_exporter": "python",
   "pygments_lexer": "ipython3",
   "version": "3.7.6"
  }
 },
 "nbformat": 4,
 "nbformat_minor": 2
}
