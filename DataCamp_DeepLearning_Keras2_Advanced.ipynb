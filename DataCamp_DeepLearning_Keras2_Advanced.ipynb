{
 "cells": [
  {
   "cell_type": "markdown",
   "metadata": {},
   "source": [
    "1. Keras input and dense layers\n",
    "\n",
    "Hi! I'm Zach Deane-Mayer, and in this course, I'll be teaching you advanced deep learning concepts using the keras functional API. You will learn how to build functional keras models, including advanced topics such as shared layers, categorical embeddings, multiple inputs, and multiple outputs. The keras functional API is extremely simple, yet immensely powerful. By the end of this class, you will build a model that is capable of solving a regression and a classification problem at the same time.\n",
    "2. Course outline\n",
    "\n",
    "Chapter 1 is a refresher on building simple models, where you will learn to use the keras functional API. In chapter 2, you will build a keras model with 2 inputs. In chapter 3, you will learn how to generalize your 2-input model to 3 or more inputs. And finally, in chapter 4, you will build models with multiple outputs that can solve multiple problems.\n",
    "3. Course Datasets: College basketball data, 1989-2017\n",
    "\n",
    "You will be using two datasets of college basketball games from American colleges. The first dataset is from the regular season and has the following data: the IDs of the 2 teams that played, whether the first team was home or away, whether the first team won or lost the game, and by how many points the first team won or lost. For the tournament dataset, you also have the tournament \"seed\", which is a pre-tournament ranking for each team. These seeds range from 1 to 16, where the best 4 teams get a seed of 1, and the worst 4 teams get a seed of 16. You will use the difference in the two team's seeds as an input to your model.\n",
    "4. Course Datasets: College basketball data, 1989-2017\n",
    "\n",
    "Here are the first five rows of both the datasets. You can see that the team variables are encoded as integers, and the tournament dataset has one additional column: the difference between the tournament seeds for both teams. Other than the seed difference, the two datasets have identical columns. Within a given year, a team's roster stays relatively constant, but between years it can change a lot, as seniors graduate, and freshmen start. Therefore, for every year, each school is given a unique integer ID.\n",
    "5. Inputs and outputs\n",
    "\n",
    "Keras models at their simplest, are fundamentally composed of 2 parts: an input layer and an output layer.\n",
    "6. Inputs\n",
    "\n",
    "To start, I'll define a very simple keras model, which only expects a single input. I specify this using the Input() function from the keras.layers module. The number of columns in the input is specified using the shape parameter. This tells the model how much data to expect. Note that the shape argument expects a tuple.\n",
    "7. Inputs\n",
    "\n",
    "The Input function returns a \"tensor.\" If you print this tensor, you'll see that it is a tf.Tensor object, which indicates it is ready to be used by our model as input.\n",
    "8. Outputs\n",
    "\n",
    "Now that we've defined our input layer, let's define the output layer. Outputs in keras are most commonly a single dense layer, which specifies the shape of the expected output. In this case, we are expecting our model to predict a single value, so we pass one unit to the dense layer.\n",
    "9. Outputs\n",
    "\n",
    "If you print the output layer, the result is NOT a tensorflow tensor. It is a function, which takes a tensor as input and produces a tensor as output. The difference between layers and tensors is key to understanding the keras functional API. Layers are used to construct a deep learning model, and tensors are used to define the data flow through the model.\n",
    "10. Connecting inputs to outputs\n",
    "\n",
    "In this case, the input layer defines a tensor, which we pass to the output_layer() function.\n",
    "11. Connecting inputs to outputs\n",
    "\n",
    "The final output of our model is a tensor. \n",
    "# Input layers\n",
    "\n",
    "The first step in creating a neural network model is to define the Input layer. This layer takes in raw data, usually in the form of numpy arrays. The shape of the Input layer defines how many variables your neural network will use. For example, if the input data has 10 columns, you define an Input layer with a shape of (10,).\n",
    "\n",
    "In this case, you are only using one input in your network."
   ]
  },
  {
   "cell_type": "code",
   "execution_count": 1,
   "metadata": {},
   "outputs": [],
   "source": [
    "# Import Input from keras.layers\n",
    "from tensorflow.keras.layers import Input \n",
    "\n",
    "# Create an inpuœt layer of shape 1\n",
    "input_tensor = Input(shape=(1,))"
   ]
  },
  {
   "cell_type": "markdown",
   "metadata": {},
   "source": [
    "# Dense layers\n",
    "\n",
    "Once you have an Input layer, the next step is to add a Dense layer.\n",
    "\n",
    "Dense layers learn a weight matrix, where the first dimension of the matrix is the dimension of the input data, and the second dimension is the dimension of the output data. Recall that your Input layer has a shape of 1. In this case, your output layer will also have a shape of 1. This means that the Dense layer will learn a 1x1 weight matrix.\n",
    "\n",
    "In this exercise, you will add a dense layer to your model, after the input layer."
   ]
  },
  {
   "cell_type": "code",
   "execution_count": 2,
   "metadata": {},
   "outputs": [],
   "source": [
    "# Load layers\n",
    "from tensorflow.keras.layers import Input , Dense \n",
    "\n",
    "# Input layer\n",
    "input_tensor = Input(shape=(1,))\n",
    "\n",
    "# Dense layer\n",
    "output_layer = Dense(1)\n",
    "\n",
    "# Connect the dense layer to the input_tensor\n",
    "output_tensor = output_layer(input_tensor)"
   ]
  },
  {
   "cell_type": "markdown",
   "metadata": {},
   "source": []
  },
  {
   "cell_type": "markdown",
   "metadata": {},
   "source": [
    "This network will take the input, apply a linear coefficient to it, and return the result."
   ]
  },
  {
   "cell_type": "markdown",
   "metadata": {},
   "source": [
    "# Output layers\n",
    "\n",
    "Output layers are simply Dense layers! Output layers are used to reduce the dimension of the inputs to the dimension of the outputs. You'll learn more about output dimensions in chapter 4, but for now, you'll always use a single output in your neural networks, which is equivalent to Dense(1) or a dense layer with a single unit."
   ]
  },
  {
   "cell_type": "code",
   "execution_count": 3,
   "metadata": {},
   "outputs": [],
   "source": [
    "# Load layers\n",
    "from tensorflow.keras.layers import Input, Dense\n",
    "\n",
    "# Input layer\n",
    "input_tensor = Input(shape=(1,))\n",
    "\n",
    "# Create a dense layer and connect the dense layer to the input_tensor in one step\n",
    "# Note that we did this in 2 steps in the previous exercise, but are doing it in one step now\n",
    "output_tensor = Dense(1)(input_tensor)"
   ]
  },
  {
   "cell_type": "markdown",
   "metadata": {},
   "source": [
    "The output layer allows your model to make predictions."
   ]
  },
  {
   "cell_type": "markdown",
   "metadata": {},
   "source": [
    "# Build a model\n",
    "\n",
    "Once you've defined an input layer and an output layer, you can build a Keras model. The model object is how you tell Keras where the model starts and stops: where data comes in and where predictions come out."
   ]
  },
  {
   "cell_type": "code",
   "execution_count": 4,
   "metadata": {},
   "outputs": [],
   "source": [
    "# Input/dense/output layers\n",
    "from tensorflow.keras.layers import Input, Dense\n",
    "input_tensor = Input(shape=(1,))\n",
    "output_tensor = Dense(1)(input_tensor)\n",
    "\n",
    "# Build the model\n",
    "from tensorflow.keras.models import  Model\n",
    "model = Model(input_tensor, output_tensor)"
   ]
  },
  {
   "cell_type": "markdown",
   "metadata": {},
   "source": [
    "This model is a complete neural network, ready to learn from data and make prediction."
   ]
  },
  {
   "cell_type": "markdown",
   "metadata": {},
   "source": [
    "# Compile a model\n",
    "\n",
    "The final step in creating a model is compiling it. Now that you've created a model, you have to compile it before you can fit it to data. This finalizes your model, freezes all its settings, and prepares it to meet some data!\n",
    "\n",
    "During compilation, you specify the optimizer to use for fitting the model to the data, and a loss function. 'adam' is a good default optimizer to use, and will generally work well. Loss function depends on the problem at hand. Mean squared error is a common loss function and will optimize for predicting the mean, as is done in least squares regression.\n",
    "\n",
    "Mean absolute error optimizes for the median and is used in quantile regression. For this dataset, 'mean_absolute_error' works pretty well, so use it as your loss function"
   ]
  },
  {
   "cell_type": "code",
   "execution_count": null,
   "metadata": {},
   "outputs": [],
   "source": []
  },
  {
   "cell_type": "markdown",
   "metadata": {},
   "source": []
  },
  {
   "cell_type": "code",
   "execution_count": 5,
   "metadata": {},
   "outputs": [],
   "source": [
    "# Compile the model\n",
    "model.compile(optimizer='adam', loss='mean_absolute_error')"
   ]
  },
  {
   "cell_type": "markdown",
   "metadata": {},
   "source": [
    "# Visualize a model\n",
    "\n",
    "Now that you've compiled the model, take a look a the result of your hard work! You can do this by looking at the model summary, as well as its plot.\n",
    "\n",
    "The summary will tell you the names of the layers, as well as how many units they have and how many parameters are in the model.\n",
    "\n",
    "The plot will show how the layers connect to each other."
   ]
  },
  {
   "cell_type": "code",
   "execution_count": 6,
   "metadata": {},
   "outputs": [
    {
     "name": "stderr",
     "output_type": "stream",
     "text": [
      "\n",
      "Bad key savefig.frameon in file /home/abderrazak/Téléchargements/yes/envs/stuff/lib/python3.7/site-packages/matplotlib/mpl-data/stylelib/_classic_test.mplstyle, line 421 ('savefig.frameon : True')\n",
      "You probably need to get an updated matplotlibrc file from\n",
      "https://github.com/matplotlib/matplotlib/blob/v3.3.2/matplotlibrc.template\n",
      "or from the matplotlib source distribution\n",
      "\n",
      "Bad key verbose.level in file /home/abderrazak/Téléchargements/yes/envs/stuff/lib/python3.7/site-packages/matplotlib/mpl-data/stylelib/_classic_test.mplstyle, line 472 ('verbose.level  : silent      # one of silent, helpful, debug, debug-annoying')\n",
      "You probably need to get an updated matplotlibrc file from\n",
      "https://github.com/matplotlib/matplotlib/blob/v3.3.2/matplotlibrc.template\n",
      "or from the matplotlib source distribution\n",
      "\n",
      "Bad key verbose.fileo in file /home/abderrazak/Téléchargements/yes/envs/stuff/lib/python3.7/site-packages/matplotlib/mpl-data/stylelib/_classic_test.mplstyle, line 473 ('verbose.fileo  : sys.stdout  # a log filename, sys.stdout or sys.stderr')\n",
      "You probably need to get an updated matplotlibrc file from\n",
      "https://github.com/matplotlib/matplotlib/blob/v3.3.2/matplotlibrc.template\n",
      "or from the matplotlib source distribution\n",
      "In /home/abderrazak/Téléchargements/yes/envs/stuff/lib/python3.7/site-packages/matplotlib/mpl-data/stylelib/_classic_test.mplstyle: \n",
      "The text.latex.preview rcparam was deprecated in Matplotlib 3.3 and will be removed two minor releases later.\n",
      "In /home/abderrazak/Téléchargements/yes/envs/stuff/lib/python3.7/site-packages/matplotlib/mpl-data/stylelib/_classic_test.mplstyle: \n",
      "The mathtext.fallback_to_cm rcparam was deprecated in Matplotlib 3.3 and will be removed two minor releases later.\n",
      "In /home/abderrazak/Téléchargements/yes/envs/stuff/lib/python3.7/site-packages/matplotlib/mpl-data/stylelib/_classic_test.mplstyle: Support for setting the 'mathtext.fallback_to_cm' rcParam is deprecated since 3.3 and will be removed two minor releases later; use 'mathtext.fallback : 'cm' instead.\n",
      "In /home/abderrazak/Téléchargements/yes/envs/stuff/lib/python3.7/site-packages/matplotlib/mpl-data/stylelib/_classic_test.mplstyle: \n",
      "The validate_bool_maybe_none function was deprecated in Matplotlib 3.3 and will be removed two minor releases later.\n",
      "In /home/abderrazak/Téléchargements/yes/envs/stuff/lib/python3.7/site-packages/matplotlib/mpl-data/stylelib/_classic_test.mplstyle: \n",
      "The savefig.jpeg_quality rcparam was deprecated in Matplotlib 3.3 and will be removed two minor releases later.\n",
      "In /home/abderrazak/Téléchargements/yes/envs/stuff/lib/python3.7/site-packages/matplotlib/mpl-data/stylelib/_classic_test.mplstyle: \n",
      "The keymap.all_axes rcparam was deprecated in Matplotlib 3.3 and will be removed two minor releases later.\n",
      "In /home/abderrazak/Téléchargements/yes/envs/stuff/lib/python3.7/site-packages/matplotlib/mpl-data/stylelib/_classic_test.mplstyle: \n",
      "The animation.avconv_path rcparam was deprecated in Matplotlib 3.3 and will be removed two minor releases later.\n",
      "In /home/abderrazak/Téléchargements/yes/envs/stuff/lib/python3.7/site-packages/matplotlib/mpl-data/stylelib/_classic_test.mplstyle: \n",
      "The animation.avconv_args rcparam was deprecated in Matplotlib 3.3 and will be removed two minor releases later.\n"
     ]
    },
    {
     "name": "stdout",
     "output_type": "stream",
     "text": [
      "Model: \"functional_1\"\n",
      "_________________________________________________________________\n",
      "Layer (type)                 Output Shape              Param #   \n",
      "=================================================================\n",
      "input_4 (InputLayer)         [(None, 1)]               0         \n",
      "_________________________________________________________________\n",
      "dense_2 (Dense)              (None, 1)                 2         \n",
      "=================================================================\n",
      "Total params: 2\n",
      "Trainable params: 2\n",
      "Non-trainable params: 0\n",
      "_________________________________________________________________\n"
     ]
    },
    {
     "data": {
      "image/png": "[encoded data removed]",
      "text/plain": [
       "<IPython.core.display.Image object>"
      ]
     },
     "execution_count": 6,
     "metadata": {},
     "output_type": "execute_result"
    }
   ],
   "source": [
    "# Import the plotting function\n",
    "from tensorflow.keras.utils import plot_model\n",
    "import matplotlib.pyplot as plt\n",
    "\n",
    "# Summarize the model\n",
    "model.summary()\n",
    "\n",
    "# Plot the model\n",
    "plot_model(model, to_file='/home/abderrazak/ALLINHERE/NLP/Datacamp/model.png')\n",
    "\n"
   ]
  },
  {
   "cell_type": "code",
   "execution_count": 7,
   "metadata": {},
   "outputs": [
    {
     "data": {
      "image/png": "[encoded data removed]",
      "text/plain": [
       "<Figure size 432x288 with 1 Axes>"
      ]
     },
     "metadata": {
      "needs_background": "light"
     },
     "output_type": "display_data"
    }
   ],
   "source": [
    "# Display the image\n",
    "data = plt.imread('/home/abderrazak/ALLINHERE/NLP/Datacamp/model.png')\n",
    "plt.imshow(data)\n",
    "plt.show()"
   ]
  },
  {
   "cell_type": "markdown",
   "metadata": {},
   "source": [
    "1. Fit and evaluate a model\n",
    "\n",
    "In this lesson, you will take the model you compiled in lesson two and fit it to college basketball data.\n",
    "2. Basketball Data\n",
    "\n",
    "Your goal is to predict which team will win a tournament game. The only data you have to work with are the team's \"seeds\", which are assigned by the tournament organizers, and are a rating of how good the team is. A seed of 1 is a very good team, and a seed of 16 is a very bad team. In the 30 plus year history of the tournament, a 16 seed has beat a 1 seed exactly once. It was in 2018, which was a very exciting year for college basketball fans.\n",
    "3. Basketball Data\n",
    "\n",
    "Your input will be the difference in seed between the two teams. For example, if a 7 seed plays a 10 seed, their seed difference is 7 minus 10, or -3. If an 11 seed plays a 7 seed, their seed difference is 11 minus 7, or 4.\n",
    "4. Basketball Data\n",
    "\n",
    "Your output will be the difference in score between the two teams. For example, if team 1 scores 41 points and team 2 scores 50 points, the score difference is 41 minus 50, or negative 9. On the other hand, if team 1 scores 61 points and team 2 scores 55 points, the score difference is 61 minus 55 or positive 6.\n",
    "5. Basketball Data\n",
    "\n",
    "Therefore, your model has one input, and one output. This is exactly the model you created in lessons 1 and 2 of this chapter! You will use the difference in seeds as your input. Note that you have both a 16 seed playing a 1 seed, and a 1 seed playing a 16 seed in your data, so you'll have seed differences ranging from negative 15 to positive 15.\n",
    "6. Basketball Data\n",
    "\n",
    "A seed difference of positive 15 means that team 1 has a seed of 16 and is playing a team of seed of 1. This means team 1 is likely (though not certain) to lose. A seed difference of negative 15 means that team 1 has a seed of 1 and is playing a team of seed of 16. This means team 1 is likely (though not certain) to win. So a positive seed difference is usually predictive of a negative score difference, and a negative seed difference is usually predictive of a positive score difference.\n",
    "7. Basketball Data\n",
    "\n",
    "Our target variable is the game's score difference and ranges from about negative 50 to positive 50. This means you have games where team 1 lost by 50 points and games where they won by 50 points.\n",
    "8. Basketball Data\n",
    "\n",
    "Note that both the regular season and the tournament datasets have 2 rows per game, where the second row has the opposite signs of the first row. In other words, for a given game where the first team won, there is also a row in the dataset where team_1 and team_2 are swapped, and the first team lost.\n",
    "9. Build the model\n",
    "\n",
    "Here is the model from lessons 1 and 2, defined in a single code chunk. This is a very basic keras regression model, with one input and one output. You could use this model for any regression problem with a single predictor and a single outcome.\n",
    "10. Fit the model\n",
    "\n",
    "To fit the model, load the basketball tournament dataset from a CSV file using pandas, and then call model.fit(). Use the seed_diff column from the dataset as the input and the score_diff column from the dataset as the output. The fit method has some additional arguments, which can be useful: Batch size sets how many rows of data are used for each step of stochastic gradient descent. In this case, you'll train on 64 rows at a time. Validation split tells Keras to use a holdout set, and return metrics on accuracy using that data. This can be useful for validating that your models will perform well on new data. When verbose is set to True, Keras prints a log during training. This can be useful for debugging, but usually, I set it to False once I like how the model works.\n",
    "11. Evaluate the model\n",
    "\n",
    "Once you've fit a model, it is useful to evaluate it on new data. Even if you use a validation set during training, you often want to do a second check, using a new dataset, to make sure the model is predicting as expected. To do this, you can use the evaluate() method of the model, and pass it the X variables and Y variables from the new data. When you do this, Keras will report error metrics on the new data. \n",
    "\n",
    "# Fit the model to the tournament basketball data\n",
    "\n",
    "Now that the model is compiled, you are ready to fit it to some data!\n",
    "\n",
    "In this exercise, you'll use a dataset of scores from US College Basketball tournament games. Each row of the dataset has the team ids: team_1 and team_2, as integers. It also has the seed difference between the teams (seeds are assigned by the tournament committee and represent a ranking of how strong the teams are) and the score difference of the game (e.g. if team_1 wins by 5 points, the score difference is 5).\n",
    "\n",
    "To fit the model, you provide a matrix of X variables (in this case one column: the seed difference) and a matrix of Y variables (in this case one column: the score difference).\n",
    "\n",
    "The games_tourney DataFrame along with the compiled model object is available in your workspace."
   ]
  },
  {
   "cell_type": "code",
   "execution_count": 8,
   "metadata": {},
   "outputs": [
    {
     "ename": "NameError",
     "evalue": "name 'games_tourney_train' is not defined",
     "output_type": "error",
     "traceback": [
      "\u001b[0;31m---------------------------------------------------------------------------\u001b[0m",
      "\u001b[0;31mNameError\u001b[0m                                 Traceback (most recent call last)",
      "\u001b[0;32m<ipython-input-8-67eede0a61c1>\u001b[0m in \u001b[0;36m<module>\u001b[0;34m\u001b[0m\n\u001b[1;32m      1\u001b[0m \u001b[0;31m# Now fit the model\u001b[0m\u001b[0;34m\u001b[0m\u001b[0;34m\u001b[0m\u001b[0;34m\u001b[0m\u001b[0m\n\u001b[0;32m----> 2\u001b[0;31m model.fit(games_tourney_train['seed_diff'], games_tourney_train['score_diff'],\n\u001b[0m\u001b[1;32m      3\u001b[0m           \u001b[0mepochs\u001b[0m\u001b[0;34m=\u001b[0m\u001b[0;36m1\u001b[0m\u001b[0;34m,\u001b[0m\u001b[0;34m\u001b[0m\u001b[0;34m\u001b[0m\u001b[0m\n\u001b[1;32m      4\u001b[0m           \u001b[0mbatch_size\u001b[0m\u001b[0;34m=\u001b[0m\u001b[0;36m128\u001b[0m\u001b[0;34m,\u001b[0m\u001b[0;34m\u001b[0m\u001b[0;34m\u001b[0m\u001b[0m\n\u001b[1;32m      5\u001b[0m           \u001b[0mvalidation_split\u001b[0m\u001b[0;34m=\u001b[0m\u001b[0;36m0.10\u001b[0m\u001b[0;34m,\u001b[0m\u001b[0;34m\u001b[0m\u001b[0;34m\u001b[0m\u001b[0m\n",
      "\u001b[0;31mNameError\u001b[0m: name 'games_tourney_train' is not defined"
     ]
    }
   ],
   "source": [
    "# Now fit the model\n",
    "model.fit(games_tourney_train['seed_diff'], games_tourney_train['score_diff'],\n",
    "          epochs=1,\n",
    "          batch_size=128,\n",
    "          validation_split=0.10,\n",
    "          verbose=True)"
   ]
  },
  {
   "cell_type": "markdown",
   "metadata": {},
   "source": [
    "Now your model has learned something about the basketball data!"
   ]
  },
  {
   "cell_type": "markdown",
   "metadata": {},
   "source": [
    "Evaluate the model on a test set\n",
    "\n",
    "After fitting the model, you can evaluate it on new data. You will give the model a new X matrix (also called test data), allow it to make predictions, and then compare to the known y variable (also called target data).\n",
    "\n",
    "In this case, you'll use data from the post-season tournament to evaluate your model. The tournament games happen after the regular season games you used to train our model, and are therefore a good evaluation of how well your model performs out-of-sample.\n",
    "\n",
    "The games_tourney_test DataFrame along with the fitted model object is available in your workspace."
   ]
  },
  {
   "cell_type": "code",
   "execution_count": null,
   "metadata": {},
   "outputs": [],
   "source": [
    "# Load the X variable from the test data\n",
    "X_test = games_tourney_test['seed_diff']\n",
    "\n",
    "# Load the y variable from the test data\n",
    "y_test = games_tourney_test['score_diff']\n",
    "\n",
    "# Evaluate the model on the test data\n",
    "print(model.evaluate(X_test, y_test, verbose=False))"
   ]
  },
  {
   "cell_type": "markdown",
   "metadata": {},
   "source": [
    "1. Category embeddings\n",
    "\n",
    "In chapter 1, our dataset of tournament games only contained about 4,000 rows. However, we have a much bigger dataset with over 300,000 regular season games. Let's see what we can learn from a much larger sample of data! In the 2 basketball datasets you will be using in this course, there are a little under 11,000 teams. Each team is coded as an integer starting with 1 and ending with 10,887. In this lesson, you will learn how to use those team IDs as inputs to a model that learns the strength of each team.\n",
    "2. Category embeddings\n",
    "\n",
    "Categorical embeddings are an advanced type of layer, only available in deep learning libraries. They are extremely useful for dealing with high cardinality categorical data. In this dataset, the team ID variable has high cardinality. Embedding layers are also very useful for dealing with text data, such as in Word2vec models, but that is beyond the scope of this course. To model these teams in the basketball data, you'll use a very simple model that learns a \"strength\" rating for each team and uses those ratings to make predictions. To map the integer team IDs to a decimal rating, we will use an embedding layer.\n",
    "3. Inputs\n",
    "\n",
    "To get started with category embeddings, you will need an input layer. In this case, your input is a single number, ranging from 1 to 10,887, which represents each team's unique ID. Note that this dataset covers about 30 years of data, and has about 400 unique schools, giving us close to 12,000 IDs. We only have about 11,000 of those year/team combinations, because not every school has a basketball team every year.\n",
    "4. Embedding Layer\n",
    "\n",
    "To create an embedding layer, use the Embedding() function from keras.layers. Since you have 10,887 unique teams in the dataset, you define the input dimension of the embedding layer as 10,887. As you are representing each team as a single integer, use an input length of 1. You want to produce a single team strength rating, so use an output dimension of 1. Finally, name your layer, so you can easily find it when looking at the model summary, or plot. To use the embedding layer, connect it to the tensor produced by the input layer. This will produce an embedding output tensor.\n",
    "5. Flattening\n",
    "\n",
    "Embedding layers increase the dimensionality of your data. The input CSV has two dimensions (rows and columns), but embedding layers add a third dimension. This third dimension can be useful when dealing with images and text, so it is not as relevant to this course. Therefore, we use the flatten layer to flatten the embeddings from 3D to 2D. The flatten layer is also the output layer for the embedding process. Flatten layers are an advanced layer for deep learning models and can be used to transform data from multiple dimensions back down to two dimensions. They are useful for dealing with time series data, text data, and images.\n",
    "6. Put it all together\n",
    "\n",
    "Now you can wrap your embedding layer in a model. This will allow you to reuse the model for multiple inputs in the dataset. You do this by defining an input layer, then an embedding layer, then a flatten layer for the output. Finally, wrap the input tensor and flatten tensor in a model. This model can be treated exactly the same as a layer, and re-used inside of another model. "
   ]
  },
  {
   "cell_type": "markdown",
   "metadata": {},
   "source": [
    "# Define team lookup\n",
    "\n",
    "Shared layers allow a model to use the same weight matrix for multiple steps. In this exercise, you will build a \"team strength\" layer that represents each team by a single number. You will use this number for both teams in the model. The model will learn a number for each team that works well both when the team is team_1 and when the team is team_2 in the input data"
   ]
  },
  {
   "cell_type": "code",
   "execution_count": 9,
   "metadata": {},
   "outputs": [
    {
     "data": {
      "text/plain": [
       "(312178, 8)"
      ]
     },
     "execution_count": 9,
     "metadata": {},
     "output_type": "execute_result"
    }
   ],
   "source": [
    "import pandas as pd \n",
    "games_season = pd.read_csv('/home/abderrazak/ALLINHERE/NLP/Datacamp/basketball_data/games_season.csv')\n",
    "games_season.shape"
   ]
  },
  {
   "cell_type": "code",
   "execution_count": 10,
   "metadata": {
    "scrolled": true
   },
   "outputs": [
    {
     "data": {
      "text/html": [
       "<div>\n",
       "<style scoped>\n",
       "    .dataframe tbody tr th:only-of-type {\n",
       "        vertical-align: middle;\n",
       "    }\n",
       "\n",
       "    .dataframe tbody tr th {\n",
       "        vertical-align: top;\n",
       "    }\n",
       "\n",
       "    .dataframe thead th {\n",
       "        text-align: right;\n",
       "    }\n",
       "</style>\n",
       "<table border=\"1\" class=\"dataframe\">\n",
       "  <thead>\n",
       "    <tr style=\"text-align: right;\">\n",
       "      <th></th>\n",
       "      <th>season</th>\n",
       "      <th>team_1</th>\n",
       "      <th>team_2</th>\n",
       "      <th>home</th>\n",
       "      <th>score_diff</th>\n",
       "      <th>score_1</th>\n",
       "      <th>score_2</th>\n",
       "      <th>won</th>\n",
       "    </tr>\n",
       "  </thead>\n",
       "  <tbody>\n",
       "    <tr>\n",
       "      <th>0</th>\n",
       "      <td>1985</td>\n",
       "      <td>3745</td>\n",
       "      <td>6664</td>\n",
       "      <td>0</td>\n",
       "      <td>17</td>\n",
       "      <td>81</td>\n",
       "      <td>64</td>\n",
       "      <td>1</td>\n",
       "    </tr>\n",
       "    <tr>\n",
       "      <th>1</th>\n",
       "      <td>1985</td>\n",
       "      <td>126</td>\n",
       "      <td>7493</td>\n",
       "      <td>1</td>\n",
       "      <td>7</td>\n",
       "      <td>77</td>\n",
       "      <td>70</td>\n",
       "      <td>1</td>\n",
       "    </tr>\n",
       "    <tr>\n",
       "      <th>2</th>\n",
       "      <td>1985</td>\n",
       "      <td>288</td>\n",
       "      <td>3593</td>\n",
       "      <td>1</td>\n",
       "      <td>7</td>\n",
       "      <td>63</td>\n",
       "      <td>56</td>\n",
       "      <td>1</td>\n",
       "    </tr>\n",
       "    <tr>\n",
       "      <th>3</th>\n",
       "      <td>1985</td>\n",
       "      <td>1846</td>\n",
       "      <td>9881</td>\n",
       "      <td>1</td>\n",
       "      <td>16</td>\n",
       "      <td>70</td>\n",
       "      <td>54</td>\n",
       "      <td>1</td>\n",
       "    </tr>\n",
       "    <tr>\n",
       "      <th>4</th>\n",
       "      <td>1985</td>\n",
       "      <td>2675</td>\n",
       "      <td>10298</td>\n",
       "      <td>1</td>\n",
       "      <td>12</td>\n",
       "      <td>86</td>\n",
       "      <td>74</td>\n",
       "      <td>1</td>\n",
       "    </tr>\n",
       "  </tbody>\n",
       "</table>\n",
       "</div>"
      ],
      "text/plain": [
       "   season  team_1  team_2  home  score_diff  score_1  score_2  won\n",
       "0    1985    3745    6664     0          17       81       64    1\n",
       "1    1985     126    7493     1           7       77       70    1\n",
       "2    1985     288    3593     1           7       63       56    1\n",
       "3    1985    1846    9881     1          16       70       54    1\n",
       "4    1985    2675   10298     1          12       86       74    1"
      ]
     },
     "execution_count": 10,
     "metadata": {},
     "output_type": "execute_result"
    }
   ],
   "source": [
    "games_season.head()"
   ]
  },
  {
   "cell_type": "code",
   "execution_count": 14,
   "metadata": {},
   "outputs": [
    {
     "data": {
      "text/plain": [
       "10888"
      ]
     },
     "execution_count": 14,
     "metadata": {},
     "output_type": "execute_result"
    }
   ],
   "source": [
    "from numpy import unique\n",
    "n_teams = unique(games_season['team_1']).shape[0]\n",
    "n_teams"
   ]
  },
  {
   "cell_type": "code",
   "execution_count": 15,
   "metadata": {},
   "outputs": [],
   "source": [
    "# Imports\n",
    "from tensorflow.keras.layers import Embedding\n",
    "from numpy import unique\n",
    "\n",
    "# Count the unique number of teams\n",
    "n_teams = unique(games_season['team_1']).shape[0]\n",
    "\n",
    "# Create an embedding layer\n",
    "team_lookup = Embedding(input_dim=n_teams,\n",
    "                        output_dim=1,\n",
    "                        input_length=1,\n",
    "                        name='Team-Strength')"
   ]
  },
  {
   "cell_type": "markdown",
   "metadata": {},
   "source": [
    "**The embedding layer is a lot like a dictionary, but your model learns the values for each key.**"
   ]
  },
  {
   "cell_type": "markdown",
   "metadata": {},
   "source": [
    "# Define team model\n",
    "\n",
    "The team strength lookup has three components: an input, an embedding layer, and a flatten layer that creates the output.\n",
    "\n",
    "If you wrap these three layers in a model with an input and output, you can re-use that stack of three layers at multiple places.\n",
    "\n",
    "Note again that the weights for all three layers will be shared everywhere we use them."
   ]
  },
  {
   "cell_type": "code",
   "execution_count": 18,
   "metadata": {},
   "outputs": [],
   "source": [
    "# Imports\n",
    "from tensorflow.keras.layers import Input, Embedding, Flatten\n",
    "from tensorflow.keras.models import Model\n",
    "\n",
    "# Create an input layer for the team ID\n",
    "teamid_in = Input(shape=(1,))\n",
    "\n",
    "# Lookup the input in the team strength embedding layer\n",
    "strength_lookup = team_lookup(teamid_in)\n",
    "\n",
    "# Flatten the output\n",
    "strength_lookup_flat = Flatten()(strength_lookup)\n",
    "\n",
    "# Combine the operations into a single, re-usable model\n",
    "team_strength_model = Model(teamid_in,strength_lookup_flat , name='Team-Strength-Model')"
   ]
  },
  {
   "cell_type": "markdown",
   "metadata": {},
   "source": [
    "**The model will be reusable, so you can use it in two places in your final model.**\n",
    "# Shared layers\n",
    "## Defining two inputs\n",
    "\n",
    "In this exercise, you will define two input layers for the two teams in your model. This allows you to specify later in the model how the data from each team will be used differently."
   ]
  },
  {
   "cell_type": "code",
   "execution_count": 20,
   "metadata": {},
   "outputs": [],
   "source": [
    "# Input layer for team 1\n",
    "team_in_1 = Input((1,),name=\"Team-1-In\" )\n",
    "\n",
    "# Separate input layer for team 2\n",
    "team_in_2 = Input((1,),name=\"Team-2-In\")"
   ]
  },
  {
   "cell_type": "markdown",
   "metadata": {},
   "source": [
    "These two inputs will be used later for the shared layer."
   ]
  },
  {
   "cell_type": "markdown",
   "metadata": {},
   "source": [
    "# Lookup both inputs in the same model\n",
    "\n",
    "Now that you have a team strength model and an input layer for each team, you can lookup the team inputs in the shared team strength model. The two inputs will share the same weights.\n",
    "\n",
    "In this dataset, you have 10,888 unique teams. You want to learn a strength rating for each team, such that if any pair of teams plays each other, you can predict the score, even if those two teams have never played before. Furthermore, you want the strength rating to be the same, regardless of whether the team is the home team or the away team.\n",
    "\n",
    "To achieve this, you use a shared layer, defined by the re-usable model (team_strength_model()) you built in exercise 3 and the two input layers (team_in_1 and team_in_2) from the previous exercise, all of which are available in your workspace."
   ]
  },
  {
   "cell_type": "code",
   "execution_count": 21,
   "metadata": {},
   "outputs": [],
   "source": [
    "# Lookup team 1 in the team strength model\n",
    "team_1_strength = team_strength_model(team_in_1)\n",
    "\n",
    "# Lookup team 2 in the team strength model\n",
    "team_2_strength = team_strength_model(team_in_2)"
   ]
  },
  {
   "cell_type": "markdown",
   "metadata": {},
   "source": [
    "Now your model knows how strong each team is.\n",
    "# Merge layers"
   ]
  },
  {
   "cell_type": "code",
   "execution_count": 28,
   "metadata": {},
   "outputs": [],
   "source": [
    "def my_decorator(func):\n",
    "    def wrapper():\n",
    "        print(\"Something is happening before the function is called.\")\n",
    "        func()\n",
    "        print(\"Something is happening after the function is called.\")\n",
    "    return wrapper\n",
    "\n",
    "@my_decorator\n",
    "def say_whee():\n",
    "    print(\"Whee!\")"
   ]
  },
  {
   "cell_type": "code",
   "execution_count": 29,
   "metadata": {},
   "outputs": [
    {
     "name": "stdout",
     "output_type": "stream",
     "text": [
      "Something is happening before the function is called.\n",
      "Whee!\n",
      "Something is happening after the function is called.\n"
     ]
    },
    {
     "data": {
      "text/plain": [
       "<function __main__.my_decorator.<locals>.wrapper()>"
      ]
     },
     "execution_count": 29,
     "metadata": {},
     "output_type": "execute_result"
    }
   ],
   "source": [
    "my_decorator(say_whee())"
   ]
  },
  {
   "cell_type": "markdown",
   "metadata": {},
   "source": [
    "# Output layer using shared layer\n",
    "\n",
    "Now that you've looked up how \"strong\" each team is, subtract the team strengths to determine which team is expected to win the game.\n",
    "\n",
    "This is a bit like the seeds that the tournament committee uses, which are also a measure of team strength. But rather than using seed differences to predict score differences, you'll use the difference of your own team strength model to predict score differences.\n",
    "\n",
    "The subtract layer will combine the weights from the two layers by subtracting them."
   ]
  },
  {
   "cell_type": "code",
   "execution_count": 31,
   "metadata": {},
   "outputs": [],
   "source": [
    "# Import the Subtract layer from keras\n",
    "from tensorflow.keras.layers import Subtract\n",
    "\n",
    "# Create a subtract layer using the inputs from the previous exercise\n",
    "score_diff = Subtract()([team_1_strength,team_2_strength])"
   ]
  },
  {
   "cell_type": "markdown",
   "metadata": {},
   "source": [
    "This setup subracts the team strength ratings to determine a winner.\n",
    "# Model using two inputs and one output\n",
    "\n",
    "Now that you have your two inputs (team id 1 and team id 2) and output (score difference), you can wrap them up in a model so you can use it later for fitting to data and evaluating on new data.\n",
    "\n",
    "Your model will look like the following diagram:"
   ]
  },
  {
   "cell_type": "code",
   "execution_count": 34,
   "metadata": {},
   "outputs": [],
   "source": [
    "# Subtraction layer from previous exercise\n",
    "score_diff = Subtract()([team_1_strength, team_2_strength])\n",
    "\n",
    "# Create the model\n",
    "model = Model([team_in_1,team_in_2 ],score_diff)\n",
    "\n",
    "# Compile the model\n",
    "model.compile(optimizer='adam', loss='mean_absolute_error')"
   ]
  },
  {
   "cell_type": "code",
   "execution_count": 35,
   "metadata": {},
   "outputs": [
    {
     "name": "stdout",
     "output_type": "stream",
     "text": [
      "Model: \"functional_5\"\n",
      "__________________________________________________________________________________________________\n",
      "Layer (type)                    Output Shape         Param #     Connected to                     \n",
      "==================================================================================================\n",
      "Team-1-In (InputLayer)          [(None, 1)]          0                                            \n",
      "__________________________________________________________________________________________________\n",
      "Team-2-In (InputLayer)          [(None, 1)]          0                                            \n",
      "__________________________________________________________________________________________________\n",
      "Team-Strength-Model (Functional (None, 1)            10888       Team-1-In[0][0]                  \n",
      "                                                                 Team-2-In[0][0]                  \n",
      "__________________________________________________________________________________________________\n",
      "subtract_3 (Subtract)           (None, 1)            0           Team-Strength-Model[0][0]        \n",
      "                                                                 Team-Strength-Model[1][0]        \n",
      "==================================================================================================\n",
      "Total params: 10,888\n",
      "Trainable params: 10,888\n",
      "Non-trainable params: 0\n",
      "__________________________________________________________________________________________________\n"
     ]
    }
   ],
   "source": [
    "model.summary()"
   ]
  },
  {
   "cell_type": "markdown",
   "metadata": {},
   "source": [
    "Now your model is finalized and ready to fit to data.\n",
    "# Predict from your model\n",
    "\n",
    "1. Fitting and Predicting with multiple inputs\n",
    "\n",
    "Keras models with multiple inputs work just like Keras models with a single input. They use the same fit, evaluate, and predict methods. The only difference is that all of these methods take lists of inputs, rather a single input.\n",
    "\n",
    "2. Fit with multiple inputs\n",
    "\n",
    "To fit a model with multiple inputs, provide the model a list of inputs. In this case, since you have two inputs, the model needs to have an input list of length 2. You want to use this model to predict a single target, so the target for training is still a single object. While this network is very simple, the concept it illustrates is quite advanced. Later in the course, you will process different inputs to the network in different ways. In other words, multiple inputs let you do data pre-processing as part of the model you learn!\n",
    "\n",
    "3. Predict with multiple inputs\n",
    "\n",
    "To make predictions from a model with two inputs, you also need to provide two inputs to the model's predict() method, again as a list. In this case, I've defined a model that adds numbers. So in order to add 1 and 2, first convert 1 and 2 into 2D numpy arrays. Then pass 1 as the first input, and 2 as the second input. The model outputs 3. Note that the data type of the output is float32. You can also add other numbers with this simple model, e.g. 42 and 119. Which add up to 161.\n",
    "\n",
    "4. Evaluate with multiple inputs\n",
    "\n",
    "To evaluate a model with multiple inputs, simply give it a list of inputs, along with a single output, and the model will return its loss on the new data. In this case, since I've hard-coded the model to add the 2 inputs, the evaluation error on the test data is zero.\n"
   ]
  },
  {
   "cell_type": "code",
   "execution_count": null,
   "metadata": {},
   "outputs": [],
   "source": []
  }
 ],
 "metadata": {
  "kernelspec": {
   "display_name": "Python 3",
   "language": "python",
   "name": "python3"
  },
  "language_info": {
   "codemirror_mode": {
    "name": "ipython",
    "version": 3
   },
   "file_extension": ".py",
   "mimetype": "text/x-python",
   "name": "python",
   "nbconvert_exporter": "python",
   "pygments_lexer": "ipython3",
   "version": "3.7.3"
  }
 },
 "nbformat": 4,
 "nbformat_minor": 2
}
